{
 "cells": [
  {
   "cell_type": "markdown",
   "id": "0c3d5a28",
   "metadata": {},
   "source": [
    "# PEC 1 Asignatura Aprendizaje Automático Aplicado\n",
    "\n",
    "## Máster en Data Science - UCJC\n",
    "\n",
    "### Curso 2023/2024"
   ]
  },
  {
   "cell_type": "markdown",
   "id": "3944e94e-1226-4437-b439-4401107e23a2",
   "metadata": {},
   "source": [
    "VICENTE VILLAGRASA, DIEGO"
   ]
  },
  {
   "cell_type": "markdown",
   "id": "da911232",
   "metadata": {},
   "source": [
    "### EMAIL ALUMNO:"
   ]
  },
  {
   "cell_type": "markdown",
   "id": "a912fb38-fa4d-4a6c-a876-0d36c01692e2",
   "metadata": {},
   "source": [
    "diegovicentevillagrasa@gmail.com"
   ]
  },
  {
   "cell_type": "markdown",
   "id": "1a1b7c6d-6e4b-42dc-bc47-d7fea7a62a11",
   "metadata": {},
   "source": [
    "#### Uso de Datasets en la PEC1\n",
    "\n",
    "En esta práctica, nos enfocaremos en utilizar los datasets que están específicamente incluidos en Scikit-learn. Es importante que todos los datasets que utilices provengan de la sección de **Toy Datasets** que puedes encontrar en la documentación oficial de Scikit-learn.\n",
    "\n",
    "Puedes acceder a esta sección a través del siguiente enlace: [Toy Datasets en Scikit-learn](https://scikit-learn.org/stable/datasets/toy_dataset.html).\n",
    "\n",
    "Estos datasets han sido seleccionados por su utilidad y simplicidad para fines educativos, proporcionando una excelente oportunidad para aprender y practicar diversas técnicas de aprendizaje automático. Algunos ejemplos populares de estos datasets incluyen el *Iris dataset*, *Digits dataset*, *Wine dataset*, entre otros.\n",
    "\n",
    "Asegúrate de explorar y utilizar estos datasets para tus ejercila PEC1.ráctica.\n"
   ]
  },
  {
   "cell_type": "code",
   "execution_count": 1,
   "id": "db652c93",
   "metadata": {},
   "outputs": [],
   "source": [
    "import warnings\n",
    "warnings.filterwarnings('ignore')\n",
    "\n",
    "import sklearn\n",
    "from sklearn.model_selection import train_test_split\n",
    "from sklearn import datasets\n",
    "from sklearn.preprocessing import StandardScaler\n",
    "from sklearn.neighbors import KNeighborsClassifier\n",
    "from sklearn.metrics import accuracy_score\n",
    "\n",
    "import matplotlib.pyplot as plt\n",
    "\n",
    "import pandas as pd\n",
    "\n",
    "import numpy as np"
   ]
  },
  {
   "cell_type": "markdown",
   "id": "91d70b1d",
   "metadata": {},
   "source": [
    "### Pregunta 1"
   ]
  },
  {
   "cell_type": "markdown",
   "id": "a9504e91",
   "metadata": {},
   "source": [
    "##### Cargar un set de datos y división en distintos porcentajes de train/test\n",
    "\n",
    "\n",
    "- Descarga un dataset de los reseñados arriba\n",
    "- Describe las dimensiones del Dataset\n",
    "- Define si es para hacer Regresión y Clasificación y por qué\n",
    "- Divide los datos en conjuntos de TRAIN y TEST (en diferentes % de test). Pruebe diferentes parámetros del método train_test_split de Scikit-Learn\n",
    "- Evalua las características, dimensiones y contenido de los conjuntos de datos resultantes al dividirlos"
   ]
  },
  {
   "cell_type": "markdown",
   "id": "85f51d02",
   "metadata": {},
   "source": [
    "#### Descarga un dataset de los reseñados arriba"
   ]
  },
  {
   "cell_type": "code",
   "execution_count": 2,
   "id": "59d6b671-2ace-4d07-95d4-588bc1887e0c",
   "metadata": {},
   "outputs": [],
   "source": [
    "wine = datasets.load_wine()"
   ]
  },
  {
   "cell_type": "markdown",
   "id": "9f5344f3",
   "metadata": {},
   "source": [
    "#### Describe las dimensiones del Dataset"
   ]
  },
  {
   "cell_type": "code",
   "execution_count": 3,
   "id": "16405a43-2f3f-4af0-bc0a-6d8d01d294ab",
   "metadata": {},
   "outputs": [
    {
     "data": {
      "text/plain": [
       "(178, 13)"
      ]
     },
     "execution_count": 3,
     "metadata": {},
     "output_type": "execute_result"
    }
   ],
   "source": [
    "wine.data.shape"
   ]
  },
  {
   "cell_type": "markdown",
   "id": "2b6762ec",
   "metadata": {},
   "source": [
    "Las dimensiones del dataset $wine$ es de 178 filas y 13 columnas"
   ]
  },
  {
   "cell_type": "markdown",
   "id": "933dd8bd",
   "metadata": {},
   "source": [
    "#### Define si es para hacer Regresión y Clasificación y por qué"
   ]
  },
  {
   "cell_type": "code",
   "execution_count": 4,
   "id": "252d4078-3cc8-4db6-923c-d0fe5b381e68",
   "metadata": {},
   "outputs": [
    {
     "data": {
      "text/html": [
       "<div>\n",
       "<style scoped>\n",
       "    .dataframe tbody tr th:only-of-type {\n",
       "        vertical-align: middle;\n",
       "    }\n",
       "\n",
       "    .dataframe tbody tr th {\n",
       "        vertical-align: top;\n",
       "    }\n",
       "\n",
       "    .dataframe thead th {\n",
       "        text-align: right;\n",
       "    }\n",
       "</style>\n",
       "<table border=\"1\" class=\"dataframe\">\n",
       "  <thead>\n",
       "    <tr style=\"text-align: right;\">\n",
       "      <th></th>\n",
       "      <th>alcohol</th>\n",
       "      <th>malic_acid</th>\n",
       "      <th>ash</th>\n",
       "      <th>alcalinity_of_ash</th>\n",
       "      <th>magnesium</th>\n",
       "      <th>total_phenols</th>\n",
       "      <th>flavanoids</th>\n",
       "      <th>nonflavanoid_phenols</th>\n",
       "      <th>proanthocyanins</th>\n",
       "      <th>color_intensity</th>\n",
       "      <th>hue</th>\n",
       "      <th>od280/od315_of_diluted_wines</th>\n",
       "      <th>proline</th>\n",
       "    </tr>\n",
       "  </thead>\n",
       "  <tbody>\n",
       "    <tr>\n",
       "      <th>0</th>\n",
       "      <td>14.23</td>\n",
       "      <td>1.71</td>\n",
       "      <td>2.43</td>\n",
       "      <td>15.6</td>\n",
       "      <td>127.0</td>\n",
       "      <td>2.80</td>\n",
       "      <td>3.06</td>\n",
       "      <td>0.28</td>\n",
       "      <td>2.29</td>\n",
       "      <td>5.64</td>\n",
       "      <td>1.04</td>\n",
       "      <td>3.92</td>\n",
       "      <td>1065.0</td>\n",
       "    </tr>\n",
       "    <tr>\n",
       "      <th>1</th>\n",
       "      <td>13.20</td>\n",
       "      <td>1.78</td>\n",
       "      <td>2.14</td>\n",
       "      <td>11.2</td>\n",
       "      <td>100.0</td>\n",
       "      <td>2.65</td>\n",
       "      <td>2.76</td>\n",
       "      <td>0.26</td>\n",
       "      <td>1.28</td>\n",
       "      <td>4.38</td>\n",
       "      <td>1.05</td>\n",
       "      <td>3.40</td>\n",
       "      <td>1050.0</td>\n",
       "    </tr>\n",
       "    <tr>\n",
       "      <th>2</th>\n",
       "      <td>13.16</td>\n",
       "      <td>2.36</td>\n",
       "      <td>2.67</td>\n",
       "      <td>18.6</td>\n",
       "      <td>101.0</td>\n",
       "      <td>2.80</td>\n",
       "      <td>3.24</td>\n",
       "      <td>0.30</td>\n",
       "      <td>2.81</td>\n",
       "      <td>5.68</td>\n",
       "      <td>1.03</td>\n",
       "      <td>3.17</td>\n",
       "      <td>1185.0</td>\n",
       "    </tr>\n",
       "    <tr>\n",
       "      <th>3</th>\n",
       "      <td>14.37</td>\n",
       "      <td>1.95</td>\n",
       "      <td>2.50</td>\n",
       "      <td>16.8</td>\n",
       "      <td>113.0</td>\n",
       "      <td>3.85</td>\n",
       "      <td>3.49</td>\n",
       "      <td>0.24</td>\n",
       "      <td>2.18</td>\n",
       "      <td>7.80</td>\n",
       "      <td>0.86</td>\n",
       "      <td>3.45</td>\n",
       "      <td>1480.0</td>\n",
       "    </tr>\n",
       "    <tr>\n",
       "      <th>4</th>\n",
       "      <td>13.24</td>\n",
       "      <td>2.59</td>\n",
       "      <td>2.87</td>\n",
       "      <td>21.0</td>\n",
       "      <td>118.0</td>\n",
       "      <td>2.80</td>\n",
       "      <td>2.69</td>\n",
       "      <td>0.39</td>\n",
       "      <td>1.82</td>\n",
       "      <td>4.32</td>\n",
       "      <td>1.04</td>\n",
       "      <td>2.93</td>\n",
       "      <td>735.0</td>\n",
       "    </tr>\n",
       "  </tbody>\n",
       "</table>\n",
       "</div>"
      ],
      "text/plain": [
       "   alcohol  malic_acid   ash  alcalinity_of_ash  magnesium  total_phenols  \\\n",
       "0    14.23        1.71  2.43               15.6      127.0           2.80   \n",
       "1    13.20        1.78  2.14               11.2      100.0           2.65   \n",
       "2    13.16        2.36  2.67               18.6      101.0           2.80   \n",
       "3    14.37        1.95  2.50               16.8      113.0           3.85   \n",
       "4    13.24        2.59  2.87               21.0      118.0           2.80   \n",
       "\n",
       "   flavanoids  nonflavanoid_phenols  proanthocyanins  color_intensity   hue  \\\n",
       "0        3.06                  0.28             2.29             5.64  1.04   \n",
       "1        2.76                  0.26             1.28             4.38  1.05   \n",
       "2        3.24                  0.30             2.81             5.68  1.03   \n",
       "3        3.49                  0.24             2.18             7.80  0.86   \n",
       "4        2.69                  0.39             1.82             4.32  1.04   \n",
       "\n",
       "   od280/od315_of_diluted_wines  proline  \n",
       "0                          3.92   1065.0  \n",
       "1                          3.40   1050.0  \n",
       "2                          3.17   1185.0  \n",
       "3                          3.45   1480.0  \n",
       "4                          2.93    735.0  "
      ]
     },
     "execution_count": 4,
     "metadata": {},
     "output_type": "execute_result"
    }
   ],
   "source": [
    "# Se visualiza el contenido del dataset\n",
    "wine_df = pd.DataFrame(wine.data, columns=wine.feature_names)\n",
    "wine_df.head()"
   ]
  },
  {
   "cell_type": "markdown",
   "id": "02e2d6d2",
   "metadata": {},
   "source": [
    "Tras ver el contenido del dataset $wine$ se puede afirmar que se puede realizar tanto regresión como clasificación. Esto se debe a que la tabla contiene un dato de clasificación de que tipo es cada vino (tipo 0, tipo 1 y tipo 2), y contiene muchos datos con los que se puede predecir alguna característica del vino. \n",
    "\n",
    "Por tanto, se podrá hacer regresión y clasificación sobre el dataset $wine$"
   ]
  },
  {
   "cell_type": "code",
   "execution_count": 5,
   "id": "a8bf623e",
   "metadata": {},
   "outputs": [
    {
     "data": {
      "text/plain": [
       "array([0, 0, 0, 0, 0, 0, 0, 0, 0, 0, 0, 0, 0, 0, 0, 0, 0, 0, 0, 0, 0, 0,\n",
       "       0, 0, 0, 0, 0, 0, 0, 0, 0, 0, 0, 0, 0, 0, 0, 0, 0, 0, 0, 0, 0, 0,\n",
       "       0, 0, 0, 0, 0, 0, 0, 0, 0, 0, 0, 0, 0, 0, 0, 1, 1, 1, 1, 1, 1, 1,\n",
       "       1, 1, 1, 1, 1, 1, 1, 1, 1, 1, 1, 1, 1, 1, 1, 1, 1, 1, 1, 1, 1, 1,\n",
       "       1, 1, 1, 1, 1, 1, 1, 1, 1, 1, 1, 1, 1, 1, 1, 1, 1, 1, 1, 1, 1, 1,\n",
       "       1, 1, 1, 1, 1, 1, 1, 1, 1, 1, 1, 1, 1, 1, 1, 1, 1, 1, 1, 1, 2, 2,\n",
       "       2, 2, 2, 2, 2, 2, 2, 2, 2, 2, 2, 2, 2, 2, 2, 2, 2, 2, 2, 2, 2, 2,\n",
       "       2, 2, 2, 2, 2, 2, 2, 2, 2, 2, 2, 2, 2, 2, 2, 2, 2, 2, 2, 2, 2, 2,\n",
       "       2, 2])"
      ]
     },
     "execution_count": 5,
     "metadata": {},
     "output_type": "execute_result"
    }
   ],
   "source": [
    "wine.target # Clases de los vinos"
   ]
  },
  {
   "cell_type": "markdown",
   "id": "1f40d133",
   "metadata": {},
   "source": [
    "#### Divide los datos en conjuntos de TRAIN y TEST (en diferentes % de test). Pruebe diferentes parámetros del método train_test_split de Scikit-Learn"
   ]
  },
  {
   "cell_type": "markdown",
   "id": "27bcaa60",
   "metadata": {},
   "source": [
    "El método $train$_ $test$_ $split$ tiene los siguientes parámetros:\n",
    "\n",
    "- test_size: Se indica de 0 a 1 la proporción del dataset que corresponderá al conjunto de datos de test. Lo que quede restante será el conjunto de datos de train. Si no se especifica este parámetro, este valdrá 0.25 de manera automática.\n",
    "\n",
    "- train_size: Se indica de 0 a 1 la proporción del dataset que corresponderá al conjunto de datos de train. Lo que quede restante será el conjunto de datos de test. Si no se especifica este parámetro, el tamaño de train se adaptará a los datos restantes que deje test. \n",
    "\n",
    "- random_state: Con este parámetro se podrá elegir la semilla aleatoria que controla el proceso de división de datos en train y test. Si se fija una en concreto, siempre se obtendrá la misma partición de datos. \n",
    "\n",
    "- shuffle: Si se señala este parámetro como True, los datos se mezclarán antes de realizar la división en train y test. Si no, los datos se dejarán en la posición original.\n",
    "\n",
    "- stratify: Si señala este parámetro como True, el conjunto de datos se dividirá conservando las proporciones originales de la base de datos, es decir, si tenemos una base de datos de manzanas y peras, y estas se dividen en una proporción de 40% / 60%, se conservará dicha proporción en las particiones de test y train sin importar el tamaño de estas.\n",
    "\n",
    "Ahora conociendo la función a detalle, se va a proceder a crear distintas particiones con parámetros diferentes."
   ]
  },
  {
   "cell_type": "code",
   "execution_count": 6,
   "id": "f00cfeec",
   "metadata": {},
   "outputs": [],
   "source": [
    "X_train_1, X_test_1, y_train_1, y_test_1 = train_test_split(wine.data, wine.target)\n",
    "# IGUAL A X_train, X_test, y_train, y_test = train_test_split(wine.data, wine.target, test_size=0.25, random_state=0)"
   ]
  },
  {
   "cell_type": "code",
   "execution_count": 14,
   "id": "bd699732",
   "metadata": {},
   "outputs": [],
   "source": [
    "X_train_2, X_test_2, y_train_2, y_test_2 = train_test_split(wine.data, wine.target, test_size=0.5, shuffle = False)"
   ]
  },
  {
   "cell_type": "code",
   "execution_count": 18,
   "id": "848f728f",
   "metadata": {},
   "outputs": [],
   "source": [
    "X_train_3, X_test_3, y_train_3, y_test_3 = train_test_split(wine.data, wine.target, train_size=0.5, shuffle = True, random_state= 58)"
   ]
  },
  {
   "cell_type": "code",
   "execution_count": 9,
   "id": "d33e5799",
   "metadata": {},
   "outputs": [],
   "source": [
    "X_train_4, X_test_4, y_train_4, y_test_4 = train_test_split(wine.data, wine.target, test_size=0.3, stratify = wine.target)"
   ]
  },
  {
   "cell_type": "markdown",
   "id": "71769b8c",
   "metadata": {},
   "source": [
    "#### Evalua las características, dimensiones y contenido de los conjuntos de datos resultantes al dividirlos"
   ]
  },
  {
   "cell_type": "markdown",
   "id": "a6991307",
   "metadata": {},
   "source": [
    "##### Características\n",
    "\n",
    "Todos los splits tienen las 13 columnas originales del dataset wine. Esto nunca cambiará, ya que es necesario que todos los splits tengan los mismos $features$ para el correcto funcionamiento del proceso de entrenamiento de modelos."
   ]
  },
  {
   "cell_type": "markdown",
   "id": "097de371",
   "metadata": {},
   "source": [
    "##### Dimensiones y contenido\n",
    "\n",
    "En este aspecto si que comienzan a variar los splits. Algunas observaciones son:\n",
    "\n",
    "- Train test 1: Este es un train test sin cambiar parámetros, por tanto, el train tendrá un tamaño del 75% de la base de datos, mientras que el test el 25% restante. Se realiza un mezclado de datos, ya que el shuffle de manera predeterminada está en True. No se mantiene la proporción de tipos de datos ya que stratify está desactivado de manera predeterminada.\n",
    "\n",
    "- Train test 2: La diferencia con el caso anterior es que ahora el train y test tienen la misma cantidad de datos, 50% y 50% de la base de datos original. Aparte, se ha desactivado el parámetro shuffle, lo que significa que los datos no se mezclarán tras antes de hacer la separación de datos.\n",
    "\n",
    "- Train test 3: Este train test es idéntico al anterior, solo que se ha activado de nuevo el shuffle. Esto permite observar lo que provoca este parámetro sobre los splits. Aparte, se ha fijado como semilla aleatoria 58, usando el parámetro $random$_ $state$, lo que permite siempre obtener el mismo resultado con dicha semilla y parámetros.\n",
    "\n",
    "- Train test 4: Por último, se ha hecho un split donde el tamaño del test es de 30%, y el de train de 70%. Aparte, se ha activado el parámetro stratify. Es decir, la proporción de los tres tipos de vino será igual en el test y en el train.\n",
    "\n",
    "A continuación se muestran las primeras filas de cada x_train, para poder observar las diferencias de manera visual:"
   ]
  },
  {
   "cell_type": "code",
   "execution_count": 17,
   "id": "971b8916",
   "metadata": {},
   "outputs": [
    {
     "data": {
      "text/html": [
       "<div>\n",
       "<style scoped>\n",
       "    .dataframe tbody tr th:only-of-type {\n",
       "        vertical-align: middle;\n",
       "    }\n",
       "\n",
       "    .dataframe tbody tr th {\n",
       "        vertical-align: top;\n",
       "    }\n",
       "\n",
       "    .dataframe thead th {\n",
       "        text-align: right;\n",
       "    }\n",
       "</style>\n",
       "<table border=\"1\" class=\"dataframe\">\n",
       "  <thead>\n",
       "    <tr style=\"text-align: right;\">\n",
       "      <th></th>\n",
       "      <th>alcohol</th>\n",
       "      <th>malic_acid</th>\n",
       "      <th>ash</th>\n",
       "      <th>alcalinity_of_ash</th>\n",
       "      <th>magnesium</th>\n",
       "      <th>total_phenols</th>\n",
       "      <th>flavanoids</th>\n",
       "      <th>nonflavanoid_phenols</th>\n",
       "      <th>proanthocyanins</th>\n",
       "      <th>color_intensity</th>\n",
       "      <th>hue</th>\n",
       "      <th>od280/od315_of_diluted_wines</th>\n",
       "      <th>proline</th>\n",
       "    </tr>\n",
       "  </thead>\n",
       "  <tbody>\n",
       "    <tr>\n",
       "      <th>0</th>\n",
       "      <td>12.72</td>\n",
       "      <td>1.81</td>\n",
       "      <td>2.20</td>\n",
       "      <td>18.8</td>\n",
       "      <td>86.0</td>\n",
       "      <td>2.20</td>\n",
       "      <td>2.53</td>\n",
       "      <td>0.26</td>\n",
       "      <td>1.77</td>\n",
       "      <td>3.90</td>\n",
       "      <td>1.16</td>\n",
       "      <td>3.14</td>\n",
       "      <td>714.0</td>\n",
       "    </tr>\n",
       "    <tr>\n",
       "      <th>1</th>\n",
       "      <td>12.29</td>\n",
       "      <td>1.41</td>\n",
       "      <td>1.98</td>\n",
       "      <td>16.0</td>\n",
       "      <td>85.0</td>\n",
       "      <td>2.55</td>\n",
       "      <td>2.50</td>\n",
       "      <td>0.29</td>\n",
       "      <td>1.77</td>\n",
       "      <td>2.90</td>\n",
       "      <td>1.23</td>\n",
       "      <td>2.74</td>\n",
       "      <td>428.0</td>\n",
       "    </tr>\n",
       "    <tr>\n",
       "      <th>2</th>\n",
       "      <td>14.06</td>\n",
       "      <td>2.15</td>\n",
       "      <td>2.61</td>\n",
       "      <td>17.6</td>\n",
       "      <td>121.0</td>\n",
       "      <td>2.60</td>\n",
       "      <td>2.51</td>\n",
       "      <td>0.31</td>\n",
       "      <td>1.25</td>\n",
       "      <td>5.05</td>\n",
       "      <td>1.06</td>\n",
       "      <td>3.58</td>\n",
       "      <td>1295.0</td>\n",
       "    </tr>\n",
       "    <tr>\n",
       "      <th>3</th>\n",
       "      <td>13.88</td>\n",
       "      <td>5.04</td>\n",
       "      <td>2.23</td>\n",
       "      <td>20.0</td>\n",
       "      <td>80.0</td>\n",
       "      <td>0.98</td>\n",
       "      <td>0.34</td>\n",
       "      <td>0.40</td>\n",
       "      <td>0.68</td>\n",
       "      <td>4.90</td>\n",
       "      <td>0.58</td>\n",
       "      <td>1.33</td>\n",
       "      <td>415.0</td>\n",
       "    </tr>\n",
       "    <tr>\n",
       "      <th>4</th>\n",
       "      <td>12.21</td>\n",
       "      <td>1.19</td>\n",
       "      <td>1.75</td>\n",
       "      <td>16.8</td>\n",
       "      <td>151.0</td>\n",
       "      <td>1.85</td>\n",
       "      <td>1.28</td>\n",
       "      <td>0.14</td>\n",
       "      <td>2.50</td>\n",
       "      <td>2.85</td>\n",
       "      <td>1.28</td>\n",
       "      <td>3.07</td>\n",
       "      <td>718.0</td>\n",
       "    </tr>\n",
       "  </tbody>\n",
       "</table>\n",
       "</div>"
      ],
      "text/plain": [
       "   alcohol  malic_acid   ash  alcalinity_of_ash  magnesium  total_phenols  \\\n",
       "0    12.72        1.81  2.20               18.8       86.0           2.20   \n",
       "1    12.29        1.41  1.98               16.0       85.0           2.55   \n",
       "2    14.06        2.15  2.61               17.6      121.0           2.60   \n",
       "3    13.88        5.04  2.23               20.0       80.0           0.98   \n",
       "4    12.21        1.19  1.75               16.8      151.0           1.85   \n",
       "\n",
       "   flavanoids  nonflavanoid_phenols  proanthocyanins  color_intensity   hue  \\\n",
       "0        2.53                  0.26             1.77             3.90  1.16   \n",
       "1        2.50                  0.29             1.77             2.90  1.23   \n",
       "2        2.51                  0.31             1.25             5.05  1.06   \n",
       "3        0.34                  0.40             0.68             4.90  0.58   \n",
       "4        1.28                  0.14             2.50             2.85  1.28   \n",
       "\n",
       "   od280/od315_of_diluted_wines  proline  \n",
       "0                          3.14    714.0  \n",
       "1                          2.74    428.0  \n",
       "2                          3.58   1295.0  \n",
       "3                          1.33    415.0  \n",
       "4                          3.07    718.0  "
      ]
     },
     "execution_count": 17,
     "metadata": {},
     "output_type": "execute_result"
    }
   ],
   "source": [
    "X_train_df1 = pd.DataFrame(X_train_1, columns=wine.feature_names)\n",
    "X_train_df1.head()"
   ]
  },
  {
   "cell_type": "code",
   "execution_count": 15,
   "id": "4d3a3205",
   "metadata": {},
   "outputs": [
    {
     "data": {
      "text/html": [
       "<div>\n",
       "<style scoped>\n",
       "    .dataframe tbody tr th:only-of-type {\n",
       "        vertical-align: middle;\n",
       "    }\n",
       "\n",
       "    .dataframe tbody tr th {\n",
       "        vertical-align: top;\n",
       "    }\n",
       "\n",
       "    .dataframe thead th {\n",
       "        text-align: right;\n",
       "    }\n",
       "</style>\n",
       "<table border=\"1\" class=\"dataframe\">\n",
       "  <thead>\n",
       "    <tr style=\"text-align: right;\">\n",
       "      <th></th>\n",
       "      <th>alcohol</th>\n",
       "      <th>malic_acid</th>\n",
       "      <th>ash</th>\n",
       "      <th>alcalinity_of_ash</th>\n",
       "      <th>magnesium</th>\n",
       "      <th>total_phenols</th>\n",
       "      <th>flavanoids</th>\n",
       "      <th>nonflavanoid_phenols</th>\n",
       "      <th>proanthocyanins</th>\n",
       "      <th>color_intensity</th>\n",
       "      <th>hue</th>\n",
       "      <th>od280/od315_of_diluted_wines</th>\n",
       "      <th>proline</th>\n",
       "    </tr>\n",
       "  </thead>\n",
       "  <tbody>\n",
       "    <tr>\n",
       "      <th>0</th>\n",
       "      <td>14.23</td>\n",
       "      <td>1.71</td>\n",
       "      <td>2.43</td>\n",
       "      <td>15.6</td>\n",
       "      <td>127.0</td>\n",
       "      <td>2.80</td>\n",
       "      <td>3.06</td>\n",
       "      <td>0.28</td>\n",
       "      <td>2.29</td>\n",
       "      <td>5.64</td>\n",
       "      <td>1.04</td>\n",
       "      <td>3.92</td>\n",
       "      <td>1065.0</td>\n",
       "    </tr>\n",
       "    <tr>\n",
       "      <th>1</th>\n",
       "      <td>13.20</td>\n",
       "      <td>1.78</td>\n",
       "      <td>2.14</td>\n",
       "      <td>11.2</td>\n",
       "      <td>100.0</td>\n",
       "      <td>2.65</td>\n",
       "      <td>2.76</td>\n",
       "      <td>0.26</td>\n",
       "      <td>1.28</td>\n",
       "      <td>4.38</td>\n",
       "      <td>1.05</td>\n",
       "      <td>3.40</td>\n",
       "      <td>1050.0</td>\n",
       "    </tr>\n",
       "    <tr>\n",
       "      <th>2</th>\n",
       "      <td>13.16</td>\n",
       "      <td>2.36</td>\n",
       "      <td>2.67</td>\n",
       "      <td>18.6</td>\n",
       "      <td>101.0</td>\n",
       "      <td>2.80</td>\n",
       "      <td>3.24</td>\n",
       "      <td>0.30</td>\n",
       "      <td>2.81</td>\n",
       "      <td>5.68</td>\n",
       "      <td>1.03</td>\n",
       "      <td>3.17</td>\n",
       "      <td>1185.0</td>\n",
       "    </tr>\n",
       "    <tr>\n",
       "      <th>3</th>\n",
       "      <td>14.37</td>\n",
       "      <td>1.95</td>\n",
       "      <td>2.50</td>\n",
       "      <td>16.8</td>\n",
       "      <td>113.0</td>\n",
       "      <td>3.85</td>\n",
       "      <td>3.49</td>\n",
       "      <td>0.24</td>\n",
       "      <td>2.18</td>\n",
       "      <td>7.80</td>\n",
       "      <td>0.86</td>\n",
       "      <td>3.45</td>\n",
       "      <td>1480.0</td>\n",
       "    </tr>\n",
       "    <tr>\n",
       "      <th>4</th>\n",
       "      <td>13.24</td>\n",
       "      <td>2.59</td>\n",
       "      <td>2.87</td>\n",
       "      <td>21.0</td>\n",
       "      <td>118.0</td>\n",
       "      <td>2.80</td>\n",
       "      <td>2.69</td>\n",
       "      <td>0.39</td>\n",
       "      <td>1.82</td>\n",
       "      <td>4.32</td>\n",
       "      <td>1.04</td>\n",
       "      <td>2.93</td>\n",
       "      <td>735.0</td>\n",
       "    </tr>\n",
       "  </tbody>\n",
       "</table>\n",
       "</div>"
      ],
      "text/plain": [
       "   alcohol  malic_acid   ash  alcalinity_of_ash  magnesium  total_phenols  \\\n",
       "0    14.23        1.71  2.43               15.6      127.0           2.80   \n",
       "1    13.20        1.78  2.14               11.2      100.0           2.65   \n",
       "2    13.16        2.36  2.67               18.6      101.0           2.80   \n",
       "3    14.37        1.95  2.50               16.8      113.0           3.85   \n",
       "4    13.24        2.59  2.87               21.0      118.0           2.80   \n",
       "\n",
       "   flavanoids  nonflavanoid_phenols  proanthocyanins  color_intensity   hue  \\\n",
       "0        3.06                  0.28             2.29             5.64  1.04   \n",
       "1        2.76                  0.26             1.28             4.38  1.05   \n",
       "2        3.24                  0.30             2.81             5.68  1.03   \n",
       "3        3.49                  0.24             2.18             7.80  0.86   \n",
       "4        2.69                  0.39             1.82             4.32  1.04   \n",
       "\n",
       "   od280/od315_of_diluted_wines  proline  \n",
       "0                          3.92   1065.0  \n",
       "1                          3.40   1050.0  \n",
       "2                          3.17   1185.0  \n",
       "3                          3.45   1480.0  \n",
       "4                          2.93    735.0  "
      ]
     },
     "execution_count": 15,
     "metadata": {},
     "output_type": "execute_result"
    }
   ],
   "source": [
    "X_train_df2 = pd.DataFrame(X_train_2, columns=wine.feature_names)\n",
    "X_train_df2.head()"
   ]
  },
  {
   "cell_type": "code",
   "execution_count": 19,
   "id": "dae945a9",
   "metadata": {},
   "outputs": [
    {
     "data": {
      "text/html": [
       "<div>\n",
       "<style scoped>\n",
       "    .dataframe tbody tr th:only-of-type {\n",
       "        vertical-align: middle;\n",
       "    }\n",
       "\n",
       "    .dataframe tbody tr th {\n",
       "        vertical-align: top;\n",
       "    }\n",
       "\n",
       "    .dataframe thead th {\n",
       "        text-align: right;\n",
       "    }\n",
       "</style>\n",
       "<table border=\"1\" class=\"dataframe\">\n",
       "  <thead>\n",
       "    <tr style=\"text-align: right;\">\n",
       "      <th></th>\n",
       "      <th>alcohol</th>\n",
       "      <th>malic_acid</th>\n",
       "      <th>ash</th>\n",
       "      <th>alcalinity_of_ash</th>\n",
       "      <th>magnesium</th>\n",
       "      <th>total_phenols</th>\n",
       "      <th>flavanoids</th>\n",
       "      <th>nonflavanoid_phenols</th>\n",
       "      <th>proanthocyanins</th>\n",
       "      <th>color_intensity</th>\n",
       "      <th>hue</th>\n",
       "      <th>od280/od315_of_diluted_wines</th>\n",
       "      <th>proline</th>\n",
       "    </tr>\n",
       "  </thead>\n",
       "  <tbody>\n",
       "    <tr>\n",
       "      <th>0</th>\n",
       "      <td>13.40</td>\n",
       "      <td>3.91</td>\n",
       "      <td>2.48</td>\n",
       "      <td>23.0</td>\n",
       "      <td>102.0</td>\n",
       "      <td>1.80</td>\n",
       "      <td>0.75</td>\n",
       "      <td>0.43</td>\n",
       "      <td>1.41</td>\n",
       "      <td>7.30</td>\n",
       "      <td>0.70</td>\n",
       "      <td>1.56</td>\n",
       "      <td>750.0</td>\n",
       "    </tr>\n",
       "    <tr>\n",
       "      <th>1</th>\n",
       "      <td>13.36</td>\n",
       "      <td>2.56</td>\n",
       "      <td>2.35</td>\n",
       "      <td>20.0</td>\n",
       "      <td>89.0</td>\n",
       "      <td>1.40</td>\n",
       "      <td>0.50</td>\n",
       "      <td>0.37</td>\n",
       "      <td>0.64</td>\n",
       "      <td>5.60</td>\n",
       "      <td>0.70</td>\n",
       "      <td>2.47</td>\n",
       "      <td>780.0</td>\n",
       "    </tr>\n",
       "    <tr>\n",
       "      <th>2</th>\n",
       "      <td>13.32</td>\n",
       "      <td>3.24</td>\n",
       "      <td>2.38</td>\n",
       "      <td>21.5</td>\n",
       "      <td>92.0</td>\n",
       "      <td>1.93</td>\n",
       "      <td>0.76</td>\n",
       "      <td>0.45</td>\n",
       "      <td>1.25</td>\n",
       "      <td>8.42</td>\n",
       "      <td>0.55</td>\n",
       "      <td>1.62</td>\n",
       "      <td>650.0</td>\n",
       "    </tr>\n",
       "    <tr>\n",
       "      <th>3</th>\n",
       "      <td>14.06</td>\n",
       "      <td>1.63</td>\n",
       "      <td>2.28</td>\n",
       "      <td>16.0</td>\n",
       "      <td>126.0</td>\n",
       "      <td>3.00</td>\n",
       "      <td>3.17</td>\n",
       "      <td>0.24</td>\n",
       "      <td>2.10</td>\n",
       "      <td>5.65</td>\n",
       "      <td>1.09</td>\n",
       "      <td>3.71</td>\n",
       "      <td>780.0</td>\n",
       "    </tr>\n",
       "    <tr>\n",
       "      <th>4</th>\n",
       "      <td>12.93</td>\n",
       "      <td>2.81</td>\n",
       "      <td>2.70</td>\n",
       "      <td>21.0</td>\n",
       "      <td>96.0</td>\n",
       "      <td>1.54</td>\n",
       "      <td>0.50</td>\n",
       "      <td>0.53</td>\n",
       "      <td>0.75</td>\n",
       "      <td>4.60</td>\n",
       "      <td>0.77</td>\n",
       "      <td>2.31</td>\n",
       "      <td>600.0</td>\n",
       "    </tr>\n",
       "  </tbody>\n",
       "</table>\n",
       "</div>"
      ],
      "text/plain": [
       "   alcohol  malic_acid   ash  alcalinity_of_ash  magnesium  total_phenols  \\\n",
       "0    13.40        3.91  2.48               23.0      102.0           1.80   \n",
       "1    13.36        2.56  2.35               20.0       89.0           1.40   \n",
       "2    13.32        3.24  2.38               21.5       92.0           1.93   \n",
       "3    14.06        1.63  2.28               16.0      126.0           3.00   \n",
       "4    12.93        2.81  2.70               21.0       96.0           1.54   \n",
       "\n",
       "   flavanoids  nonflavanoid_phenols  proanthocyanins  color_intensity   hue  \\\n",
       "0        0.75                  0.43             1.41             7.30  0.70   \n",
       "1        0.50                  0.37             0.64             5.60  0.70   \n",
       "2        0.76                  0.45             1.25             8.42  0.55   \n",
       "3        3.17                  0.24             2.10             5.65  1.09   \n",
       "4        0.50                  0.53             0.75             4.60  0.77   \n",
       "\n",
       "   od280/od315_of_diluted_wines  proline  \n",
       "0                          1.56    750.0  \n",
       "1                          2.47    780.0  \n",
       "2                          1.62    650.0  \n",
       "3                          3.71    780.0  \n",
       "4                          2.31    600.0  "
      ]
     },
     "execution_count": 19,
     "metadata": {},
     "output_type": "execute_result"
    }
   ],
   "source": [
    "X_train_df3 = pd.DataFrame(X_train_3, columns=wine.feature_names)\n",
    "X_train_df3.head()"
   ]
  },
  {
   "cell_type": "code",
   "execution_count": 20,
   "id": "95c2d6a8",
   "metadata": {},
   "outputs": [
    {
     "data": {
      "text/html": [
       "<div>\n",
       "<style scoped>\n",
       "    .dataframe tbody tr th:only-of-type {\n",
       "        vertical-align: middle;\n",
       "    }\n",
       "\n",
       "    .dataframe tbody tr th {\n",
       "        vertical-align: top;\n",
       "    }\n",
       "\n",
       "    .dataframe thead th {\n",
       "        text-align: right;\n",
       "    }\n",
       "</style>\n",
       "<table border=\"1\" class=\"dataframe\">\n",
       "  <thead>\n",
       "    <tr style=\"text-align: right;\">\n",
       "      <th></th>\n",
       "      <th>alcohol</th>\n",
       "      <th>malic_acid</th>\n",
       "      <th>ash</th>\n",
       "      <th>alcalinity_of_ash</th>\n",
       "      <th>magnesium</th>\n",
       "      <th>total_phenols</th>\n",
       "      <th>flavanoids</th>\n",
       "      <th>nonflavanoid_phenols</th>\n",
       "      <th>proanthocyanins</th>\n",
       "      <th>color_intensity</th>\n",
       "      <th>hue</th>\n",
       "      <th>od280/od315_of_diluted_wines</th>\n",
       "      <th>proline</th>\n",
       "    </tr>\n",
       "  </thead>\n",
       "  <tbody>\n",
       "    <tr>\n",
       "      <th>0</th>\n",
       "      <td>13.05</td>\n",
       "      <td>1.65</td>\n",
       "      <td>2.55</td>\n",
       "      <td>18.0</td>\n",
       "      <td>98.0</td>\n",
       "      <td>2.45</td>\n",
       "      <td>2.43</td>\n",
       "      <td>0.29</td>\n",
       "      <td>1.44</td>\n",
       "      <td>4.25</td>\n",
       "      <td>1.12</td>\n",
       "      <td>2.51</td>\n",
       "      <td>1105.0</td>\n",
       "    </tr>\n",
       "    <tr>\n",
       "      <th>1</th>\n",
       "      <td>13.20</td>\n",
       "      <td>1.78</td>\n",
       "      <td>2.14</td>\n",
       "      <td>11.2</td>\n",
       "      <td>100.0</td>\n",
       "      <td>2.65</td>\n",
       "      <td>2.76</td>\n",
       "      <td>0.26</td>\n",
       "      <td>1.28</td>\n",
       "      <td>4.38</td>\n",
       "      <td>1.05</td>\n",
       "      <td>3.40</td>\n",
       "      <td>1050.0</td>\n",
       "    </tr>\n",
       "    <tr>\n",
       "      <th>2</th>\n",
       "      <td>13.17</td>\n",
       "      <td>2.59</td>\n",
       "      <td>2.37</td>\n",
       "      <td>20.0</td>\n",
       "      <td>120.0</td>\n",
       "      <td>1.65</td>\n",
       "      <td>0.68</td>\n",
       "      <td>0.53</td>\n",
       "      <td>1.46</td>\n",
       "      <td>9.30</td>\n",
       "      <td>0.60</td>\n",
       "      <td>1.62</td>\n",
       "      <td>840.0</td>\n",
       "    </tr>\n",
       "    <tr>\n",
       "      <th>3</th>\n",
       "      <td>11.45</td>\n",
       "      <td>2.40</td>\n",
       "      <td>2.42</td>\n",
       "      <td>20.0</td>\n",
       "      <td>96.0</td>\n",
       "      <td>2.90</td>\n",
       "      <td>2.79</td>\n",
       "      <td>0.32</td>\n",
       "      <td>1.83</td>\n",
       "      <td>3.25</td>\n",
       "      <td>0.80</td>\n",
       "      <td>3.39</td>\n",
       "      <td>625.0</td>\n",
       "    </tr>\n",
       "    <tr>\n",
       "      <th>4</th>\n",
       "      <td>13.73</td>\n",
       "      <td>1.50</td>\n",
       "      <td>2.70</td>\n",
       "      <td>22.5</td>\n",
       "      <td>101.0</td>\n",
       "      <td>3.00</td>\n",
       "      <td>3.25</td>\n",
       "      <td>0.29</td>\n",
       "      <td>2.38</td>\n",
       "      <td>5.70</td>\n",
       "      <td>1.19</td>\n",
       "      <td>2.71</td>\n",
       "      <td>1285.0</td>\n",
       "    </tr>\n",
       "  </tbody>\n",
       "</table>\n",
       "</div>"
      ],
      "text/plain": [
       "   alcohol  malic_acid   ash  alcalinity_of_ash  magnesium  total_phenols  \\\n",
       "0    13.05        1.65  2.55               18.0       98.0           2.45   \n",
       "1    13.20        1.78  2.14               11.2      100.0           2.65   \n",
       "2    13.17        2.59  2.37               20.0      120.0           1.65   \n",
       "3    11.45        2.40  2.42               20.0       96.0           2.90   \n",
       "4    13.73        1.50  2.70               22.5      101.0           3.00   \n",
       "\n",
       "   flavanoids  nonflavanoid_phenols  proanthocyanins  color_intensity   hue  \\\n",
       "0        2.43                  0.29             1.44             4.25  1.12   \n",
       "1        2.76                  0.26             1.28             4.38  1.05   \n",
       "2        0.68                  0.53             1.46             9.30  0.60   \n",
       "3        2.79                  0.32             1.83             3.25  0.80   \n",
       "4        3.25                  0.29             2.38             5.70  1.19   \n",
       "\n",
       "   od280/od315_of_diluted_wines  proline  \n",
       "0                          2.51   1105.0  \n",
       "1                          3.40   1050.0  \n",
       "2                          1.62    840.0  \n",
       "3                          3.39    625.0  \n",
       "4                          2.71   1285.0  "
      ]
     },
     "execution_count": 20,
     "metadata": {},
     "output_type": "execute_result"
    }
   ],
   "source": [
    "X_train_df4 = pd.DataFrame(X_train_4, columns=wine.feature_names)\n",
    "X_train_df4.head()"
   ]
  },
  {
   "cell_type": "markdown",
   "id": "49b74102",
   "metadata": {},
   "source": [
    "### Pregunta 2"
   ]
  },
  {
   "cell_type": "markdown",
   "id": "82a482be-8c00-4616-8e79-70cac29d806c",
   "metadata": {},
   "source": [
    "##### Entrenar un modelo de clasificación KNN con un dataset de scikit learn y comparar resultados de predicción entre los conjuntos de train y de test\n",
    "\n",
    "- Carga un dataset proporcionado por Scikit-Learn\n",
    "- Prepara los datos para el entrenamiento del modelo, realizando cualquier paso de pre-procesamiento necesario\n",
    "- Utiliza la función train_test_split para dividir el dataset en conjuntos de entrenamiento y prueba. Ajusta los parámetros adecuadamente para una división equitativa\n",
    "- Instancia un modelo KNN y entrena este modelo con el conjunto de entrenamiento\n",
    "- Evalúa la precisión del modelo tanto en el conjunto de entrenamiento como en el de prueba\n",
    "- Utiliza una métrica de evaluación adecuada para comparar el rendimiento en ambos conjuntos\n",
    "- Analiza los resultados obtenidos (p.e. dibujar y plotear boundary decisions...) y extraer conclusiones pertinentes, especialmente en caso de encontrar diferencias significativas en el rendimiento entre los conjuntos de entrenamiento y prueba"
   ]
  },
  {
   "cell_type": "markdown",
   "id": "aa91e932",
   "metadata": {},
   "source": [
    "#### Carga un dataset proporcionado por Scikit-Learn"
   ]
  },
  {
   "cell_type": "markdown",
   "id": "bc9ac0c2",
   "metadata": {},
   "source": [
    "Se va a cargar el dataset $breast$_ $cancer$ proporcionado por Scikit-Learn. Esta base de datos contiene diferentes análiticas de pacientes que tienen cáncer de mama. Algunas de estas muestras son benignas, y otras malignas, por tanto se podrá clasificar en 0 y 1. Es una base de datos adecuada para entrenar modelos de clasificación."
   ]
  },
  {
   "cell_type": "code",
   "execution_count": 2,
   "id": "389a0b6f",
   "metadata": {},
   "outputs": [
    {
     "data": {
      "text/html": [
       "<div>\n",
       "<style scoped>\n",
       "    .dataframe tbody tr th:only-of-type {\n",
       "        vertical-align: middle;\n",
       "    }\n",
       "\n",
       "    .dataframe tbody tr th {\n",
       "        vertical-align: top;\n",
       "    }\n",
       "\n",
       "    .dataframe thead th {\n",
       "        text-align: right;\n",
       "    }\n",
       "</style>\n",
       "<table border=\"1\" class=\"dataframe\">\n",
       "  <thead>\n",
       "    <tr style=\"text-align: right;\">\n",
       "      <th></th>\n",
       "      <th>mean radius</th>\n",
       "      <th>mean texture</th>\n",
       "      <th>mean perimeter</th>\n",
       "      <th>mean area</th>\n",
       "      <th>mean smoothness</th>\n",
       "      <th>mean compactness</th>\n",
       "      <th>mean concavity</th>\n",
       "      <th>mean concave points</th>\n",
       "      <th>mean symmetry</th>\n",
       "      <th>mean fractal dimension</th>\n",
       "      <th>...</th>\n",
       "      <th>worst radius</th>\n",
       "      <th>worst texture</th>\n",
       "      <th>worst perimeter</th>\n",
       "      <th>worst area</th>\n",
       "      <th>worst smoothness</th>\n",
       "      <th>worst compactness</th>\n",
       "      <th>worst concavity</th>\n",
       "      <th>worst concave points</th>\n",
       "      <th>worst symmetry</th>\n",
       "      <th>worst fractal dimension</th>\n",
       "    </tr>\n",
       "  </thead>\n",
       "  <tbody>\n",
       "    <tr>\n",
       "      <th>0</th>\n",
       "      <td>17.99</td>\n",
       "      <td>10.38</td>\n",
       "      <td>122.80</td>\n",
       "      <td>1001.0</td>\n",
       "      <td>0.11840</td>\n",
       "      <td>0.27760</td>\n",
       "      <td>0.3001</td>\n",
       "      <td>0.14710</td>\n",
       "      <td>0.2419</td>\n",
       "      <td>0.07871</td>\n",
       "      <td>...</td>\n",
       "      <td>25.38</td>\n",
       "      <td>17.33</td>\n",
       "      <td>184.60</td>\n",
       "      <td>2019.0</td>\n",
       "      <td>0.1622</td>\n",
       "      <td>0.6656</td>\n",
       "      <td>0.7119</td>\n",
       "      <td>0.2654</td>\n",
       "      <td>0.4601</td>\n",
       "      <td>0.11890</td>\n",
       "    </tr>\n",
       "    <tr>\n",
       "      <th>1</th>\n",
       "      <td>20.57</td>\n",
       "      <td>17.77</td>\n",
       "      <td>132.90</td>\n",
       "      <td>1326.0</td>\n",
       "      <td>0.08474</td>\n",
       "      <td>0.07864</td>\n",
       "      <td>0.0869</td>\n",
       "      <td>0.07017</td>\n",
       "      <td>0.1812</td>\n",
       "      <td>0.05667</td>\n",
       "      <td>...</td>\n",
       "      <td>24.99</td>\n",
       "      <td>23.41</td>\n",
       "      <td>158.80</td>\n",
       "      <td>1956.0</td>\n",
       "      <td>0.1238</td>\n",
       "      <td>0.1866</td>\n",
       "      <td>0.2416</td>\n",
       "      <td>0.1860</td>\n",
       "      <td>0.2750</td>\n",
       "      <td>0.08902</td>\n",
       "    </tr>\n",
       "    <tr>\n",
       "      <th>2</th>\n",
       "      <td>19.69</td>\n",
       "      <td>21.25</td>\n",
       "      <td>130.00</td>\n",
       "      <td>1203.0</td>\n",
       "      <td>0.10960</td>\n",
       "      <td>0.15990</td>\n",
       "      <td>0.1974</td>\n",
       "      <td>0.12790</td>\n",
       "      <td>0.2069</td>\n",
       "      <td>0.05999</td>\n",
       "      <td>...</td>\n",
       "      <td>23.57</td>\n",
       "      <td>25.53</td>\n",
       "      <td>152.50</td>\n",
       "      <td>1709.0</td>\n",
       "      <td>0.1444</td>\n",
       "      <td>0.4245</td>\n",
       "      <td>0.4504</td>\n",
       "      <td>0.2430</td>\n",
       "      <td>0.3613</td>\n",
       "      <td>0.08758</td>\n",
       "    </tr>\n",
       "    <tr>\n",
       "      <th>3</th>\n",
       "      <td>11.42</td>\n",
       "      <td>20.38</td>\n",
       "      <td>77.58</td>\n",
       "      <td>386.1</td>\n",
       "      <td>0.14250</td>\n",
       "      <td>0.28390</td>\n",
       "      <td>0.2414</td>\n",
       "      <td>0.10520</td>\n",
       "      <td>0.2597</td>\n",
       "      <td>0.09744</td>\n",
       "      <td>...</td>\n",
       "      <td>14.91</td>\n",
       "      <td>26.50</td>\n",
       "      <td>98.87</td>\n",
       "      <td>567.7</td>\n",
       "      <td>0.2098</td>\n",
       "      <td>0.8663</td>\n",
       "      <td>0.6869</td>\n",
       "      <td>0.2575</td>\n",
       "      <td>0.6638</td>\n",
       "      <td>0.17300</td>\n",
       "    </tr>\n",
       "    <tr>\n",
       "      <th>4</th>\n",
       "      <td>20.29</td>\n",
       "      <td>14.34</td>\n",
       "      <td>135.10</td>\n",
       "      <td>1297.0</td>\n",
       "      <td>0.10030</td>\n",
       "      <td>0.13280</td>\n",
       "      <td>0.1980</td>\n",
       "      <td>0.10430</td>\n",
       "      <td>0.1809</td>\n",
       "      <td>0.05883</td>\n",
       "      <td>...</td>\n",
       "      <td>22.54</td>\n",
       "      <td>16.67</td>\n",
       "      <td>152.20</td>\n",
       "      <td>1575.0</td>\n",
       "      <td>0.1374</td>\n",
       "      <td>0.2050</td>\n",
       "      <td>0.4000</td>\n",
       "      <td>0.1625</td>\n",
       "      <td>0.2364</td>\n",
       "      <td>0.07678</td>\n",
       "    </tr>\n",
       "  </tbody>\n",
       "</table>\n",
       "<p>5 rows × 30 columns</p>\n",
       "</div>"
      ],
      "text/plain": [
       "   mean radius  mean texture  mean perimeter  mean area  mean smoothness  \\\n",
       "0        17.99         10.38          122.80     1001.0          0.11840   \n",
       "1        20.57         17.77          132.90     1326.0          0.08474   \n",
       "2        19.69         21.25          130.00     1203.0          0.10960   \n",
       "3        11.42         20.38           77.58      386.1          0.14250   \n",
       "4        20.29         14.34          135.10     1297.0          0.10030   \n",
       "\n",
       "   mean compactness  mean concavity  mean concave points  mean symmetry  \\\n",
       "0           0.27760          0.3001              0.14710         0.2419   \n",
       "1           0.07864          0.0869              0.07017         0.1812   \n",
       "2           0.15990          0.1974              0.12790         0.2069   \n",
       "3           0.28390          0.2414              0.10520         0.2597   \n",
       "4           0.13280          0.1980              0.10430         0.1809   \n",
       "\n",
       "   mean fractal dimension  ...  worst radius  worst texture  worst perimeter  \\\n",
       "0                 0.07871  ...         25.38          17.33           184.60   \n",
       "1                 0.05667  ...         24.99          23.41           158.80   \n",
       "2                 0.05999  ...         23.57          25.53           152.50   \n",
       "3                 0.09744  ...         14.91          26.50            98.87   \n",
       "4                 0.05883  ...         22.54          16.67           152.20   \n",
       "\n",
       "   worst area  worst smoothness  worst compactness  worst concavity  \\\n",
       "0      2019.0            0.1622             0.6656           0.7119   \n",
       "1      1956.0            0.1238             0.1866           0.2416   \n",
       "2      1709.0            0.1444             0.4245           0.4504   \n",
       "3       567.7            0.2098             0.8663           0.6869   \n",
       "4      1575.0            0.1374             0.2050           0.4000   \n",
       "\n",
       "   worst concave points  worst symmetry  worst fractal dimension  \n",
       "0                0.2654          0.4601                  0.11890  \n",
       "1                0.1860          0.2750                  0.08902  \n",
       "2                0.2430          0.3613                  0.08758  \n",
       "3                0.2575          0.6638                  0.17300  \n",
       "4                0.1625          0.2364                  0.07678  \n",
       "\n",
       "[5 rows x 30 columns]"
      ]
     },
     "execution_count": 2,
     "metadata": {},
     "output_type": "execute_result"
    }
   ],
   "source": [
    "# Se carga la base de datos\n",
    "bc = datasets.load_breast_cancer()\n",
    "\n",
    "# Se visualizan las primeras filas\n",
    "bc_df = pd.DataFrame(bc.data, columns=bc.feature_names)\n",
    "bc_df.head()"
   ]
  },
  {
   "cell_type": "code",
   "execution_count": 3,
   "id": "2e515289",
   "metadata": {},
   "outputs": [
    {
     "data": {
      "text/plain": [
       "array([0, 0, 0, 0, 0, 0, 0, 0, 0, 0, 0, 0, 0, 0, 0, 0, 0, 0, 0, 1, 1, 1,\n",
       "       0, 0, 0])"
      ]
     },
     "execution_count": 3,
     "metadata": {},
     "output_type": "execute_result"
    }
   ],
   "source": [
    "bc.target[:25] # Se visualizan los primeros 25 tipos, viendo que existen 0 y 1"
   ]
  },
  {
   "cell_type": "markdown",
   "id": "455cdac6",
   "metadata": {},
   "source": [
    "#### Prepara los datos para el entrenamiento del modelo, realizando cualquier paso de pre-procesamiento necesario"
   ]
  },
  {
   "cell_type": "code",
   "execution_count": 4,
   "id": "173bbfff",
   "metadata": {},
   "outputs": [],
   "source": [
    "# Separación de la variable objetivo\n",
    "y = bc.target"
   ]
  },
  {
   "cell_type": "code",
   "execution_count": 5,
   "id": "c478da0c",
   "metadata": {},
   "outputs": [
    {
     "data": {
      "text/plain": [
       "mean radius                0\n",
       "mean texture               0\n",
       "mean perimeter             0\n",
       "mean area                  0\n",
       "mean smoothness            0\n",
       "mean compactness           0\n",
       "mean concavity             0\n",
       "mean concave points        0\n",
       "mean symmetry              0\n",
       "mean fractal dimension     0\n",
       "radius error               0\n",
       "texture error              0\n",
       "perimeter error            0\n",
       "area error                 0\n",
       "smoothness error           0\n",
       "compactness error          0\n",
       "concavity error            0\n",
       "concave points error       0\n",
       "symmetry error             0\n",
       "fractal dimension error    0\n",
       "worst radius               0\n",
       "worst texture              0\n",
       "worst perimeter            0\n",
       "worst area                 0\n",
       "worst smoothness           0\n",
       "worst compactness          0\n",
       "worst concavity            0\n",
       "worst concave points       0\n",
       "worst symmetry             0\n",
       "worst fractal dimension    0\n",
       "dtype: int64"
      ]
     },
     "execution_count": 5,
     "metadata": {},
     "output_type": "execute_result"
    }
   ],
   "source": [
    "# Comprobar si existen nulos para rellenarlos\n",
    "bc_df.isna().sum()"
   ]
  },
  {
   "cell_type": "markdown",
   "id": "54d7a5c5",
   "metadata": {},
   "source": [
    "Se puede observar en la visualización del dataset que los datos varían mucho entre columnas, por tanto, se va a normalizar el dataset para que esta diferencia no sea tan alta.\n",
    "\n",
    "Para ello, se va a utilizar el $StandardScaler$ del paquete scikit learn. Primero habrá que crear el objeto, y posteriormente normalizar los datos:"
   ]
  },
  {
   "cell_type": "code",
   "execution_count": 6,
   "id": "910f620f",
   "metadata": {},
   "outputs": [],
   "source": [
    "from sklearn.preprocessing import StandardScaler\n",
    "\n",
    "normaliser = StandardScaler() # Crear normalizador\n",
    "bc_norm = normaliser.fit_transform(bc.data) # Normalizar datos"
   ]
  },
  {
   "cell_type": "markdown",
   "id": "3d88b52b",
   "metadata": {},
   "source": [
    "Mostrando las primeras filas de la base de datos original y la normalizada, se puede observar facilmente la diferencia:"
   ]
  },
  {
   "cell_type": "code",
   "execution_count": 7,
   "id": "6772e4d8",
   "metadata": {},
   "outputs": [
    {
     "data": {
      "text/html": [
       "<div>\n",
       "<style scoped>\n",
       "    .dataframe tbody tr th:only-of-type {\n",
       "        vertical-align: middle;\n",
       "    }\n",
       "\n",
       "    .dataframe tbody tr th {\n",
       "        vertical-align: top;\n",
       "    }\n",
       "\n",
       "    .dataframe thead th {\n",
       "        text-align: right;\n",
       "    }\n",
       "</style>\n",
       "<table border=\"1\" class=\"dataframe\">\n",
       "  <thead>\n",
       "    <tr style=\"text-align: right;\">\n",
       "      <th></th>\n",
       "      <th>mean radius</th>\n",
       "      <th>mean texture</th>\n",
       "      <th>mean perimeter</th>\n",
       "      <th>mean area</th>\n",
       "      <th>mean smoothness</th>\n",
       "      <th>mean compactness</th>\n",
       "      <th>mean concavity</th>\n",
       "      <th>mean concave points</th>\n",
       "      <th>mean symmetry</th>\n",
       "      <th>mean fractal dimension</th>\n",
       "      <th>...</th>\n",
       "      <th>worst radius</th>\n",
       "      <th>worst texture</th>\n",
       "      <th>worst perimeter</th>\n",
       "      <th>worst area</th>\n",
       "      <th>worst smoothness</th>\n",
       "      <th>worst compactness</th>\n",
       "      <th>worst concavity</th>\n",
       "      <th>worst concave points</th>\n",
       "      <th>worst symmetry</th>\n",
       "      <th>worst fractal dimension</th>\n",
       "    </tr>\n",
       "  </thead>\n",
       "  <tbody>\n",
       "    <tr>\n",
       "      <th>0</th>\n",
       "      <td>17.99</td>\n",
       "      <td>10.38</td>\n",
       "      <td>122.80</td>\n",
       "      <td>1001.0</td>\n",
       "      <td>0.11840</td>\n",
       "      <td>0.27760</td>\n",
       "      <td>0.3001</td>\n",
       "      <td>0.14710</td>\n",
       "      <td>0.2419</td>\n",
       "      <td>0.07871</td>\n",
       "      <td>...</td>\n",
       "      <td>25.38</td>\n",
       "      <td>17.33</td>\n",
       "      <td>184.60</td>\n",
       "      <td>2019.0</td>\n",
       "      <td>0.1622</td>\n",
       "      <td>0.6656</td>\n",
       "      <td>0.7119</td>\n",
       "      <td>0.2654</td>\n",
       "      <td>0.4601</td>\n",
       "      <td>0.11890</td>\n",
       "    </tr>\n",
       "    <tr>\n",
       "      <th>1</th>\n",
       "      <td>20.57</td>\n",
       "      <td>17.77</td>\n",
       "      <td>132.90</td>\n",
       "      <td>1326.0</td>\n",
       "      <td>0.08474</td>\n",
       "      <td>0.07864</td>\n",
       "      <td>0.0869</td>\n",
       "      <td>0.07017</td>\n",
       "      <td>0.1812</td>\n",
       "      <td>0.05667</td>\n",
       "      <td>...</td>\n",
       "      <td>24.99</td>\n",
       "      <td>23.41</td>\n",
       "      <td>158.80</td>\n",
       "      <td>1956.0</td>\n",
       "      <td>0.1238</td>\n",
       "      <td>0.1866</td>\n",
       "      <td>0.2416</td>\n",
       "      <td>0.1860</td>\n",
       "      <td>0.2750</td>\n",
       "      <td>0.08902</td>\n",
       "    </tr>\n",
       "    <tr>\n",
       "      <th>2</th>\n",
       "      <td>19.69</td>\n",
       "      <td>21.25</td>\n",
       "      <td>130.00</td>\n",
       "      <td>1203.0</td>\n",
       "      <td>0.10960</td>\n",
       "      <td>0.15990</td>\n",
       "      <td>0.1974</td>\n",
       "      <td>0.12790</td>\n",
       "      <td>0.2069</td>\n",
       "      <td>0.05999</td>\n",
       "      <td>...</td>\n",
       "      <td>23.57</td>\n",
       "      <td>25.53</td>\n",
       "      <td>152.50</td>\n",
       "      <td>1709.0</td>\n",
       "      <td>0.1444</td>\n",
       "      <td>0.4245</td>\n",
       "      <td>0.4504</td>\n",
       "      <td>0.2430</td>\n",
       "      <td>0.3613</td>\n",
       "      <td>0.08758</td>\n",
       "    </tr>\n",
       "    <tr>\n",
       "      <th>3</th>\n",
       "      <td>11.42</td>\n",
       "      <td>20.38</td>\n",
       "      <td>77.58</td>\n",
       "      <td>386.1</td>\n",
       "      <td>0.14250</td>\n",
       "      <td>0.28390</td>\n",
       "      <td>0.2414</td>\n",
       "      <td>0.10520</td>\n",
       "      <td>0.2597</td>\n",
       "      <td>0.09744</td>\n",
       "      <td>...</td>\n",
       "      <td>14.91</td>\n",
       "      <td>26.50</td>\n",
       "      <td>98.87</td>\n",
       "      <td>567.7</td>\n",
       "      <td>0.2098</td>\n",
       "      <td>0.8663</td>\n",
       "      <td>0.6869</td>\n",
       "      <td>0.2575</td>\n",
       "      <td>0.6638</td>\n",
       "      <td>0.17300</td>\n",
       "    </tr>\n",
       "    <tr>\n",
       "      <th>4</th>\n",
       "      <td>20.29</td>\n",
       "      <td>14.34</td>\n",
       "      <td>135.10</td>\n",
       "      <td>1297.0</td>\n",
       "      <td>0.10030</td>\n",
       "      <td>0.13280</td>\n",
       "      <td>0.1980</td>\n",
       "      <td>0.10430</td>\n",
       "      <td>0.1809</td>\n",
       "      <td>0.05883</td>\n",
       "      <td>...</td>\n",
       "      <td>22.54</td>\n",
       "      <td>16.67</td>\n",
       "      <td>152.20</td>\n",
       "      <td>1575.0</td>\n",
       "      <td>0.1374</td>\n",
       "      <td>0.2050</td>\n",
       "      <td>0.4000</td>\n",
       "      <td>0.1625</td>\n",
       "      <td>0.2364</td>\n",
       "      <td>0.07678</td>\n",
       "    </tr>\n",
       "  </tbody>\n",
       "</table>\n",
       "<p>5 rows × 30 columns</p>\n",
       "</div>"
      ],
      "text/plain": [
       "   mean radius  mean texture  mean perimeter  mean area  mean smoothness  \\\n",
       "0        17.99         10.38          122.80     1001.0          0.11840   \n",
       "1        20.57         17.77          132.90     1326.0          0.08474   \n",
       "2        19.69         21.25          130.00     1203.0          0.10960   \n",
       "3        11.42         20.38           77.58      386.1          0.14250   \n",
       "4        20.29         14.34          135.10     1297.0          0.10030   \n",
       "\n",
       "   mean compactness  mean concavity  mean concave points  mean symmetry  \\\n",
       "0           0.27760          0.3001              0.14710         0.2419   \n",
       "1           0.07864          0.0869              0.07017         0.1812   \n",
       "2           0.15990          0.1974              0.12790         0.2069   \n",
       "3           0.28390          0.2414              0.10520         0.2597   \n",
       "4           0.13280          0.1980              0.10430         0.1809   \n",
       "\n",
       "   mean fractal dimension  ...  worst radius  worst texture  worst perimeter  \\\n",
       "0                 0.07871  ...         25.38          17.33           184.60   \n",
       "1                 0.05667  ...         24.99          23.41           158.80   \n",
       "2                 0.05999  ...         23.57          25.53           152.50   \n",
       "3                 0.09744  ...         14.91          26.50            98.87   \n",
       "4                 0.05883  ...         22.54          16.67           152.20   \n",
       "\n",
       "   worst area  worst smoothness  worst compactness  worst concavity  \\\n",
       "0      2019.0            0.1622             0.6656           0.7119   \n",
       "1      1956.0            0.1238             0.1866           0.2416   \n",
       "2      1709.0            0.1444             0.4245           0.4504   \n",
       "3       567.7            0.2098             0.8663           0.6869   \n",
       "4      1575.0            0.1374             0.2050           0.4000   \n",
       "\n",
       "   worst concave points  worst symmetry  worst fractal dimension  \n",
       "0                0.2654          0.4601                  0.11890  \n",
       "1                0.1860          0.2750                  0.08902  \n",
       "2                0.2430          0.3613                  0.08758  \n",
       "3                0.2575          0.6638                  0.17300  \n",
       "4                0.1625          0.2364                  0.07678  \n",
       "\n",
       "[5 rows x 30 columns]"
      ]
     },
     "execution_count": 7,
     "metadata": {},
     "output_type": "execute_result"
    }
   ],
   "source": [
    "bc_df.head()"
   ]
  },
  {
   "cell_type": "code",
   "execution_count": 8,
   "id": "a4ffe18f",
   "metadata": {},
   "outputs": [
    {
     "data": {
      "text/html": [
       "<div>\n",
       "<style scoped>\n",
       "    .dataframe tbody tr th:only-of-type {\n",
       "        vertical-align: middle;\n",
       "    }\n",
       "\n",
       "    .dataframe tbody tr th {\n",
       "        vertical-align: top;\n",
       "    }\n",
       "\n",
       "    .dataframe thead th {\n",
       "        text-align: right;\n",
       "    }\n",
       "</style>\n",
       "<table border=\"1\" class=\"dataframe\">\n",
       "  <thead>\n",
       "    <tr style=\"text-align: right;\">\n",
       "      <th></th>\n",
       "      <th>mean radius</th>\n",
       "      <th>mean texture</th>\n",
       "      <th>mean perimeter</th>\n",
       "      <th>mean area</th>\n",
       "      <th>mean smoothness</th>\n",
       "      <th>mean compactness</th>\n",
       "      <th>mean concavity</th>\n",
       "      <th>mean concave points</th>\n",
       "      <th>mean symmetry</th>\n",
       "      <th>mean fractal dimension</th>\n",
       "      <th>...</th>\n",
       "      <th>worst radius</th>\n",
       "      <th>worst texture</th>\n",
       "      <th>worst perimeter</th>\n",
       "      <th>worst area</th>\n",
       "      <th>worst smoothness</th>\n",
       "      <th>worst compactness</th>\n",
       "      <th>worst concavity</th>\n",
       "      <th>worst concave points</th>\n",
       "      <th>worst symmetry</th>\n",
       "      <th>worst fractal dimension</th>\n",
       "    </tr>\n",
       "  </thead>\n",
       "  <tbody>\n",
       "    <tr>\n",
       "      <th>0</th>\n",
       "      <td>1.097064</td>\n",
       "      <td>-2.073335</td>\n",
       "      <td>1.269934</td>\n",
       "      <td>0.984375</td>\n",
       "      <td>1.568466</td>\n",
       "      <td>3.283515</td>\n",
       "      <td>2.652874</td>\n",
       "      <td>2.532475</td>\n",
       "      <td>2.217515</td>\n",
       "      <td>2.255747</td>\n",
       "      <td>...</td>\n",
       "      <td>1.886690</td>\n",
       "      <td>-1.359293</td>\n",
       "      <td>2.303601</td>\n",
       "      <td>2.001237</td>\n",
       "      <td>1.307686</td>\n",
       "      <td>2.616665</td>\n",
       "      <td>2.109526</td>\n",
       "      <td>2.296076</td>\n",
       "      <td>2.750622</td>\n",
       "      <td>1.937015</td>\n",
       "    </tr>\n",
       "    <tr>\n",
       "      <th>1</th>\n",
       "      <td>1.829821</td>\n",
       "      <td>-0.353632</td>\n",
       "      <td>1.685955</td>\n",
       "      <td>1.908708</td>\n",
       "      <td>-0.826962</td>\n",
       "      <td>-0.487072</td>\n",
       "      <td>-0.023846</td>\n",
       "      <td>0.548144</td>\n",
       "      <td>0.001392</td>\n",
       "      <td>-0.868652</td>\n",
       "      <td>...</td>\n",
       "      <td>1.805927</td>\n",
       "      <td>-0.369203</td>\n",
       "      <td>1.535126</td>\n",
       "      <td>1.890489</td>\n",
       "      <td>-0.375612</td>\n",
       "      <td>-0.430444</td>\n",
       "      <td>-0.146749</td>\n",
       "      <td>1.087084</td>\n",
       "      <td>-0.243890</td>\n",
       "      <td>0.281190</td>\n",
       "    </tr>\n",
       "    <tr>\n",
       "      <th>2</th>\n",
       "      <td>1.579888</td>\n",
       "      <td>0.456187</td>\n",
       "      <td>1.566503</td>\n",
       "      <td>1.558884</td>\n",
       "      <td>0.942210</td>\n",
       "      <td>1.052926</td>\n",
       "      <td>1.363478</td>\n",
       "      <td>2.037231</td>\n",
       "      <td>0.939685</td>\n",
       "      <td>-0.398008</td>\n",
       "      <td>...</td>\n",
       "      <td>1.511870</td>\n",
       "      <td>-0.023974</td>\n",
       "      <td>1.347475</td>\n",
       "      <td>1.456285</td>\n",
       "      <td>0.527407</td>\n",
       "      <td>1.082932</td>\n",
       "      <td>0.854974</td>\n",
       "      <td>1.955000</td>\n",
       "      <td>1.152255</td>\n",
       "      <td>0.201391</td>\n",
       "    </tr>\n",
       "    <tr>\n",
       "      <th>3</th>\n",
       "      <td>-0.768909</td>\n",
       "      <td>0.253732</td>\n",
       "      <td>-0.592687</td>\n",
       "      <td>-0.764464</td>\n",
       "      <td>3.283553</td>\n",
       "      <td>3.402909</td>\n",
       "      <td>1.915897</td>\n",
       "      <td>1.451707</td>\n",
       "      <td>2.867383</td>\n",
       "      <td>4.910919</td>\n",
       "      <td>...</td>\n",
       "      <td>-0.281464</td>\n",
       "      <td>0.133984</td>\n",
       "      <td>-0.249939</td>\n",
       "      <td>-0.550021</td>\n",
       "      <td>3.394275</td>\n",
       "      <td>3.893397</td>\n",
       "      <td>1.989588</td>\n",
       "      <td>2.175786</td>\n",
       "      <td>6.046041</td>\n",
       "      <td>4.935010</td>\n",
       "    </tr>\n",
       "    <tr>\n",
       "      <th>4</th>\n",
       "      <td>1.750297</td>\n",
       "      <td>-1.151816</td>\n",
       "      <td>1.776573</td>\n",
       "      <td>1.826229</td>\n",
       "      <td>0.280372</td>\n",
       "      <td>0.539340</td>\n",
       "      <td>1.371011</td>\n",
       "      <td>1.428493</td>\n",
       "      <td>-0.009560</td>\n",
       "      <td>-0.562450</td>\n",
       "      <td>...</td>\n",
       "      <td>1.298575</td>\n",
       "      <td>-1.466770</td>\n",
       "      <td>1.338539</td>\n",
       "      <td>1.220724</td>\n",
       "      <td>0.220556</td>\n",
       "      <td>-0.313395</td>\n",
       "      <td>0.613179</td>\n",
       "      <td>0.729259</td>\n",
       "      <td>-0.868353</td>\n",
       "      <td>-0.397100</td>\n",
       "    </tr>\n",
       "  </tbody>\n",
       "</table>\n",
       "<p>5 rows × 30 columns</p>\n",
       "</div>"
      ],
      "text/plain": [
       "   mean radius  mean texture  mean perimeter  mean area  mean smoothness  \\\n",
       "0     1.097064     -2.073335        1.269934   0.984375         1.568466   \n",
       "1     1.829821     -0.353632        1.685955   1.908708        -0.826962   \n",
       "2     1.579888      0.456187        1.566503   1.558884         0.942210   \n",
       "3    -0.768909      0.253732       -0.592687  -0.764464         3.283553   \n",
       "4     1.750297     -1.151816        1.776573   1.826229         0.280372   \n",
       "\n",
       "   mean compactness  mean concavity  mean concave points  mean symmetry  \\\n",
       "0          3.283515        2.652874             2.532475       2.217515   \n",
       "1         -0.487072       -0.023846             0.548144       0.001392   \n",
       "2          1.052926        1.363478             2.037231       0.939685   \n",
       "3          3.402909        1.915897             1.451707       2.867383   \n",
       "4          0.539340        1.371011             1.428493      -0.009560   \n",
       "\n",
       "   mean fractal dimension  ...  worst radius  worst texture  worst perimeter  \\\n",
       "0                2.255747  ...      1.886690      -1.359293         2.303601   \n",
       "1               -0.868652  ...      1.805927      -0.369203         1.535126   \n",
       "2               -0.398008  ...      1.511870      -0.023974         1.347475   \n",
       "3                4.910919  ...     -0.281464       0.133984        -0.249939   \n",
       "4               -0.562450  ...      1.298575      -1.466770         1.338539   \n",
       "\n",
       "   worst area  worst smoothness  worst compactness  worst concavity  \\\n",
       "0    2.001237          1.307686           2.616665         2.109526   \n",
       "1    1.890489         -0.375612          -0.430444        -0.146749   \n",
       "2    1.456285          0.527407           1.082932         0.854974   \n",
       "3   -0.550021          3.394275           3.893397         1.989588   \n",
       "4    1.220724          0.220556          -0.313395         0.613179   \n",
       "\n",
       "   worst concave points  worst symmetry  worst fractal dimension  \n",
       "0              2.296076        2.750622                 1.937015  \n",
       "1              1.087084       -0.243890                 0.281190  \n",
       "2              1.955000        1.152255                 0.201391  \n",
       "3              2.175786        6.046041                 4.935010  \n",
       "4              0.729259       -0.868353                -0.397100  \n",
       "\n",
       "[5 rows x 30 columns]"
      ]
     },
     "execution_count": 8,
     "metadata": {},
     "output_type": "execute_result"
    }
   ],
   "source": [
    "bc_df_norm = pd.DataFrame(bc_norm, columns=bc.feature_names)\n",
    "bc_df_norm.head()"
   ]
  },
  {
   "cell_type": "markdown",
   "id": "62397c4e",
   "metadata": {},
   "source": [
    "#### Utiliza la función train_test_split para dividir el dataset en conjuntos de entrenamiento y prueba. Ajusta los parámetros adecuadamente para una división equitativa"
   ]
  },
  {
   "cell_type": "markdown",
   "id": "f4e24db5",
   "metadata": {},
   "source": [
    "Para dividir de forma equitativa los datos entre train y test, se van a utilizar dos parámetros diferentes. Primero se va a fijar el test_size con un tamaño de 50%, lo que dejará al train con el 50% restante. También se va activar el $stratify$, que asegura que haya la misma proporción de tipos en train y test. Para ello, hay que pasarle al parámetro los tipos de la base de datos (target)."
   ]
  },
  {
   "cell_type": "code",
   "execution_count": 9,
   "id": "da9ffcc7",
   "metadata": {},
   "outputs": [],
   "source": [
    "X_train, X_test, y_train, y_test = train_test_split(bc.data, y, test_size = 0.5, stratify = y)"
   ]
  },
  {
   "cell_type": "markdown",
   "id": "f2de8d82",
   "metadata": {},
   "source": [
    "#### Instancia un modelo KNN y entrena este modelo con el conjunto de entrenamiento"
   ]
  },
  {
   "cell_type": "code",
   "execution_count": 10,
   "id": "de816ade",
   "metadata": {},
   "outputs": [],
   "source": [
    "from sklearn.neighbors import KNeighborsClassifier"
   ]
  },
  {
   "cell_type": "code",
   "execution_count": 11,
   "id": "fef37e58",
   "metadata": {},
   "outputs": [
    {
     "data": {
      "text/html": [
       "<style>#sk-container-id-1 {color: black;}#sk-container-id-1 pre{padding: 0;}#sk-container-id-1 div.sk-toggleable {background-color: white;}#sk-container-id-1 label.sk-toggleable__label {cursor: pointer;display: block;width: 100%;margin-bottom: 0;padding: 0.3em;box-sizing: border-box;text-align: center;}#sk-container-id-1 label.sk-toggleable__label-arrow:before {content: \"▸\";float: left;margin-right: 0.25em;color: #696969;}#sk-container-id-1 label.sk-toggleable__label-arrow:hover:before {color: black;}#sk-container-id-1 div.sk-estimator:hover label.sk-toggleable__label-arrow:before {color: black;}#sk-container-id-1 div.sk-toggleable__content {max-height: 0;max-width: 0;overflow: hidden;text-align: left;background-color: #f0f8ff;}#sk-container-id-1 div.sk-toggleable__content pre {margin: 0.2em;color: black;border-radius: 0.25em;background-color: #f0f8ff;}#sk-container-id-1 input.sk-toggleable__control:checked~div.sk-toggleable__content {max-height: 200px;max-width: 100%;overflow: auto;}#sk-container-id-1 input.sk-toggleable__control:checked~label.sk-toggleable__label-arrow:before {content: \"▾\";}#sk-container-id-1 div.sk-estimator input.sk-toggleable__control:checked~label.sk-toggleable__label {background-color: #d4ebff;}#sk-container-id-1 div.sk-label input.sk-toggleable__control:checked~label.sk-toggleable__label {background-color: #d4ebff;}#sk-container-id-1 input.sk-hidden--visually {border: 0;clip: rect(1px 1px 1px 1px);clip: rect(1px, 1px, 1px, 1px);height: 1px;margin: -1px;overflow: hidden;padding: 0;position: absolute;width: 1px;}#sk-container-id-1 div.sk-estimator {font-family: monospace;background-color: #f0f8ff;border: 1px dotted black;border-radius: 0.25em;box-sizing: border-box;margin-bottom: 0.5em;}#sk-container-id-1 div.sk-estimator:hover {background-color: #d4ebff;}#sk-container-id-1 div.sk-parallel-item::after {content: \"\";width: 100%;border-bottom: 1px solid gray;flex-grow: 1;}#sk-container-id-1 div.sk-label:hover label.sk-toggleable__label {background-color: #d4ebff;}#sk-container-id-1 div.sk-serial::before {content: \"\";position: absolute;border-left: 1px solid gray;box-sizing: border-box;top: 0;bottom: 0;left: 50%;z-index: 0;}#sk-container-id-1 div.sk-serial {display: flex;flex-direction: column;align-items: center;background-color: white;padding-right: 0.2em;padding-left: 0.2em;position: relative;}#sk-container-id-1 div.sk-item {position: relative;z-index: 1;}#sk-container-id-1 div.sk-parallel {display: flex;align-items: stretch;justify-content: center;background-color: white;position: relative;}#sk-container-id-1 div.sk-item::before, #sk-container-id-1 div.sk-parallel-item::before {content: \"\";position: absolute;border-left: 1px solid gray;box-sizing: border-box;top: 0;bottom: 0;left: 50%;z-index: -1;}#sk-container-id-1 div.sk-parallel-item {display: flex;flex-direction: column;z-index: 1;position: relative;background-color: white;}#sk-container-id-1 div.sk-parallel-item:first-child::after {align-self: flex-end;width: 50%;}#sk-container-id-1 div.sk-parallel-item:last-child::after {align-self: flex-start;width: 50%;}#sk-container-id-1 div.sk-parallel-item:only-child::after {width: 0;}#sk-container-id-1 div.sk-dashed-wrapped {border: 1px dashed gray;margin: 0 0.4em 0.5em 0.4em;box-sizing: border-box;padding-bottom: 0.4em;background-color: white;}#sk-container-id-1 div.sk-label label {font-family: monospace;font-weight: bold;display: inline-block;line-height: 1.2em;}#sk-container-id-1 div.sk-label-container {text-align: center;}#sk-container-id-1 div.sk-container {/* jupyter's `normalize.less` sets `[hidden] { display: none; }` but bootstrap.min.css set `[hidden] { display: none !important; }` so we also need the `!important` here to be able to override the default hidden behavior on the sphinx rendered scikit-learn.org. See: https://github.com/scikit-learn/scikit-learn/issues/21755 */display: inline-block !important;position: relative;}#sk-container-id-1 div.sk-text-repr-fallback {display: none;}</style><div id=\"sk-container-id-1\" class=\"sk-top-container\"><div class=\"sk-text-repr-fallback\"><pre>KNeighborsClassifier()</pre><b>In a Jupyter environment, please rerun this cell to show the HTML representation or trust the notebook. <br />On GitHub, the HTML representation is unable to render, please try loading this page with nbviewer.org.</b></div><div class=\"sk-container\" hidden><div class=\"sk-item\"><div class=\"sk-estimator sk-toggleable\"><input class=\"sk-toggleable__control sk-hidden--visually\" id=\"sk-estimator-id-1\" type=\"checkbox\" checked><label for=\"sk-estimator-id-1\" class=\"sk-toggleable__label sk-toggleable__label-arrow\">KNeighborsClassifier</label><div class=\"sk-toggleable__content\"><pre>KNeighborsClassifier()</pre></div></div></div></div></div>"
      ],
      "text/plain": [
       "KNeighborsClassifier()"
      ]
     },
     "execution_count": 11,
     "metadata": {},
     "output_type": "execute_result"
    }
   ],
   "source": [
    "knn = KNeighborsClassifier(n_neighbors=5) # Instanciar el modelo KNN\n",
    "knn.fit(X_train, y_train) # Entrenar el modelo"
   ]
  },
  {
   "cell_type": "markdown",
   "id": "9e99517e",
   "metadata": {},
   "source": [
    "#### Evalúa la precisión del modelo tanto en el conjunto de entrenamiento como en el de prueba"
   ]
  },
  {
   "cell_type": "markdown",
   "id": "90398a95",
   "metadata": {},
   "source": [
    "Para evaluar la precision del modelo se va a utilizar el método $score$, aplicable en el modelo KNN entrenado anteriormente.\n",
    "El resultado es el siguiente:"
   ]
  },
  {
   "cell_type": "code",
   "execution_count": 14,
   "id": "a8cbc16d",
   "metadata": {},
   "outputs": [
    {
     "data": {
      "text/plain": [
       "0.9330985915492958"
      ]
     },
     "execution_count": 14,
     "metadata": {},
     "output_type": "execute_result"
    }
   ],
   "source": [
    "# Precisión del conjunto de entrenamiento\n",
    "knn.score(X_train, y_train)"
   ]
  },
  {
   "cell_type": "code",
   "execution_count": 15,
   "id": "51fb171f",
   "metadata": {},
   "outputs": [
    {
     "data": {
      "text/plain": [
       "0.9438596491228071"
      ]
     },
     "execution_count": 15,
     "metadata": {},
     "output_type": "execute_result"
    }
   ],
   "source": [
    "# Precisión del conjunto de prueba\n",
    "knn.score(X_test, y_test)"
   ]
  },
  {
   "cell_type": "markdown",
   "id": "35b72600",
   "metadata": {},
   "source": [
    "Los resultados indican que en el conjunto de $train$, el modelo ha acertado el 94.71% de veces. Es un número de aciertos muy alto, aunque es totalmente lógico, ya que son los datos con los que se ha entrenado el modelo.\n",
    "\n",
    "Una manera de evaluar la precisión de manera más realista, es ver el $score$ de los datos de train, ya que aquí el modelo se está poniendo a prueba con datos que no ha visto. En este caso, se ha obtenido un porcentaje del 92.28%. Es un porcentaje muy alto de aciertos, aunque en un ámbito como en el de determinar si un cáncer en benigno o maligno, se tiene que velar por obtener el porcentaje más alto posible, por tanto tener la precisión más alta."
   ]
  },
  {
   "cell_type": "markdown",
   "id": "8878ec9d",
   "metadata": {},
   "source": [
    "Otra forma de visualizar los aciertos y los errores del modelo es con la matriz de confusión. Esta matriz muestra cuantas veces se acierta cada tipo, y también cada vez que se falla, mostrando el tipo con el que ha fallado.\n",
    "\n",
    "Para crear una matriz de confusión se va a seguir el siguiente procedimiento:"
   ]
  },
  {
   "cell_type": "code",
   "execution_count": 16,
   "id": "244429b4",
   "metadata": {},
   "outputs": [
    {
     "name": "stdout",
     "output_type": "stream",
     "text": [
      "[[ 94  12]\n",
      " [  4 175]]\n"
     ]
    }
   ],
   "source": [
    "from sklearn.metrics import confusion_matrix # Se importa el paquete\n",
    "\n",
    "y_pred = knn.predict(X_test) # Se crea un conjunto de datos formado por la predicción resultante del conjunto X_test con el modelo KNN\n",
    "\n",
    "confusion_matrix = confusion_matrix(y_test, y_pred) # Se rea un objeto de la clase confusion_matrix\n",
    "\n",
    "print(confusion_matrix) # Se visualiza la matriz de confusión"
   ]
  },
  {
   "cell_type": "markdown",
   "id": "c8121434",
   "metadata": {},
   "source": [
    "En la primera columna se observa el número de aciertos y fallos del tipo 0 de la base de datos, teniendo 90 aciertos, y 6 fallos. Estos 6 fallos significan que el modelo predijo tipo 1, cuando realmente era tipo 0. En la siguiente columna se observa que se ha fallado 16 veces, y se han acertado 173. Es decir, el modelo predijo 16 veces tipo 0 cuando era tipo 1."
   ]
  },
  {
   "cell_type": "markdown",
   "id": "81262fd3",
   "metadata": {},
   "source": [
    "Por último, se va a calcular la precisión del modelo, pero en este caso pasándole toda el dataset al modelo KNN para que este prediga los resultados. Se va a hacer de la siguiente forma:"
   ]
  },
  {
   "cell_type": "code",
   "execution_count": 20,
   "id": "5fe2bcd9",
   "metadata": {},
   "outputs": [
    {
     "name": "stdout",
     "output_type": "stream",
     "text": [
      "0.9384885764499121\n"
     ]
    }
   ],
   "source": [
    "from sklearn.metrics import accuracy_score\n",
    "\n",
    "salida_pred = knn.predict(bc.data)\n",
    "print(accuracy_score(salida_pred,y))"
   ]
  },
  {
   "cell_type": "markdown",
   "id": "f7802f6a",
   "metadata": {},
   "source": [
    "El resultado es muy parecido a los demás, entre el 92 y el 94% aproximadamente."
   ]
  },
  {
   "cell_type": "markdown",
   "id": "0a3a83f1",
   "metadata": {},
   "source": [
    "#### Utiliza una métrica de evaluación adecuada para comparar el rendimiento en ambos conjuntos"
   ]
  },
  {
   "cell_type": "markdown",
   "id": "46ddb7e8",
   "metadata": {},
   "source": [
    "Para evaluar el rendimiendo de cada conjunto, se va a calcular la precisión, la sensibilidad, y el f1 score de cada conjunto respecto a los valores predichos por el modelo de cada conjunto.\n",
    "\n",
    "La precisión indica la proporción de muestras que el modelo predijo correctamente, la sensibilidad es la proporción de muestras POSITIVAS que el modelo predijo correctamente (es decir, verdaderos positivos / (verdaderos positivos + falsos positivos)), y el F1 score combina las métricas de precisión y sensibilidad para poder visualizar rápidamente el desempeño de un modelo."
   ]
  },
  {
   "cell_type": "markdown",
   "id": "f8b272ec",
   "metadata": {},
   "source": [
    "Para calcular estas métricas, el primer paso necesario es calcular las predicciones del modelo usando el método $predict$, tanto para el conjunto de test, como el de train."
   ]
  },
  {
   "cell_type": "code",
   "execution_count": 18,
   "id": "b165bb48",
   "metadata": {},
   "outputs": [],
   "source": [
    "y_pred_test = knn.predict(X_test) \n",
    "y_pred_train = knn.predict(X_train)"
   ]
  },
  {
   "cell_type": "markdown",
   "id": "01deedb8",
   "metadata": {},
   "source": [
    "Tras esto, se calculará las métricas de precisión, sensibilidad y f1-score con los métodos $precision$_ $score$, $recall$_ $score$ y $f1$_ $score$ respectivamente:"
   ]
  },
  {
   "cell_type": "code",
   "execution_count": 21,
   "id": "17b970ef",
   "metadata": {},
   "outputs": [],
   "source": [
    "from sklearn.metrics import precision_score, recall_score, f1_score\n",
    "\n",
    "# Conjunto de train\n",
    "precision_train = precision_score(y_train, y_pred_train, average='macro')\n",
    "sensibilidad_train = recall_score(y_train, y_pred_train, average='macro')\n",
    "f1_train = f1_score(y_train, y_pred_train, average='macro')\n",
    "\n",
    "# Conjunto de test\n",
    "precision_test = precision_score(y_test, y_pred_test, average='macro')\n",
    "sensibilidad_test = recall_score(y_test, y_pred_test, average='macro')\n",
    "f1_test = f1_score(y_test, y_pred_test, average='macro')"
   ]
  },
  {
   "cell_type": "markdown",
   "id": "1bf9cf0b",
   "metadata": {},
   "source": [
    "Por último se visualizarán los resultados:"
   ]
  },
  {
   "cell_type": "code",
   "execution_count": 22,
   "id": "e29d74bb",
   "metadata": {},
   "outputs": [
    {
     "name": "stdout",
     "output_type": "stream",
     "text": [
      "Precision de train = 0.9325596494075638\n",
      "Sensibilidad de train = 0.9237333050667798\n",
      "F1 score de train = 0.9277904907195526\n"
     ]
    }
   ],
   "source": [
    "print(\"Precision de train =\", precision_train)\n",
    "print(\"Sensibilidad de train =\", sensibilidad_train)\n",
    "print(\"F1 score de train =\", f1_train)"
   ]
  },
  {
   "cell_type": "code",
   "execution_count": 23,
   "id": "f347a5e6",
   "metadata": {},
   "outputs": [
    {
     "name": "stdout",
     "output_type": "stream",
     "text": [
      "Precision de test = 0.9475062752373676\n",
      "Sensibilidad de test = 0.9322230420575525\n",
      "F1 score de test = 0.9389263902282223\n"
     ]
    }
   ],
   "source": [
    "print(\"Precision de test =\", precision_test)\n",
    "print(\"Sensibilidad de test =\", sensibilidad_test)\n",
    "print(\"F1 score de test =\", f1_test)"
   ]
  },
  {
   "cell_type": "markdown",
   "id": "d178b0e3",
   "metadata": {},
   "source": [
    "#### Analiza los resultados obtenidos (p.e. dibujar y plotear boundary decisions...) y extraer conclusiones pertinentes, especialmente en caso de encontrar diferencias significativas en el rendimiento entre los conjuntos de entrenamiento y prueba"
   ]
  },
  {
   "cell_type": "markdown",
   "id": "c59574fd",
   "metadata": {},
   "source": [
    "Como se puede observar por los resultados de score, precisión, sensibilidad y f1-score, ambos modelos tienen un rendimiento muy parecido. A continuación se va a comparar resultado a resultado para llegar a una conclusión:\n",
    "\n",
    "- Score: El conjunto de train consiguió una puntuación de 0.933, y test de 0.943, por lo que el conjunto de test es más efectivo, pero no hay una gran diferencia.\n",
    "\n",
    "- Precisión: El conjunto de train consiguió una puntuación de 0.932, y test de 0.947\n",
    "\n",
    "- Sensibilidad: El conjunto de train consiguió una puntuación de 0.923, y test de 0.932\n",
    "\n",
    "- F1-Score: El conjunto de train consiguió una puntuación de 0.927, y test de 0.938\n",
    "\n",
    "Como se puede observar, la dinámica es la misma en todas las métricas, el conjunto de test obtiene mejores resultados, pero no muy notables, estando alrededor de 0.01 por encima del conjunto de train."
   ]
  },
  {
   "cell_type": "markdown",
   "id": "6b8e5d61",
   "metadata": {},
   "source": [
    "### Pregunta 3"
   ]
  },
  {
   "cell_type": "markdown",
   "id": "8807d9f4-8380-43ae-9e4a-6fe08201e057",
   "metadata": {},
   "source": [
    "##### Evaluación del Impacto de Parámetros en un Modelo KNN con Scikit-Learn\n",
    "\n",
    "- Elige y carga un dataset proporcionado por Scikit-Learn que sea adecuado para un modelo de clasificación KNN\n",
    "- Realiza cualquier pre-procesamiento necesario en el dataset\n",
    "- Divide el dataset en conjuntos de entrenamiento y prueba utilizando la función train_test_split.\n",
    "- Elige al menos dos parámetros importantes del modelo KNN para evaluar. Algunas sugerencias pueden ser el número de vecinos (n_neighbors) y el tipo de ponderación de los vecinos (weights)\n",
    "- Para cada parámetro, entrena múltiples modelos variando los valores de dicho parámetro mientras mantienes constantes los otros\n",
    "- Utiliza una métrica de rendimiento adecuada, como la precisión, para evaluar el impacto de los distintos valores de cada parámetro en el rendimiento del modelo.\n",
    "- Realiza este proceso para cada parámetro de forma independiente y registra los resultados\n",
    "- Determina qué combinaciones de parámetros ofrecen los mejores resultados y saca conclusiones sobre la importancia de cada parámetro evaluado"
   ]
  },
  {
   "cell_type": "markdown",
   "id": "e9e16756",
   "metadata": {},
   "source": [
    "#### Elige y carga un dataset proporcionado por Scikit-Learn que sea adecuado para un modelo de clasificación KNN"
   ]
  },
  {
   "cell_type": "markdown",
   "id": "8a0cccb2",
   "metadata": {},
   "source": [
    "Para este ejercicio se ha elegido el dataset $iris$, que contiene datos de longitud y ancho de sépalo, longitud y longitud y alto de pétalo, con lo que se pueden clasificar tres tipos de flores, setosa, versicolor y virginica."
   ]
  },
  {
   "cell_type": "code",
   "execution_count": 55,
   "id": "da69e8a1",
   "metadata": {},
   "outputs": [],
   "source": [
    "iris = datasets.load_iris()\n",
    "iris_df = pd.DataFrame(iris.data, columns=iris.feature_names)"
   ]
  },
  {
   "cell_type": "markdown",
   "id": "2adc9d36",
   "metadata": {},
   "source": [
    "#### Realiza cualquier pre-procesamiento necesario en el dataset"
   ]
  },
  {
   "cell_type": "markdown",
   "id": "76f0cd98",
   "metadata": {},
   "source": [
    "Primero se van a visualizar las primeras filas del dataset, para decidir si es necesario normalizar o no:"
   ]
  },
  {
   "cell_type": "code",
   "execution_count": 56,
   "id": "ee6c69c5",
   "metadata": {},
   "outputs": [
    {
     "data": {
      "text/html": [
       "<div>\n",
       "<style scoped>\n",
       "    .dataframe tbody tr th:only-of-type {\n",
       "        vertical-align: middle;\n",
       "    }\n",
       "\n",
       "    .dataframe tbody tr th {\n",
       "        vertical-align: top;\n",
       "    }\n",
       "\n",
       "    .dataframe thead th {\n",
       "        text-align: right;\n",
       "    }\n",
       "</style>\n",
       "<table border=\"1\" class=\"dataframe\">\n",
       "  <thead>\n",
       "    <tr style=\"text-align: right;\">\n",
       "      <th></th>\n",
       "      <th>sepal length (cm)</th>\n",
       "      <th>sepal width (cm)</th>\n",
       "      <th>petal length (cm)</th>\n",
       "      <th>petal width (cm)</th>\n",
       "    </tr>\n",
       "  </thead>\n",
       "  <tbody>\n",
       "    <tr>\n",
       "      <th>0</th>\n",
       "      <td>5.1</td>\n",
       "      <td>3.5</td>\n",
       "      <td>1.4</td>\n",
       "      <td>0.2</td>\n",
       "    </tr>\n",
       "    <tr>\n",
       "      <th>1</th>\n",
       "      <td>4.9</td>\n",
       "      <td>3.0</td>\n",
       "      <td>1.4</td>\n",
       "      <td>0.2</td>\n",
       "    </tr>\n",
       "    <tr>\n",
       "      <th>2</th>\n",
       "      <td>4.7</td>\n",
       "      <td>3.2</td>\n",
       "      <td>1.3</td>\n",
       "      <td>0.2</td>\n",
       "    </tr>\n",
       "    <tr>\n",
       "      <th>3</th>\n",
       "      <td>4.6</td>\n",
       "      <td>3.1</td>\n",
       "      <td>1.5</td>\n",
       "      <td>0.2</td>\n",
       "    </tr>\n",
       "    <tr>\n",
       "      <th>4</th>\n",
       "      <td>5.0</td>\n",
       "      <td>3.6</td>\n",
       "      <td>1.4</td>\n",
       "      <td>0.2</td>\n",
       "    </tr>\n",
       "  </tbody>\n",
       "</table>\n",
       "</div>"
      ],
      "text/plain": [
       "   sepal length (cm)  sepal width (cm)  petal length (cm)  petal width (cm)\n",
       "0                5.1               3.5                1.4               0.2\n",
       "1                4.9               3.0                1.4               0.2\n",
       "2                4.7               3.2                1.3               0.2\n",
       "3                4.6               3.1                1.5               0.2\n",
       "4                5.0               3.6                1.4               0.2"
      ]
     },
     "execution_count": 56,
     "metadata": {},
     "output_type": "execute_result"
    }
   ],
   "source": [
    "iris_df.head()"
   ]
  },
  {
   "cell_type": "markdown",
   "id": "02a0a90d",
   "metadata": {},
   "source": [
    "Los datos numéricos no se alejan mucho unos de otros, así que no se aplicará normalización."
   ]
  },
  {
   "cell_type": "markdown",
   "id": "f538e594",
   "metadata": {},
   "source": [
    "Ahora se va a comprobar si existen valores nulos en el dataset. En caso de que haya, ser rellenarán dichos nulos."
   ]
  },
  {
   "cell_type": "code",
   "execution_count": 57,
   "id": "2be9c446",
   "metadata": {},
   "outputs": [
    {
     "name": "stdout",
     "output_type": "stream",
     "text": [
      "sepal length (cm)    0\n",
      "sepal width (cm)     0\n",
      "petal length (cm)    0\n",
      "petal width (cm)     0\n",
      "dtype: int64 \n",
      "\n",
      "No hay valores nulos\n"
     ]
    }
   ],
   "source": [
    "# Comprobar si existen nulos para rellenarlos\n",
    "print(iris_df.isna().sum(), \"\\n\")\n",
    "print(\"No hay valores nulos\")"
   ]
  },
  {
   "cell_type": "markdown",
   "id": "68341824",
   "metadata": {},
   "source": [
    "Por último, se van a extaer los datos y los targets del dataset:"
   ]
  },
  {
   "cell_type": "code",
   "execution_count": 58,
   "id": "4c993dd4",
   "metadata": {},
   "outputs": [],
   "source": [
    "target = iris.target\n",
    "data = iris.data"
   ]
  },
  {
   "cell_type": "markdown",
   "id": "f1bc3ef6",
   "metadata": {},
   "source": [
    "#### Divide el dataset en conjuntos de entrenamiento y prueba utilizando la función train_test_split.\n"
   ]
  },
  {
   "cell_type": "markdown",
   "id": "72eb3d6b",
   "metadata": {},
   "source": [
    "Para dividir el dataset se va a usar el método $train$ _$test$ _$split$ con los parámetros por defecto:"
   ]
  },
  {
   "cell_type": "code",
   "execution_count": 59,
   "id": "00cb3f79",
   "metadata": {},
   "outputs": [],
   "source": [
    "X_train, X_test, y_train, y_test = train_test_split(data, target)"
   ]
  },
  {
   "cell_type": "markdown",
   "id": "47999d85",
   "metadata": {},
   "source": [
    "\n",
    "#### Elige al menos dos parámetros importantes del modelo KNN para evaluar. Algunas sugerencias pueden ser el número de vecinos (n_neighbors) y el tipo de ponderación de los vecinos (weights)\n",
    "\n",
    "#### Para cada parámetro, entrena múltiples modelos variando los valores de dicho parámetro mientras mantienes constantes los otros\n",
    "\n",
    "#### Utiliza una métrica de rendimiento adecuada, como la precisión, para evaluar el impacto de los distintos valores de cada parámetro en el rendimiento del modelo.\n",
    "\n",
    "#### Realiza este proceso para cada parámetro de forma independiente y registra los resultados"
   ]
  },
  {
   "cell_type": "markdown",
   "id": "74da7ff2",
   "metadata": {},
   "source": [
    "Se van a utilizar los parámetros de KNN $n$_ $neighbors$ y $weights$. \n",
    "\n",
    "$n$_ $neighbors$ representa el número de vecinos más cercanos necesarios para clasificar un dato a un tipo. Cuanto más alto sea el número de $n$_ $neighbors$, se necesitarán más vecinos para poder clasificar un tipo, lo que puede provocar que el modelo no sea tan preciso, por ello hay que encontrar un punto medio.\n",
    "\n",
    "$weights$ representa el tipo de ponderación de los vecinos. Hay dos tipos, $uniform$ y $distance$. En $uniform$, todos los vecinos se ponderan por igual, mientras que en $distance$, los vecinos más cercanos tienen mayor ponderación a los vecinos más lejanos.\n",
    "\n",
    "Para evaluar el efecto que tienen ambos parámetros sobre el modelo KNN se va a crear una lista donde se va a ir almacenando los $scores$ obtenidos de los modelos con los diferentes parámetros de $n$_ $neighbors$ y $weights$:"
   ]
  },
  {
   "cell_type": "code",
   "execution_count": 72,
   "id": "53ec7dac",
   "metadata": {},
   "outputs": [],
   "source": [
    "neighbors_scores = [] # lista de puntuación de n_neighbors\n",
    "\n",
    "for n_neighbors in range(1, 11): # bucle para ir de 1 vecino a 10 vecinos\n",
    "    knn = KNeighborsClassifier(n_neighbors=n_neighbors) # Creación del modelo con el numero de vecinos puesto por el bucle\n",
    "    knn.fit(X_train, y_train) # Entrenamiento del modelo\n",
    "    neighbors_scores.append(knn.score(X_test, y_test)) # Obtención del score del modelo"
   ]
  },
  {
   "cell_type": "code",
   "execution_count": 73,
   "id": "1cd03c2e",
   "metadata": {},
   "outputs": [],
   "source": [
    "weight_scores = [] # lista de puntuación de weights\n",
    "\n",
    "for weights in ['uniform', 'distance']: # bucle para probar las dos opciones que da el parámetro weights\n",
    "    knn = KNeighborsClassifier(n_neighbors=8, weights=weights) # Creación del modelo \n",
    "    knn.fit(X_train, y_train) # Entrenamiento del modelo\n",
    "    weight_scores.append(knn.score(X_test, y_test)) # Obtención del score del modelo"
   ]
  },
  {
   "cell_type": "markdown",
   "id": "fedaf89e",
   "metadata": {},
   "source": [
    "A continuación se va a visualizar los $scores$ obtenidos:"
   ]
  },
  {
   "cell_type": "code",
   "execution_count": 62,
   "id": "8dd4099b",
   "metadata": {},
   "outputs": [
    {
     "data": {
      "text/plain": [
       "[0.9473684210526315,\n",
       " 0.9473684210526315,\n",
       " 0.9473684210526315,\n",
       " 0.9473684210526315,\n",
       " 0.9473684210526315,\n",
       " 0.9736842105263158,\n",
       " 0.9473684210526315,\n",
       " 0.9736842105263158,\n",
       " 0.9473684210526315,\n",
       " 0.9473684210526315]"
      ]
     },
     "execution_count": 62,
     "metadata": {},
     "output_type": "execute_result"
    }
   ],
   "source": [
    "# Neighbors de 1 a 10 vecinos, con los demás parámetros predeterminados \n",
    "neighbors_scores"
   ]
  },
  {
   "cell_type": "code",
   "execution_count": 74,
   "id": "8978eb56",
   "metadata": {},
   "outputs": [
    {
     "data": {
      "text/plain": [
       "[0.9736842105263158, 0.9473684210526315]"
      ]
     },
     "execution_count": 74,
     "metadata": {},
     "output_type": "execute_result"
    }
   ],
   "source": [
    "# Weigths uniform y distance, con los demás parámetros predeterminados y numero de vecinos a 8\n",
    "weight_scores"
   ]
  },
  {
   "cell_type": "markdown",
   "id": "4fadfd6b",
   "metadata": {},
   "source": [
    "Por último, se va a visualizar gráficamente estos resultados utilizando el paquete $matplotlib.pyplot$:"
   ]
  },
  {
   "cell_type": "code",
   "execution_count": 64,
   "id": "b2166458",
   "metadata": {},
   "outputs": [
    {
     "data": {
      "image/png": "[encoded data removed]",
      "text/plain": [
       "<Figure size 640x480 with 1 Axes>"
      ]
     },
     "metadata": {},
     "output_type": "display_data"
    }
   ],
   "source": [
    "# Resultados neighbors\n",
    "plt.plot(range(1, 11), neighbors_scores)\n",
    "plt.xlabel('Número de vecinos')\n",
    "plt.ylabel('Score Precisión')\n",
    "plt.show()"
   ]
  },
  {
   "cell_type": "code",
   "execution_count": 75,
   "id": "85780d6a",
   "metadata": {},
   "outputs": [
    {
     "data": {
      "image/png": "[encoded data removed]",
      "text/plain": [
       "<Figure size 640x480 with 1 Axes>"
      ]
     },
     "metadata": {},
     "output_type": "display_data"
    }
   ],
   "source": [
    "# Resultados weights\n",
    "plt.plot(['Uniforme', 'Distancia'], weight_scores)\n",
    "plt.xlabel('Tipo de ponderación')\n",
    "plt.ylabel('Score Precisión')\n",
    "plt.show()"
   ]
  },
  {
   "cell_type": "markdown",
   "id": "4f3620f8",
   "metadata": {},
   "source": [
    "#### Determina qué combinaciones de parámetros ofrecen los mejores resultados y saca conclusiones sobre la importancia de cada parámetro evaluado"
   ]
  },
  {
   "cell_type": "markdown",
   "id": "5db1cbe8",
   "metadata": {},
   "source": [
    "##### n_neighbors: \n",
    "El resultado es idéntico para los números de vecinos 1,2,3,4,5,7,9,10 = 0.947. Los números de vecinos 6 y 8 dan 0.973, por lo que lo óptimo para este dataset y modelo de predicción es utilizar 6 u 8 como número de vecinos.\n",
    "\n",
    "##### weights: \n",
    "En $uniform$ se ha obtenido una puntuación de 0.973, y en $distance$ 0.947. Por tanto, lo óptimo será utilizar el parámetro $weights$ con la opción $uniform$.\n",
    "\n",
    "Estos dos parámetros afectan notablemente al rendimiento del modelo, debido a que afectan directamente al funcionamiento del mismo, por lo que es muy importante realizar pruebas para encontrar la mejor combinación para cada caso."
   ]
  },
  {
   "cell_type": "markdown",
   "id": "5d83bbea-834a-4de6-aabc-1781695cb40d",
   "metadata": {},
   "source": [
    "### Pregunta 4"
   ]
  },
  {
   "cell_type": "markdown",
   "id": "5e7cf6f9-02a8-4187-a817-97c1175b4743",
   "metadata": {},
   "source": [
    "##### Evaluación de la Influencia de la Normalización en Modelos de Regresión con Scikit-Learn\n",
    "\n",
    "- Elige y carga un dataset de regresión proporcionado por Scikit-Learn\n",
    "- Utiliza la función train_test_split para dividir el dataset en conjuntos de entrenamiento y prueba\n",
    "- Elige un modelo de regresión para la evaluación. Por ejemplo, puedes elegir la Regresión Lineal o la Regresión de Ridge\n",
    "- Estos modelos son representativos y permiten evaluar cómo la normalización influye en diferentes enfoques de regresión (Influye más con Ridge)\n",
    "- Selecciona al menos dos métodos de normalización, como la normalización Min-Max y la estandarización StandardScaler\n",
    "- Aplica cada método de normalización por separado al conjunto de entrenamiento y ajusta el conjunto de prueba de manera correspondiente\n",
    "- Para cada versión normalizada del conjunto de entrenamiento, entrena ambos modelos de regresión seleccionados\n",
    "- Mantén constantes los demás parámetros del modelo para cada tipo de normalización para asegurar una comparación justa\n",
    "- Utiliza métricas de rendimiento adecuadas para la regresión, como el error cuadrático medio (MSE) o el coeficiente de determinación (R²), para evaluar cada modelo en el conjunto de prueba\n",
    "- Compara el rendimiento de los modelos con diferentes métodos de normalización\n",
    "- Basándote en los resultados, concluye sobre la importancia de la normalización en los modelos de regresión seleccionados y su influencia en la precisión del modelo"
   ]
  },
  {
   "cell_type": "markdown",
   "id": "52dcd0f4",
   "metadata": {},
   "source": [
    "#### Elige y carga un dataset de regresión proporcionado por Scikit-Learn"
   ]
  },
  {
   "cell_type": "markdown",
   "id": "313e12ff",
   "metadata": {},
   "source": [
    "Para este ejercicio se va a usar el dataset $diabetes$ proporcionado por scikit learn. Este dataset contiene datos de información médica sobre pacientes con diabetes, y es muy adecuado para crear modelos de regresión sobre el debido a que estos datos sirven para predecir el nivel de glucosa del paciente con diabetes.\n",
    "\n",
    "Lo primero que se hará es cargar el dataset, visualizarlo, y separar en diferentes variables los datos y el target:"
   ]
  },
  {
   "cell_type": "code",
   "execution_count": 2,
   "id": "22645998",
   "metadata": {},
   "outputs": [
    {
     "data": {
      "text/html": [
       "<div>\n",
       "<style scoped>\n",
       "    .dataframe tbody tr th:only-of-type {\n",
       "        vertical-align: middle;\n",
       "    }\n",
       "\n",
       "    .dataframe tbody tr th {\n",
       "        vertical-align: top;\n",
       "    }\n",
       "\n",
       "    .dataframe thead th {\n",
       "        text-align: right;\n",
       "    }\n",
       "</style>\n",
       "<table border=\"1\" class=\"dataframe\">\n",
       "  <thead>\n",
       "    <tr style=\"text-align: right;\">\n",
       "      <th></th>\n",
       "      <th>age</th>\n",
       "      <th>sex</th>\n",
       "      <th>bmi</th>\n",
       "      <th>bp</th>\n",
       "      <th>s1</th>\n",
       "      <th>s2</th>\n",
       "      <th>s3</th>\n",
       "      <th>s4</th>\n",
       "      <th>s5</th>\n",
       "      <th>s6</th>\n",
       "    </tr>\n",
       "  </thead>\n",
       "  <tbody>\n",
       "    <tr>\n",
       "      <th>0</th>\n",
       "      <td>0.038076</td>\n",
       "      <td>0.050680</td>\n",
       "      <td>0.061696</td>\n",
       "      <td>0.021872</td>\n",
       "      <td>-0.044223</td>\n",
       "      <td>-0.034821</td>\n",
       "      <td>-0.043401</td>\n",
       "      <td>-0.002592</td>\n",
       "      <td>0.019907</td>\n",
       "      <td>-0.017646</td>\n",
       "    </tr>\n",
       "    <tr>\n",
       "      <th>1</th>\n",
       "      <td>-0.001882</td>\n",
       "      <td>-0.044642</td>\n",
       "      <td>-0.051474</td>\n",
       "      <td>-0.026328</td>\n",
       "      <td>-0.008449</td>\n",
       "      <td>-0.019163</td>\n",
       "      <td>0.074412</td>\n",
       "      <td>-0.039493</td>\n",
       "      <td>-0.068332</td>\n",
       "      <td>-0.092204</td>\n",
       "    </tr>\n",
       "    <tr>\n",
       "      <th>2</th>\n",
       "      <td>0.085299</td>\n",
       "      <td>0.050680</td>\n",
       "      <td>0.044451</td>\n",
       "      <td>-0.005670</td>\n",
       "      <td>-0.045599</td>\n",
       "      <td>-0.034194</td>\n",
       "      <td>-0.032356</td>\n",
       "      <td>-0.002592</td>\n",
       "      <td>0.002861</td>\n",
       "      <td>-0.025930</td>\n",
       "    </tr>\n",
       "    <tr>\n",
       "      <th>3</th>\n",
       "      <td>-0.089063</td>\n",
       "      <td>-0.044642</td>\n",
       "      <td>-0.011595</td>\n",
       "      <td>-0.036656</td>\n",
       "      <td>0.012191</td>\n",
       "      <td>0.024991</td>\n",
       "      <td>-0.036038</td>\n",
       "      <td>0.034309</td>\n",
       "      <td>0.022688</td>\n",
       "      <td>-0.009362</td>\n",
       "    </tr>\n",
       "    <tr>\n",
       "      <th>4</th>\n",
       "      <td>0.005383</td>\n",
       "      <td>-0.044642</td>\n",
       "      <td>-0.036385</td>\n",
       "      <td>0.021872</td>\n",
       "      <td>0.003935</td>\n",
       "      <td>0.015596</td>\n",
       "      <td>0.008142</td>\n",
       "      <td>-0.002592</td>\n",
       "      <td>-0.031988</td>\n",
       "      <td>-0.046641</td>\n",
       "    </tr>\n",
       "  </tbody>\n",
       "</table>\n",
       "</div>"
      ],
      "text/plain": [
       "        age       sex       bmi        bp        s1        s2        s3  \\\n",
       "0  0.038076  0.050680  0.061696  0.021872 -0.044223 -0.034821 -0.043401   \n",
       "1 -0.001882 -0.044642 -0.051474 -0.026328 -0.008449 -0.019163  0.074412   \n",
       "2  0.085299  0.050680  0.044451 -0.005670 -0.045599 -0.034194 -0.032356   \n",
       "3 -0.089063 -0.044642 -0.011595 -0.036656  0.012191  0.024991 -0.036038   \n",
       "4  0.005383 -0.044642 -0.036385  0.021872  0.003935  0.015596  0.008142   \n",
       "\n",
       "         s4        s5        s6  \n",
       "0 -0.002592  0.019907 -0.017646  \n",
       "1 -0.039493 -0.068332 -0.092204  \n",
       "2 -0.002592  0.002861 -0.025930  \n",
       "3  0.034309  0.022688 -0.009362  \n",
       "4 -0.002592 -0.031988 -0.046641  "
      ]
     },
     "execution_count": 2,
     "metadata": {},
     "output_type": "execute_result"
    }
   ],
   "source": [
    "diabetes = datasets.load_diabetes()\n",
    "diabetes_df = pd.DataFrame(diabetes.data, columns=diabetes.feature_names)\n",
    "diabetes_df.head()"
   ]
  },
  {
   "cell_type": "code",
   "execution_count": 3,
   "id": "c0d67895",
   "metadata": {},
   "outputs": [],
   "source": [
    "data_diabetes = diabetes.data\n",
    "target_diabetes = diabetes.target"
   ]
  },
  {
   "cell_type": "markdown",
   "id": "4b9bfadb",
   "metadata": {},
   "source": [
    "#### Utiliza la función train_test_split para dividir el dataset en conjuntos de entrenamiento y prueba"
   ]
  },
  {
   "cell_type": "code",
   "execution_count": 4,
   "id": "72af37f3",
   "metadata": {},
   "outputs": [],
   "source": [
    "X_train, X_test, y_train, y_test = train_test_split(data_diabetes, target_diabetes)"
   ]
  },
  {
   "cell_type": "markdown",
   "id": "b5a4515c",
   "metadata": {},
   "source": [
    "#### Elige un modelo de regresión para la evaluación. Por ejemplo, puedes elegir la Regresión Lineal o la Regresión de Ridge"
   ]
  },
  {
   "cell_type": "markdown",
   "id": "03e1a51d",
   "metadata": {},
   "source": [
    "Para este caso, se va a utilizar la regresión lineal. Para ello, se tendrá que importar el paquete $LinearRegression$ de $sklearn.linear$_ $model$, para posteriormente crear el modelo, y entrenarlo."
   ]
  },
  {
   "cell_type": "code",
   "execution_count": 5,
   "id": "28d312e2",
   "metadata": {},
   "outputs": [
    {
     "data": {
      "text/html": [
       "<style>#sk-container-id-1 {color: black;}#sk-container-id-1 pre{padding: 0;}#sk-container-id-1 div.sk-toggleable {background-color: white;}#sk-container-id-1 label.sk-toggleable__label {cursor: pointer;display: block;width: 100%;margin-bottom: 0;padding: 0.3em;box-sizing: border-box;text-align: center;}#sk-container-id-1 label.sk-toggleable__label-arrow:before {content: \"▸\";float: left;margin-right: 0.25em;color: #696969;}#sk-container-id-1 label.sk-toggleable__label-arrow:hover:before {color: black;}#sk-container-id-1 div.sk-estimator:hover label.sk-toggleable__label-arrow:before {color: black;}#sk-container-id-1 div.sk-toggleable__content {max-height: 0;max-width: 0;overflow: hidden;text-align: left;background-color: #f0f8ff;}#sk-container-id-1 div.sk-toggleable__content pre {margin: 0.2em;color: black;border-radius: 0.25em;background-color: #f0f8ff;}#sk-container-id-1 input.sk-toggleable__control:checked~div.sk-toggleable__content {max-height: 200px;max-width: 100%;overflow: auto;}#sk-container-id-1 input.sk-toggleable__control:checked~label.sk-toggleable__label-arrow:before {content: \"▾\";}#sk-container-id-1 div.sk-estimator input.sk-toggleable__control:checked~label.sk-toggleable__label {background-color: #d4ebff;}#sk-container-id-1 div.sk-label input.sk-toggleable__control:checked~label.sk-toggleable__label {background-color: #d4ebff;}#sk-container-id-1 input.sk-hidden--visually {border: 0;clip: rect(1px 1px 1px 1px);clip: rect(1px, 1px, 1px, 1px);height: 1px;margin: -1px;overflow: hidden;padding: 0;position: absolute;width: 1px;}#sk-container-id-1 div.sk-estimator {font-family: monospace;background-color: #f0f8ff;border: 1px dotted black;border-radius: 0.25em;box-sizing: border-box;margin-bottom: 0.5em;}#sk-container-id-1 div.sk-estimator:hover {background-color: #d4ebff;}#sk-container-id-1 div.sk-parallel-item::after {content: \"\";width: 100%;border-bottom: 1px solid gray;flex-grow: 1;}#sk-container-id-1 div.sk-label:hover label.sk-toggleable__label {background-color: #d4ebff;}#sk-container-id-1 div.sk-serial::before {content: \"\";position: absolute;border-left: 1px solid gray;box-sizing: border-box;top: 0;bottom: 0;left: 50%;z-index: 0;}#sk-container-id-1 div.sk-serial {display: flex;flex-direction: column;align-items: center;background-color: white;padding-right: 0.2em;padding-left: 0.2em;position: relative;}#sk-container-id-1 div.sk-item {position: relative;z-index: 1;}#sk-container-id-1 div.sk-parallel {display: flex;align-items: stretch;justify-content: center;background-color: white;position: relative;}#sk-container-id-1 div.sk-item::before, #sk-container-id-1 div.sk-parallel-item::before {content: \"\";position: absolute;border-left: 1px solid gray;box-sizing: border-box;top: 0;bottom: 0;left: 50%;z-index: -1;}#sk-container-id-1 div.sk-parallel-item {display: flex;flex-direction: column;z-index: 1;position: relative;background-color: white;}#sk-container-id-1 div.sk-parallel-item:first-child::after {align-self: flex-end;width: 50%;}#sk-container-id-1 div.sk-parallel-item:last-child::after {align-self: flex-start;width: 50%;}#sk-container-id-1 div.sk-parallel-item:only-child::after {width: 0;}#sk-container-id-1 div.sk-dashed-wrapped {border: 1px dashed gray;margin: 0 0.4em 0.5em 0.4em;box-sizing: border-box;padding-bottom: 0.4em;background-color: white;}#sk-container-id-1 div.sk-label label {font-family: monospace;font-weight: bold;display: inline-block;line-height: 1.2em;}#sk-container-id-1 div.sk-label-container {text-align: center;}#sk-container-id-1 div.sk-container {/* jupyter's `normalize.less` sets `[hidden] { display: none; }` but bootstrap.min.css set `[hidden] { display: none !important; }` so we also need the `!important` here to be able to override the default hidden behavior on the sphinx rendered scikit-learn.org. See: https://github.com/scikit-learn/scikit-learn/issues/21755 */display: inline-block !important;position: relative;}#sk-container-id-1 div.sk-text-repr-fallback {display: none;}</style><div id=\"sk-container-id-1\" class=\"sk-top-container\"><div class=\"sk-text-repr-fallback\"><pre>LinearRegression()</pre><b>In a Jupyter environment, please rerun this cell to show the HTML representation or trust the notebook. <br />On GitHub, the HTML representation is unable to render, please try loading this page with nbviewer.org.</b></div><div class=\"sk-container\" hidden><div class=\"sk-item\"><div class=\"sk-estimator sk-toggleable\"><input class=\"sk-toggleable__control sk-hidden--visually\" id=\"sk-estimator-id-1\" type=\"checkbox\" checked><label for=\"sk-estimator-id-1\" class=\"sk-toggleable__label sk-toggleable__label-arrow\">LinearRegression</label><div class=\"sk-toggleable__content\"><pre>LinearRegression()</pre></div></div></div></div></div>"
      ],
      "text/plain": [
       "LinearRegression()"
      ]
     },
     "execution_count": 5,
     "metadata": {},
     "output_type": "execute_result"
    }
   ],
   "source": [
    "from sklearn.linear_model import LinearRegression # Importación de paquete\n",
    "lr = LinearRegression() # Creación del objeto \n",
    "lr.fit(X_train, y_train) # Entrenamiento del modelo"
   ]
  },
  {
   "cell_type": "markdown",
   "id": "a964e385",
   "metadata": {},
   "source": [
    "#### Selecciona al menos dos métodos de normalización, como la normalización Min-Max y la estandarización StandardScaler"
   ]
  },
  {
   "cell_type": "markdown",
   "id": "e6a33c21",
   "metadata": {},
   "source": [
    "El $Min$-$Max Scaler$ realiza el escalado dependiendo de un rango. Primero calcula el valor máximo y mínimo de cada $feature$ del conjunto de datos, y luego escala cada valor dividiendo por la diferencia entre el valor máximo y mínimo.\n",
    "\n",
    "En cambio, el $Standard Scaler$ primero calcula la media y la varianza de cada $feature$ del conjunto de datos. Posteriormente, escala cada valor restando la media y dividiendo por la raiz cuadrada de la varianza (desviación estándar).\n",
    "\n",
    "Se van a probar ambos para ver como afectan al entrenamiento de modelos de regresión lineal:"
   ]
  },
  {
   "cell_type": "code",
   "execution_count": 6,
   "id": "9b060946",
   "metadata": {},
   "outputs": [],
   "source": [
    "# Se importan los paquetes necesarios\n",
    "from sklearn.preprocessing import MinMaxScaler \n",
    "from sklearn.preprocessing import StandardScaler\n",
    "\n",
    "# Se crean los objetos que contienen los normalizadores\n",
    "min_max_scaler = MinMaxScaler()\n",
    "standard_scaler = StandardScaler()"
   ]
  },
  {
   "cell_type": "markdown",
   "id": "d7b42850",
   "metadata": {},
   "source": [
    "#### Aplica cada método de normalización por separado al conjunto de entrenamiento y ajusta el conjunto de prueba de manera correspondiente"
   ]
  },
  {
   "cell_type": "code",
   "execution_count": 9,
   "id": "93e21b32",
   "metadata": {},
   "outputs": [],
   "source": [
    "# Ejecución del normalizador Min Max en X_train y X_test\n",
    "X_train_min_max = min_max_scaler.fit_transform(X_train)\n",
    "X_test_min_max = min_max_scaler.fit_transform(X_test)"
   ]
  },
  {
   "cell_type": "code",
   "execution_count": 10,
   "id": "e4e39c0f",
   "metadata": {},
   "outputs": [],
   "source": [
    "# # Ejecución del normalizador Standard Scaler en X_train y X_test\n",
    "X_train_standard_scaler = standard_scaler.fit_transform(X_train)\n",
    "X_test_standard_scaler = standard_scaler.fit_transform(X_test)"
   ]
  },
  {
   "cell_type": "markdown",
   "id": "1bc70720",
   "metadata": {},
   "source": [
    "#### Para cada versión normalizada del conjunto de entrenamiento, entrena ambos modelos de regresión seleccionados"
   ]
  },
  {
   "cell_type": "code",
   "execution_count": 11,
   "id": "15b5df77",
   "metadata": {},
   "outputs": [
    {
     "data": {
      "text/html": [
       "<style>#sk-container-id-2 {color: black;}#sk-container-id-2 pre{padding: 0;}#sk-container-id-2 div.sk-toggleable {background-color: white;}#sk-container-id-2 label.sk-toggleable__label {cursor: pointer;display: block;width: 100%;margin-bottom: 0;padding: 0.3em;box-sizing: border-box;text-align: center;}#sk-container-id-2 label.sk-toggleable__label-arrow:before {content: \"▸\";float: left;margin-right: 0.25em;color: #696969;}#sk-container-id-2 label.sk-toggleable__label-arrow:hover:before {color: black;}#sk-container-id-2 div.sk-estimator:hover label.sk-toggleable__label-arrow:before {color: black;}#sk-container-id-2 div.sk-toggleable__content {max-height: 0;max-width: 0;overflow: hidden;text-align: left;background-color: #f0f8ff;}#sk-container-id-2 div.sk-toggleable__content pre {margin: 0.2em;color: black;border-radius: 0.25em;background-color: #f0f8ff;}#sk-container-id-2 input.sk-toggleable__control:checked~div.sk-toggleable__content {max-height: 200px;max-width: 100%;overflow: auto;}#sk-container-id-2 input.sk-toggleable__control:checked~label.sk-toggleable__label-arrow:before {content: \"▾\";}#sk-container-id-2 div.sk-estimator input.sk-toggleable__control:checked~label.sk-toggleable__label {background-color: #d4ebff;}#sk-container-id-2 div.sk-label input.sk-toggleable__control:checked~label.sk-toggleable__label {background-color: #d4ebff;}#sk-container-id-2 input.sk-hidden--visually {border: 0;clip: rect(1px 1px 1px 1px);clip: rect(1px, 1px, 1px, 1px);height: 1px;margin: -1px;overflow: hidden;padding: 0;position: absolute;width: 1px;}#sk-container-id-2 div.sk-estimator {font-family: monospace;background-color: #f0f8ff;border: 1px dotted black;border-radius: 0.25em;box-sizing: border-box;margin-bottom: 0.5em;}#sk-container-id-2 div.sk-estimator:hover {background-color: #d4ebff;}#sk-container-id-2 div.sk-parallel-item::after {content: \"\";width: 100%;border-bottom: 1px solid gray;flex-grow: 1;}#sk-container-id-2 div.sk-label:hover label.sk-toggleable__label {background-color: #d4ebff;}#sk-container-id-2 div.sk-serial::before {content: \"\";position: absolute;border-left: 1px solid gray;box-sizing: border-box;top: 0;bottom: 0;left: 50%;z-index: 0;}#sk-container-id-2 div.sk-serial {display: flex;flex-direction: column;align-items: center;background-color: white;padding-right: 0.2em;padding-left: 0.2em;position: relative;}#sk-container-id-2 div.sk-item {position: relative;z-index: 1;}#sk-container-id-2 div.sk-parallel {display: flex;align-items: stretch;justify-content: center;background-color: white;position: relative;}#sk-container-id-2 div.sk-item::before, #sk-container-id-2 div.sk-parallel-item::before {content: \"\";position: absolute;border-left: 1px solid gray;box-sizing: border-box;top: 0;bottom: 0;left: 50%;z-index: -1;}#sk-container-id-2 div.sk-parallel-item {display: flex;flex-direction: column;z-index: 1;position: relative;background-color: white;}#sk-container-id-2 div.sk-parallel-item:first-child::after {align-self: flex-end;width: 50%;}#sk-container-id-2 div.sk-parallel-item:last-child::after {align-self: flex-start;width: 50%;}#sk-container-id-2 div.sk-parallel-item:only-child::after {width: 0;}#sk-container-id-2 div.sk-dashed-wrapped {border: 1px dashed gray;margin: 0 0.4em 0.5em 0.4em;box-sizing: border-box;padding-bottom: 0.4em;background-color: white;}#sk-container-id-2 div.sk-label label {font-family: monospace;font-weight: bold;display: inline-block;line-height: 1.2em;}#sk-container-id-2 div.sk-label-container {text-align: center;}#sk-container-id-2 div.sk-container {/* jupyter's `normalize.less` sets `[hidden] { display: none; }` but bootstrap.min.css set `[hidden] { display: none !important; }` so we also need the `!important` here to be able to override the default hidden behavior on the sphinx rendered scikit-learn.org. See: https://github.com/scikit-learn/scikit-learn/issues/21755 */display: inline-block !important;position: relative;}#sk-container-id-2 div.sk-text-repr-fallback {display: none;}</style><div id=\"sk-container-id-2\" class=\"sk-top-container\"><div class=\"sk-text-repr-fallback\"><pre>LinearRegression()</pre><b>In a Jupyter environment, please rerun this cell to show the HTML representation or trust the notebook. <br />On GitHub, the HTML representation is unable to render, please try loading this page with nbviewer.org.</b></div><div class=\"sk-container\" hidden><div class=\"sk-item\"><div class=\"sk-estimator sk-toggleable\"><input class=\"sk-toggleable__control sk-hidden--visually\" id=\"sk-estimator-id-2\" type=\"checkbox\" checked><label for=\"sk-estimator-id-2\" class=\"sk-toggleable__label sk-toggleable__label-arrow\">LinearRegression</label><div class=\"sk-toggleable__content\"><pre>LinearRegression()</pre></div></div></div></div></div>"
      ],
      "text/plain": [
       "LinearRegression()"
      ]
     },
     "execution_count": 11,
     "metadata": {},
     "output_type": "execute_result"
    }
   ],
   "source": [
    "lr_minmax = LinearRegression()\n",
    "lr_minmax.fit(X_train_min_max, y_train)\n",
    "\n",
    "lr_standard = LinearRegression()\n",
    "lr_standard.fit(X_train_standard_scaler, y_train)"
   ]
  },
  {
   "cell_type": "markdown",
   "id": "9004ae34",
   "metadata": {},
   "source": [
    "#### Utiliza métricas de rendimiento adecuadas para la regresión, como el error cuadrático medio (MSE) o el coeficiente de determinación (R²), para evaluar cada modelo en el conjunto de prueba"
   ]
  },
  {
   "cell_type": "markdown",
   "id": "870fd024",
   "metadata": {},
   "source": [
    "Para comprobar el rendimiento del modelo se va a utilizar el error cuadrático medio, que mide la distancia al cuadrado entre los valores reales y los predichos, y el coeficiende de determinación, que mide la proporción de la varianza de los valores reales que se explica por los valores predichos.\n",
    "\n",
    "Es decir, el rendimiento será mejor a menor MSE que tenga, y a mayor R²."
   ]
  },
  {
   "cell_type": "code",
   "execution_count": 12,
   "id": "0753b59b",
   "metadata": {},
   "outputs": [],
   "source": [
    "from sklearn.metrics import r2_score, mean_squared_error"
   ]
  },
  {
   "cell_type": "code",
   "execution_count": 20,
   "id": "2196ed4c",
   "metadata": {},
   "outputs": [],
   "source": [
    "from sklearn.metrics import r2_score, mean_squared_error\n",
    "\n",
    "y_pred = lr.predict(X_test)\n",
    "y_pred_minmax = lr_minmax.predict(X_test_min_max)\n",
    "y_pred_standard = lr_standard.predict(X_test_standard_scaler)\n",
    "\n",
    "mse = np.sqrt(mean_squared_error(y_test, y_pred))\n",
    "mse_minmax = np.sqrt(mean_squared_error(y_test, y_pred_minmax))\n",
    "mse_standard = np.sqrt(mean_squared_error(y_test, y_pred_standard))\n",
    "\n",
    "r2 = r2_score(y_test, y_pred)\n",
    "r2_minmax = r2_score(y_test, y_pred_minmax)\n",
    "r2_standard = r2_score(y_test, y_pred_standard)"
   ]
  },
  {
   "cell_type": "code",
   "execution_count": 21,
   "id": "81f2c527",
   "metadata": {},
   "outputs": [
    {
     "name": "stdout",
     "output_type": "stream",
     "text": [
      "MSE SIN NORMALIZAR =  56.05254484687195\n",
      "R2 SIN NORMALIZAR =  0.4253104187454001 \n",
      "\n",
      "MSE MIN_MAX =  57.80367497764876\n",
      "R2 MIN_MAX =  0.38884192421375685 \n",
      "\n",
      "MSE STANDARD SCALER =  54.368228589960246\n",
      "R2 STANDARD SCALER =  0.45932906908360405\n"
     ]
    }
   ],
   "source": [
    "print(\"MSE SIN NORMALIZAR = \",mse)\n",
    "print(\"R2 SIN NORMALIZAR = \",r2, \"\\n\")\n",
    "\n",
    "print(\"MSE MIN_MAX = \",mse_minmax)\n",
    "print(\"R2 MIN_MAX = \",r2_minmax, \"\\n\")\n",
    "\n",
    "print(\"MSE STANDARD SCALER = \",mse_standard)\n",
    "print(\"R2 STANDARD SCALER = \",r2_standard)"
   ]
  },
  {
   "cell_type": "markdown",
   "id": "21b1f498",
   "metadata": {},
   "source": [
    "#### Compara el rendimiento de los modelos con diferentes métodos de normalización"
   ]
  },
  {
   "cell_type": "markdown",
   "id": "ee58df4b",
   "metadata": {},
   "source": [
    "Teniendo en cuenta los resultados obtenidos en el output antenior, el modelo que los ha obtenido mejores es el que está normalizado usando el $Standard Scaler$, ya que ha obtenido un MSE 3.43 puntos más bajo, y un R² 0.07 más alto. \n",
    "\n",
    "Esto indicaría que el modelo normalizado con $Standard Scaler$ es capaz de realizar una regresión lineal mejor que el modelo normalizado con el escalador $MinMax$."
   ]
  },
  {
   "cell_type": "markdown",
   "id": "d2a9cb8a",
   "metadata": {},
   "source": [
    "#### Basándote en los resultados, concluye sobre la importancia de la normalización en los modelos de regresión seleccionados y su influencia en la precisión del modelo"
   ]
  },
  {
   "cell_type": "markdown",
   "id": "30f27aba",
   "metadata": {},
   "source": [
    "Como se puede ver por los resultados, se ha obtenido un mejor resultando usando el normalizador $Standard$, que usando los datos originales. \n",
    "\n",
    "Esto indica la importancia de la normalización, ya que este proceso puede permitir mejorar el rendimiento de los modelos de regresión, ya que hace que los datos sean más homogéneos y los valores atípicos no afecten tanto al modelo, ya que este tipo de valores pueden reducir el rendimiento del mismo.\n",
    "\n",
    "Cabe destacar que no siempre es mejor usar datos normalizados, ya que como se puede ver en el ejemplo del normalizador $MinMax$, se han obtenido resultados peores que los obtenidos usando el dataset original, por tanto es muy importante probar dichos normalizadores antes de llegar a una conclusión en firme."
   ]
  },
  {
   "cell_type": "markdown",
   "id": "ffe8490a",
   "metadata": {},
   "source": [
    "### Pregunta 5"
   ]
  },
  {
   "cell_type": "markdown",
   "id": "f490b97c-d8b9-4b0a-b8a5-7e96a9cfb6e5",
   "metadata": {},
   "source": [
    "##### Comparación de Modelos de Regresión Ridge, Lasso y Elastic Net con Scikit-Learn\n",
    "\n",
    "- Importa los módulos necesarios para utilizar la regresión Ridge, Lasso y Elastic Net\n",
    "- Elige y carga un dataset de Scikit-Learn adecuado para la regresión\n",
    "- Realiza cualquier pre-procesamiento necesario en el dataset, **como la normalización de características si es necesario**\n",
    "- Divide el dataset en conjuntos de entrenamiento y prueba usando la función train_test_split\n",
    "- Configura y entrena un modelo de regresión para Ridge, Lasso y Elastic Net con el conjunto de entrenamiento.\n",
    "- Asegúrate de experimentar con diferentes hiperparámetros para cada modelo, como el coeficiente de regularización\n",
    "- Evalúa cada modelo con el conjunto de prueba utilizando métricas adecuadas para regresión, como el error cuadrático medio (MSE) o el coeficiente de determinación (R²)\n",
    "- Compara cómo diferentes valores de hiperparámetros afectan el rendimiento de cada modelo.\n",
    "- Analiza los resultados obtenidos y determina cuál modelo y configuración de hiperparámetros ofrece el mejor rendimiento\n",
    "- Concluye sobre las características de cada modelo y cómo influyen en el ajuste a los datos"
   ]
  },
  {
   "cell_type": "markdown",
   "id": "ff3a771e",
   "metadata": {},
   "source": [
    "#### Importa los módulos necesarios para utilizar la regresión Ridge, Lasso y Elastic Net"
   ]
  },
  {
   "cell_type": "code",
   "execution_count": 3,
   "id": "96b0622f",
   "metadata": {},
   "outputs": [],
   "source": [
    "# Importación de paquetes necesarios\n",
    "from sklearn.linear_model import Ridge\n",
    "from sklearn.linear_model import Lasso\n",
    "from sklearn.linear_model import ElasticNet"
   ]
  },
  {
   "cell_type": "markdown",
   "id": "e0665239",
   "metadata": {},
   "source": [
    "#### Elige y carga un dataset de Scikit-Learn adecuado para la regresión"
   ]
  },
  {
   "cell_type": "markdown",
   "id": "1b80dbd2",
   "metadata": {},
   "source": [
    "Se va a utilizar de nuevo el mismo dataset que el ejercicio anterior, el de diabetes de scikit learn. Esto va a permitir comparar los resultados obtenidos anteriormente con la regresión lineal, con los nuevos obtenidos con los otros métodos de regresión."
   ]
  },
  {
   "cell_type": "code",
   "execution_count": 4,
   "id": "b5fce2ba",
   "metadata": {},
   "outputs": [],
   "source": [
    "# Carga del dataset\n",
    "diabetes = datasets.load_diabetes()"
   ]
  },
  {
   "cell_type": "markdown",
   "id": "0be4a561",
   "metadata": {},
   "source": [
    "#### Realiza cualquier pre-procesamiento necesario en el dataset, como la normalización de características si es necesario"
   ]
  },
  {
   "cell_type": "markdown",
   "id": "22415caf",
   "metadata": {},
   "source": [
    "Primero se va a comprobar si hay nulos en el dataframe, para rellenarlos si esto es cierto:"
   ]
  },
  {
   "cell_type": "code",
   "execution_count": 5,
   "id": "d7b9d858",
   "metadata": {},
   "outputs": [
    {
     "name": "stdout",
     "output_type": "stream",
     "text": [
      "age    0\n",
      "sex    0\n",
      "bmi    0\n",
      "bp     0\n",
      "s1     0\n",
      "s2     0\n",
      "s3     0\n",
      "s4     0\n",
      "s5     0\n",
      "s6     0\n",
      "dtype: int64\n"
     ]
    }
   ],
   "source": [
    "# Comprobar si existen nulos para rellenarlos\n",
    "diabetes_df = pd.DataFrame(diabetes.data, columns=diabetes.feature_names)\n",
    "diabetes_df.head()\n",
    "print(diabetes_df.isna().sum()) # No hay nulos"
   ]
  },
  {
   "cell_type": "markdown",
   "id": "08ba911c",
   "metadata": {},
   "source": [
    "Se va a normalizar los datos con un Standard Scaler, ya que como se ha visto en el ejercicio anterior es la mejor opción para este caso:"
   ]
  },
  {
   "cell_type": "code",
   "execution_count": 6,
   "id": "09338330",
   "metadata": {},
   "outputs": [],
   "source": [
    "standard_scaler = StandardScaler()\n",
    "diabetes_data_norm = standard_scaler.fit_transform(diabetes.data)"
   ]
  },
  {
   "cell_type": "markdown",
   "id": "bffac748",
   "metadata": {},
   "source": [
    "En los siguientes dataframes, siendo el primero el original y el segundo el normalizado, se puede observar la diferencia de un dataset sin normalizar y normalizando:"
   ]
  },
  {
   "cell_type": "code",
   "execution_count": 7,
   "id": "628862fc",
   "metadata": {},
   "outputs": [
    {
     "data": {
      "text/html": [
       "<div>\n",
       "<style scoped>\n",
       "    .dataframe tbody tr th:only-of-type {\n",
       "        vertical-align: middle;\n",
       "    }\n",
       "\n",
       "    .dataframe tbody tr th {\n",
       "        vertical-align: top;\n",
       "    }\n",
       "\n",
       "    .dataframe thead th {\n",
       "        text-align: right;\n",
       "    }\n",
       "</style>\n",
       "<table border=\"1\" class=\"dataframe\">\n",
       "  <thead>\n",
       "    <tr style=\"text-align: right;\">\n",
       "      <th></th>\n",
       "      <th>age</th>\n",
       "      <th>sex</th>\n",
       "      <th>bmi</th>\n",
       "      <th>bp</th>\n",
       "      <th>s1</th>\n",
       "      <th>s2</th>\n",
       "      <th>s3</th>\n",
       "      <th>s4</th>\n",
       "      <th>s5</th>\n",
       "      <th>s6</th>\n",
       "    </tr>\n",
       "  </thead>\n",
       "  <tbody>\n",
       "    <tr>\n",
       "      <th>0</th>\n",
       "      <td>0.038076</td>\n",
       "      <td>0.050680</td>\n",
       "      <td>0.061696</td>\n",
       "      <td>0.021872</td>\n",
       "      <td>-0.044223</td>\n",
       "      <td>-0.034821</td>\n",
       "      <td>-0.043401</td>\n",
       "      <td>-0.002592</td>\n",
       "      <td>0.019907</td>\n",
       "      <td>-0.017646</td>\n",
       "    </tr>\n",
       "    <tr>\n",
       "      <th>1</th>\n",
       "      <td>-0.001882</td>\n",
       "      <td>-0.044642</td>\n",
       "      <td>-0.051474</td>\n",
       "      <td>-0.026328</td>\n",
       "      <td>-0.008449</td>\n",
       "      <td>-0.019163</td>\n",
       "      <td>0.074412</td>\n",
       "      <td>-0.039493</td>\n",
       "      <td>-0.068332</td>\n",
       "      <td>-0.092204</td>\n",
       "    </tr>\n",
       "    <tr>\n",
       "      <th>2</th>\n",
       "      <td>0.085299</td>\n",
       "      <td>0.050680</td>\n",
       "      <td>0.044451</td>\n",
       "      <td>-0.005670</td>\n",
       "      <td>-0.045599</td>\n",
       "      <td>-0.034194</td>\n",
       "      <td>-0.032356</td>\n",
       "      <td>-0.002592</td>\n",
       "      <td>0.002861</td>\n",
       "      <td>-0.025930</td>\n",
       "    </tr>\n",
       "    <tr>\n",
       "      <th>3</th>\n",
       "      <td>-0.089063</td>\n",
       "      <td>-0.044642</td>\n",
       "      <td>-0.011595</td>\n",
       "      <td>-0.036656</td>\n",
       "      <td>0.012191</td>\n",
       "      <td>0.024991</td>\n",
       "      <td>-0.036038</td>\n",
       "      <td>0.034309</td>\n",
       "      <td>0.022688</td>\n",
       "      <td>-0.009362</td>\n",
       "    </tr>\n",
       "    <tr>\n",
       "      <th>4</th>\n",
       "      <td>0.005383</td>\n",
       "      <td>-0.044642</td>\n",
       "      <td>-0.036385</td>\n",
       "      <td>0.021872</td>\n",
       "      <td>0.003935</td>\n",
       "      <td>0.015596</td>\n",
       "      <td>0.008142</td>\n",
       "      <td>-0.002592</td>\n",
       "      <td>-0.031988</td>\n",
       "      <td>-0.046641</td>\n",
       "    </tr>\n",
       "  </tbody>\n",
       "</table>\n",
       "</div>"
      ],
      "text/plain": [
       "        age       sex       bmi        bp        s1        s2        s3  \\\n",
       "0  0.038076  0.050680  0.061696  0.021872 -0.044223 -0.034821 -0.043401   \n",
       "1 -0.001882 -0.044642 -0.051474 -0.026328 -0.008449 -0.019163  0.074412   \n",
       "2  0.085299  0.050680  0.044451 -0.005670 -0.045599 -0.034194 -0.032356   \n",
       "3 -0.089063 -0.044642 -0.011595 -0.036656  0.012191  0.024991 -0.036038   \n",
       "4  0.005383 -0.044642 -0.036385  0.021872  0.003935  0.015596  0.008142   \n",
       "\n",
       "         s4        s5        s6  \n",
       "0 -0.002592  0.019907 -0.017646  \n",
       "1 -0.039493 -0.068332 -0.092204  \n",
       "2 -0.002592  0.002861 -0.025930  \n",
       "3  0.034309  0.022688 -0.009362  \n",
       "4 -0.002592 -0.031988 -0.046641  "
      ]
     },
     "execution_count": 7,
     "metadata": {},
     "output_type": "execute_result"
    }
   ],
   "source": [
    "diabetes_df = pd.DataFrame(diabetes.data, columns = diabetes.feature_names)\n",
    "normalised_diabetes_df = pd.DataFrame(diabetes_data_norm, columns = diabetes.feature_names)\n",
    "\n",
    "diabetes_df.head()"
   ]
  },
  {
   "cell_type": "code",
   "execution_count": 8,
   "id": "f473981f",
   "metadata": {},
   "outputs": [
    {
     "data": {
      "text/html": [
       "<div>\n",
       "<style scoped>\n",
       "    .dataframe tbody tr th:only-of-type {\n",
       "        vertical-align: middle;\n",
       "    }\n",
       "\n",
       "    .dataframe tbody tr th {\n",
       "        vertical-align: top;\n",
       "    }\n",
       "\n",
       "    .dataframe thead th {\n",
       "        text-align: right;\n",
       "    }\n",
       "</style>\n",
       "<table border=\"1\" class=\"dataframe\">\n",
       "  <thead>\n",
       "    <tr style=\"text-align: right;\">\n",
       "      <th></th>\n",
       "      <th>age</th>\n",
       "      <th>sex</th>\n",
       "      <th>bmi</th>\n",
       "      <th>bp</th>\n",
       "      <th>s1</th>\n",
       "      <th>s2</th>\n",
       "      <th>s3</th>\n",
       "      <th>s4</th>\n",
       "      <th>s5</th>\n",
       "      <th>s6</th>\n",
       "    </tr>\n",
       "  </thead>\n",
       "  <tbody>\n",
       "    <tr>\n",
       "      <th>0</th>\n",
       "      <td>0.800500</td>\n",
       "      <td>1.065488</td>\n",
       "      <td>1.297088</td>\n",
       "      <td>0.459841</td>\n",
       "      <td>-0.929746</td>\n",
       "      <td>-0.732065</td>\n",
       "      <td>-0.912451</td>\n",
       "      <td>-0.054499</td>\n",
       "      <td>0.418531</td>\n",
       "      <td>-0.370989</td>\n",
       "    </tr>\n",
       "    <tr>\n",
       "      <th>1</th>\n",
       "      <td>-0.039567</td>\n",
       "      <td>-0.938537</td>\n",
       "      <td>-1.082180</td>\n",
       "      <td>-0.553505</td>\n",
       "      <td>-0.177624</td>\n",
       "      <td>-0.402886</td>\n",
       "      <td>1.564414</td>\n",
       "      <td>-0.830301</td>\n",
       "      <td>-1.436589</td>\n",
       "      <td>-1.938479</td>\n",
       "    </tr>\n",
       "    <tr>\n",
       "      <th>2</th>\n",
       "      <td>1.793307</td>\n",
       "      <td>1.065488</td>\n",
       "      <td>0.934533</td>\n",
       "      <td>-0.119214</td>\n",
       "      <td>-0.958674</td>\n",
       "      <td>-0.718897</td>\n",
       "      <td>-0.680245</td>\n",
       "      <td>-0.054499</td>\n",
       "      <td>0.060156</td>\n",
       "      <td>-0.545154</td>\n",
       "    </tr>\n",
       "    <tr>\n",
       "      <th>3</th>\n",
       "      <td>-1.872441</td>\n",
       "      <td>-0.938537</td>\n",
       "      <td>-0.243771</td>\n",
       "      <td>-0.770650</td>\n",
       "      <td>0.256292</td>\n",
       "      <td>0.525397</td>\n",
       "      <td>-0.757647</td>\n",
       "      <td>0.721302</td>\n",
       "      <td>0.476983</td>\n",
       "      <td>-0.196823</td>\n",
       "    </tr>\n",
       "    <tr>\n",
       "      <th>4</th>\n",
       "      <td>0.113172</td>\n",
       "      <td>-0.938537</td>\n",
       "      <td>-0.764944</td>\n",
       "      <td>0.459841</td>\n",
       "      <td>0.082726</td>\n",
       "      <td>0.327890</td>\n",
       "      <td>0.171178</td>\n",
       "      <td>-0.054499</td>\n",
       "      <td>-0.672502</td>\n",
       "      <td>-0.980568</td>\n",
       "    </tr>\n",
       "  </tbody>\n",
       "</table>\n",
       "</div>"
      ],
      "text/plain": [
       "        age       sex       bmi        bp        s1        s2        s3  \\\n",
       "0  0.800500  1.065488  1.297088  0.459841 -0.929746 -0.732065 -0.912451   \n",
       "1 -0.039567 -0.938537 -1.082180 -0.553505 -0.177624 -0.402886  1.564414   \n",
       "2  1.793307  1.065488  0.934533 -0.119214 -0.958674 -0.718897 -0.680245   \n",
       "3 -1.872441 -0.938537 -0.243771 -0.770650  0.256292  0.525397 -0.757647   \n",
       "4  0.113172 -0.938537 -0.764944  0.459841  0.082726  0.327890  0.171178   \n",
       "\n",
       "         s4        s5        s6  \n",
       "0 -0.054499  0.418531 -0.370989  \n",
       "1 -0.830301 -1.436589 -1.938479  \n",
       "2 -0.054499  0.060156 -0.545154  \n",
       "3  0.721302  0.476983 -0.196823  \n",
       "4 -0.054499 -0.672502 -0.980568  "
      ]
     },
     "execution_count": 8,
     "metadata": {},
     "output_type": "execute_result"
    }
   ],
   "source": [
    "normalised_diabetes_df.head()"
   ]
  },
  {
   "cell_type": "markdown",
   "id": "d1c88ffb",
   "metadata": {},
   "source": [
    "Por último, separamos los datos y los targets en dos variables diferentes para poder tenerlos más visibles:"
   ]
  },
  {
   "cell_type": "code",
   "execution_count": 9,
   "id": "2928abc2",
   "metadata": {},
   "outputs": [],
   "source": [
    "# Separación de los datos y los objetivos\n",
    "data = diabetes_data_norm\n",
    "target = diabetes.target"
   ]
  },
  {
   "cell_type": "markdown",
   "id": "21c6c513",
   "metadata": {},
   "source": [
    "#### Divide el dataset en conjuntos de entrenamiento y prueba usando la función train_test_split"
   ]
  },
  {
   "cell_type": "code",
   "execution_count": 10,
   "id": "5ee75a7a",
   "metadata": {},
   "outputs": [],
   "source": [
    "X_train, X_test, y_train, y_test = train_test_split(data, target)"
   ]
  },
  {
   "cell_type": "markdown",
   "id": "eaf4c3b2",
   "metadata": {},
   "source": [
    "#### Configura y entrena un modelo de regresión para Ridge, Lasso y Elastic Net con el conjunto de entrenamiento. Asegúrate de experimentar con diferentes hiperparámetros para cada modelo, como el coeficiente de regularización"
   ]
  },
  {
   "cell_type": "code",
   "execution_count": 13,
   "id": "959abfcd",
   "metadata": {},
   "outputs": [],
   "source": [
    "# Prueba de coeficientes de regularización\n",
    "\n",
    "alphas = np.arange(0.1, 10.1, 0.1)\n",
    "\n",
    "result_mse_ridge = []\n",
    "result_mse_lasso = []\n",
    "result_mse_EN = []\n",
    "\n",
    "result_r2_ridge = []\n",
    "result_r2_lasso = []\n",
    "result_r2_EN = []\n",
    "\n",
    "for alpha in alphas:\n",
    "    ridge = Ridge(alpha=alpha)\n",
    "    lasso = Lasso(alpha=alpha)\n",
    "    elastic_net = ElasticNet(alpha=alpha, l1_ratio=0.5)\n",
    "\n",
    "    ridge.fit(X_train, y_train)\n",
    "    lasso.fit(X_train, y_train)\n",
    "    elastic_net.fit(X_train, y_train)\n",
    "    \n",
    "    # Predecir \n",
    "    y_pred_ridge = ridge.predict(X_test)\n",
    "    y_pred_lasso = lasso.predict(X_test)\n",
    "    y_pred_elastic_net = elastic_net.predict(X_test)\n",
    "    \n",
    "    mse_ridge = np.sqrt(mean_squared_error(y_test, y_pred_ridge))\n",
    "    mse_lasso = np.sqrt(mean_squared_error(y_test, y_pred_lasso))\n",
    "    mse_elastic_net = np.sqrt(mean_squared_error(y_test, y_pred_elastic_net))\n",
    "    \n",
    "    result_mse_ridge.append(mse_ridge)\n",
    "    result_mse_lasso.append(mse_lasso)\n",
    "    result_mse_EN.append(mse_elastic_net)\n",
    "    \n",
    "    r2_ridge = r2_score(y_test, y_pred_ridge)\n",
    "    r2_lasso = r2_score(y_test, y_pred_lasso)\n",
    "    r2_elastic_net = r2_score(y_test, y_pred_elastic_net)\n",
    "    \n",
    "    result_r2_ridge.append(r2_ridge)\n",
    "    result_r2_lasso.append(r2_lasso)\n",
    "    result_r2_EN.append(r2_elastic_net)"
   ]
  },
  {
   "cell_type": "code",
   "execution_count": 15,
   "id": "11592852",
   "metadata": {},
   "outputs": [],
   "source": [
    "# Prueba de solvers\n",
    "\n",
    "solvers = [\"auto\", \"svd\", \"cholesky\", \"lsqr\", \"sparse_cg\", \"sag\", \"saga\"]\n",
    "\n",
    "result_solvers_mse_ridge = []\n",
    "result_solvers_mse_lasso = []\n",
    "result_solvers_mse_EN = []\n",
    "\n",
    "result_solvers_r2_ridge = []\n",
    "result_solvers_r2_lasso = []\n",
    "result_solvers_r2_EN = []\n",
    "\n",
    "for sol in solvers:\n",
    "    ridge = Ridge(alpha=3, solver = sol)\n",
    "    lasso = Lasso(alpha=3)\n",
    "    elastic_net = ElasticNet(alpha=3, l1_ratio=0.5)\n",
    "\n",
    "    ridge.fit(X_train, y_train)\n",
    "    lasso.fit(X_train, y_train)\n",
    "    elastic_net.fit(X_train, y_train)\n",
    "    \n",
    "    # Predecir \n",
    "    y_pred_ridge = ridge.predict(X_test)\n",
    "    y_pred_lasso = lasso.predict(X_test)\n",
    "    y_pred_elastic_net = elastic_net.predict(X_test)\n",
    "    \n",
    "    mse_ridge = np.sqrt(mean_squared_error(y_test, y_pred_ridge))\n",
    "    mse_lasso = np.sqrt(mean_squared_error(y_test, y_pred_lasso))\n",
    "    mse_elastic_net = np.sqrt(mean_squared_error(y_test, y_pred_elastic_net))\n",
    "    \n",
    "    result_solvers_mse_ridge.append(mse_ridge)\n",
    "    result_solvers_mse_lasso.append(mse_lasso)\n",
    "    result_solvers_mse_EN.append(mse_elastic_net)\n",
    "    \n",
    "    r2_ridge = r2_score(y_test, y_pred_ridge)\n",
    "    r2_lasso = r2_score(y_test, y_pred_lasso)\n",
    "    r2_elastic_net = r2_score(y_test, y_pred_elastic_net)\n",
    "    \n",
    "    result_solvers_r2_ridge.append(r2_ridge)\n",
    "    result_solvers_r2_lasso.append(r2_lasso)\n",
    "    result_solvers_r2_EN.append(r2_elastic_net)"
   ]
  },
  {
   "cell_type": "markdown",
   "id": "d441eca9",
   "metadata": {},
   "source": [
    "#### Evalúa cada modelo con el conjunto de prueba utilizando métricas adecuadas para regresión, como el error cuadrático medio (MSE) o el coeficiente de determinación (R²)\n",
    "\n",
    "#### Compara cómo diferentes valores de hiperparámetros afectan el rendimiento de cada modelo."
   ]
  },
  {
   "cell_type": "markdown",
   "id": "95d73f20",
   "metadata": {},
   "source": [
    "Para poder evaluar y comparar los resultados obtenidos, se van a visualizar dichos resultados gráficamente utilizando el paquete $matplotlib.pyplot$ de la siguiente forma:"
   ]
  },
  {
   "cell_type": "code",
   "execution_count": 78,
   "id": "5aa16c26",
   "metadata": {
    "scrolled": false
   },
   "outputs": [
    {
     "data": {
      "image/png": "[encoded data removed]",
      "text/plain": [
       "<Figure size 1000x750 with 6 Axes>"
      ]
     },
     "metadata": {},
     "output_type": "display_data"
    }
   ],
   "source": [
    "# coeficientes de regularización\n",
    "fig, axs = plt.subplots(nrows=3, ncols=2, figsize=(10, 7.5))\n",
    "\n",
    "axs[0,0].set_title(\"MSE\")\n",
    "axs[0,1].set_title(\"R²\")\n",
    "\n",
    "axs[0,0].plot(alphas, result_mse_ridge, label=\"MSE Ridge\")\n",
    "axs[0,1].plot(alphas, result_r2_ridge,label=\"R2 Ridge\")\n",
    "axs[0,0].legend()\n",
    "axs[0,1].legend()\n",
    "\n",
    "\n",
    "axs[1,0].plot(alphas, result_mse_lasso, label=\"MSE Lasso\")\n",
    "axs[1,1].plot(alphas, result_r2_lasso, label=\"R2 Lasso\")\n",
    "axs[1,0].legend()\n",
    "axs[1,1].legend()\n",
    "\n",
    "axs[2,0].plot(alphas, result_mse_EN, label=\"MSE Elastic Net\")\n",
    "axs[2,1].plot(alphas, result_r2_EN, label=\"R2 Elastic Net\")\n",
    "axs[2,0].legend()\n",
    "axs[2,1].legend()\n",
    "\n",
    "plt.show()"
   ]
  },
  {
   "cell_type": "code",
   "execution_count": 17,
   "id": "5e6db6ac",
   "metadata": {},
   "outputs": [
    {
     "data": {
      "image/png": "[encoded data removed]",
      "text/plain": [
       "<Figure size 1000x750 with 6 Axes>"
      ]
     },
     "metadata": {},
     "output_type": "display_data"
    }
   ],
   "source": [
    "# coeficientes de regularización\n",
    "fig2, axs2 = plt.subplots(nrows=3, ncols=2, figsize=(10, 7.5))\n",
    "\n",
    "axs2[0,0].set_title(\"MSE\")\n",
    "axs2[0,1].set_title(\"R²\")\n",
    "\n",
    "axs2[0,0].plot(solvers, result_solvers_mse_ridge, label=\"MSE Ridge\")\n",
    "axs2[0,1].plot(solvers, result_solvers_r2_ridge,label=\"R2 Ridge\")\n",
    "axs2[0,0].legend()\n",
    "axs2[0,1].legend()\n",
    "\n",
    "\n",
    "axs2[1,0].plot(solvers, result_solvers_mse_lasso, label=\"MSE Lasso\")\n",
    "axs2[1,1].plot(solvers, result_solvers_r2_lasso, label=\"R2 Lasso\")\n",
    "axs2[1,0].legend()\n",
    "axs2[1,1].legend()\n",
    "\n",
    "axs2[2,0].plot(solvers, result_solvers_mse_EN, label=\"MSE Elastic Net\")\n",
    "axs2[2,1].plot(solvers, result_solvers_r2_EN, label=\"R2 Elastic Net\")\n",
    "axs2[2,0].legend()\n",
    "axs2[2,1].legend()\n",
    "\n",
    "plt.show()"
   ]
  },
  {
   "cell_type": "markdown",
   "id": "bcd38a2e",
   "metadata": {},
   "source": [
    "#### Analiza los resultados obtenidos y determina cuál modelo y configuración de hiperparámetros ofrece el mejor rendimiento"
   ]
  },
  {
   "cell_type": "markdown",
   "id": "63a4a229",
   "metadata": {},
   "source": [
    "Según los resultados anteriormente obtenidos, los mejores modelos son el de regresión lineal de Ridge y de Lasso, ya que tienen unos resultados de MSE y R² parecidos.\n",
    "\n",
    "En cuanto a los hiperparámetros, se ha probado cambiar el coeficiente regularización, el cuál afecta muy notablemente el rendimiento de los modelos de regresión lineal. A mayor coeficiente de regularización, peores resultados se obtienen, ya que el MSE es mayor y el R² es menor. Por ello, lo ideal es utilizar un coeficiente regularización entre 2 y 4 aproximadamente en este caso, aunque para cadad dataset será un caso diferente, y habrá que realizar el mismo proceso de búsqueda de la mejor configuración.\n",
    "\n",
    "Por otro lado, también se ha experimentado con el hiperparámetro $solver$, el cuál se ocupa de decidir como la rutina computacional que se utiliza para calcular la regresión lineal. En este caso, lo más recomendado es dejar la opción que viene predeterminada, $auto$, que como su nombre indica, elige automáticamente el mejor $solver$."
   ]
  },
  {
   "cell_type": "markdown",
   "id": "059454c5",
   "metadata": {},
   "source": [
    "#### Concluye sobre las características de cada modelo y cómo influyen en el ajuste a los datos"
   ]
  },
  {
   "cell_type": "markdown",
   "id": "fbd3cc64",
   "metadata": {},
   "source": [
    "Los tres modelos son muy parecidos entre sí, ya que los resultados no se alejan mucho, ajustan los datos de manera parecida. Lo que sí que se puede confirmar, es que los modelos de Ridge y de Lasso son algo mejores que el Elastic Net, así que habría que elegir entre los dos primeros. \n",
    "\n",
    "Para poder elegir, el mejor proceso sería realizar pruebas con el dataset deseado, para poder ver que modelo obtiene mejores resultados."
   ]
  },
  {
   "cell_type": "markdown",
   "id": "4b982713",
   "metadata": {},
   "source": [
    "### Pregunta 6"
   ]
  },
  {
   "cell_type": "markdown",
   "id": "1b3e51e8-1d94-4331-9340-eb39122c1fc7",
   "metadata": {},
   "source": [
    "##### Entrenar un modelo de SVM con kernel no lineal, con un dataset de scikit-learn (para clasificación binaria, como el breast_cancer) y evaluar la influencia de sus parámetros\n",
    "\n",
    "- Importa svm para el modelo SVM\n",
    "- Elige un dataset proporcionado por Scikit-Learn adecuado para clasificación binaria\n",
    "- Divide el dataset en conjuntos de entrenamiento y prueba utilizando la función train_test_split\n",
    "- Configura el modelo SVM seleccionando un kernel no lineal, como 'rbf', 'poly', o 'sigmoid'\n",
    "- Asegúrate de entender las implicaciones de cada tipo de kernel y cómo pueden afectar el modelo\n",
    "- Varía los parámetros importantes del kernel elegido, como C (parámetro de regularización), gamma (parámetro del kernel), y otros parámetros específicos del kernel como el grado en el caso del kernel polinómico.\n",
    "- Entrena múltiples modelos con diferentes combinaciones de estos parámetros\n",
    "- Utiliza una métrica de evaluación adecuada para evaluar el modelo en el conjunto de prueba, como la precisión, el área bajo la curva ROC, etc...\n",
    "- Compara cómo diferentes valores de parámetros afectan el rendimiento del modelo\n",
    "- Reflexiona sobre cómo la selección y ajuste de parámetros pueden mejorar o empeorar el modelo"
   ]
  },
  {
   "cell_type": "markdown",
   "id": "535acd21",
   "metadata": {},
   "source": [
    "#### Importa svm para el modelo SVM"
   ]
  },
  {
   "cell_type": "code",
   "execution_count": 2,
   "id": "2ecdc611",
   "metadata": {},
   "outputs": [],
   "source": [
    "from sklearn.svm import SVC"
   ]
  },
  {
   "cell_type": "markdown",
   "id": "7d54088e",
   "metadata": {},
   "source": [
    "#### Elige un dataset proporcionado por Scikit-Learn adecuado para clasificación binaria"
   ]
  },
  {
   "cell_type": "code",
   "execution_count": 3,
   "id": "44603ee7",
   "metadata": {},
   "outputs": [
    {
     "data": {
      "text/html": [
       "<div>\n",
       "<style scoped>\n",
       "    .dataframe tbody tr th:only-of-type {\n",
       "        vertical-align: middle;\n",
       "    }\n",
       "\n",
       "    .dataframe tbody tr th {\n",
       "        vertical-align: top;\n",
       "    }\n",
       "\n",
       "    .dataframe thead th {\n",
       "        text-align: right;\n",
       "    }\n",
       "</style>\n",
       "<table border=\"1\" class=\"dataframe\">\n",
       "  <thead>\n",
       "    <tr style=\"text-align: right;\">\n",
       "      <th></th>\n",
       "      <th>mean radius</th>\n",
       "      <th>mean texture</th>\n",
       "      <th>mean perimeter</th>\n",
       "      <th>mean area</th>\n",
       "      <th>mean smoothness</th>\n",
       "      <th>mean compactness</th>\n",
       "      <th>mean concavity</th>\n",
       "      <th>mean concave points</th>\n",
       "      <th>mean symmetry</th>\n",
       "      <th>mean fractal dimension</th>\n",
       "      <th>...</th>\n",
       "      <th>worst radius</th>\n",
       "      <th>worst texture</th>\n",
       "      <th>worst perimeter</th>\n",
       "      <th>worst area</th>\n",
       "      <th>worst smoothness</th>\n",
       "      <th>worst compactness</th>\n",
       "      <th>worst concavity</th>\n",
       "      <th>worst concave points</th>\n",
       "      <th>worst symmetry</th>\n",
       "      <th>worst fractal dimension</th>\n",
       "    </tr>\n",
       "  </thead>\n",
       "  <tbody>\n",
       "    <tr>\n",
       "      <th>0</th>\n",
       "      <td>17.99</td>\n",
       "      <td>10.38</td>\n",
       "      <td>122.80</td>\n",
       "      <td>1001.0</td>\n",
       "      <td>0.11840</td>\n",
       "      <td>0.27760</td>\n",
       "      <td>0.3001</td>\n",
       "      <td>0.14710</td>\n",
       "      <td>0.2419</td>\n",
       "      <td>0.07871</td>\n",
       "      <td>...</td>\n",
       "      <td>25.38</td>\n",
       "      <td>17.33</td>\n",
       "      <td>184.60</td>\n",
       "      <td>2019.0</td>\n",
       "      <td>0.1622</td>\n",
       "      <td>0.6656</td>\n",
       "      <td>0.7119</td>\n",
       "      <td>0.2654</td>\n",
       "      <td>0.4601</td>\n",
       "      <td>0.11890</td>\n",
       "    </tr>\n",
       "    <tr>\n",
       "      <th>1</th>\n",
       "      <td>20.57</td>\n",
       "      <td>17.77</td>\n",
       "      <td>132.90</td>\n",
       "      <td>1326.0</td>\n",
       "      <td>0.08474</td>\n",
       "      <td>0.07864</td>\n",
       "      <td>0.0869</td>\n",
       "      <td>0.07017</td>\n",
       "      <td>0.1812</td>\n",
       "      <td>0.05667</td>\n",
       "      <td>...</td>\n",
       "      <td>24.99</td>\n",
       "      <td>23.41</td>\n",
       "      <td>158.80</td>\n",
       "      <td>1956.0</td>\n",
       "      <td>0.1238</td>\n",
       "      <td>0.1866</td>\n",
       "      <td>0.2416</td>\n",
       "      <td>0.1860</td>\n",
       "      <td>0.2750</td>\n",
       "      <td>0.08902</td>\n",
       "    </tr>\n",
       "    <tr>\n",
       "      <th>2</th>\n",
       "      <td>19.69</td>\n",
       "      <td>21.25</td>\n",
       "      <td>130.00</td>\n",
       "      <td>1203.0</td>\n",
       "      <td>0.10960</td>\n",
       "      <td>0.15990</td>\n",
       "      <td>0.1974</td>\n",
       "      <td>0.12790</td>\n",
       "      <td>0.2069</td>\n",
       "      <td>0.05999</td>\n",
       "      <td>...</td>\n",
       "      <td>23.57</td>\n",
       "      <td>25.53</td>\n",
       "      <td>152.50</td>\n",
       "      <td>1709.0</td>\n",
       "      <td>0.1444</td>\n",
       "      <td>0.4245</td>\n",
       "      <td>0.4504</td>\n",
       "      <td>0.2430</td>\n",
       "      <td>0.3613</td>\n",
       "      <td>0.08758</td>\n",
       "    </tr>\n",
       "    <tr>\n",
       "      <th>3</th>\n",
       "      <td>11.42</td>\n",
       "      <td>20.38</td>\n",
       "      <td>77.58</td>\n",
       "      <td>386.1</td>\n",
       "      <td>0.14250</td>\n",
       "      <td>0.28390</td>\n",
       "      <td>0.2414</td>\n",
       "      <td>0.10520</td>\n",
       "      <td>0.2597</td>\n",
       "      <td>0.09744</td>\n",
       "      <td>...</td>\n",
       "      <td>14.91</td>\n",
       "      <td>26.50</td>\n",
       "      <td>98.87</td>\n",
       "      <td>567.7</td>\n",
       "      <td>0.2098</td>\n",
       "      <td>0.8663</td>\n",
       "      <td>0.6869</td>\n",
       "      <td>0.2575</td>\n",
       "      <td>0.6638</td>\n",
       "      <td>0.17300</td>\n",
       "    </tr>\n",
       "    <tr>\n",
       "      <th>4</th>\n",
       "      <td>20.29</td>\n",
       "      <td>14.34</td>\n",
       "      <td>135.10</td>\n",
       "      <td>1297.0</td>\n",
       "      <td>0.10030</td>\n",
       "      <td>0.13280</td>\n",
       "      <td>0.1980</td>\n",
       "      <td>0.10430</td>\n",
       "      <td>0.1809</td>\n",
       "      <td>0.05883</td>\n",
       "      <td>...</td>\n",
       "      <td>22.54</td>\n",
       "      <td>16.67</td>\n",
       "      <td>152.20</td>\n",
       "      <td>1575.0</td>\n",
       "      <td>0.1374</td>\n",
       "      <td>0.2050</td>\n",
       "      <td>0.4000</td>\n",
       "      <td>0.1625</td>\n",
       "      <td>0.2364</td>\n",
       "      <td>0.07678</td>\n",
       "    </tr>\n",
       "  </tbody>\n",
       "</table>\n",
       "<p>5 rows × 30 columns</p>\n",
       "</div>"
      ],
      "text/plain": [
       "   mean radius  mean texture  mean perimeter  mean area  mean smoothness  \\\n",
       "0        17.99         10.38          122.80     1001.0          0.11840   \n",
       "1        20.57         17.77          132.90     1326.0          0.08474   \n",
       "2        19.69         21.25          130.00     1203.0          0.10960   \n",
       "3        11.42         20.38           77.58      386.1          0.14250   \n",
       "4        20.29         14.34          135.10     1297.0          0.10030   \n",
       "\n",
       "   mean compactness  mean concavity  mean concave points  mean symmetry  \\\n",
       "0           0.27760          0.3001              0.14710         0.2419   \n",
       "1           0.07864          0.0869              0.07017         0.1812   \n",
       "2           0.15990          0.1974              0.12790         0.2069   \n",
       "3           0.28390          0.2414              0.10520         0.2597   \n",
       "4           0.13280          0.1980              0.10430         0.1809   \n",
       "\n",
       "   mean fractal dimension  ...  worst radius  worst texture  worst perimeter  \\\n",
       "0                 0.07871  ...         25.38          17.33           184.60   \n",
       "1                 0.05667  ...         24.99          23.41           158.80   \n",
       "2                 0.05999  ...         23.57          25.53           152.50   \n",
       "3                 0.09744  ...         14.91          26.50            98.87   \n",
       "4                 0.05883  ...         22.54          16.67           152.20   \n",
       "\n",
       "   worst area  worst smoothness  worst compactness  worst concavity  \\\n",
       "0      2019.0            0.1622             0.6656           0.7119   \n",
       "1      1956.0            0.1238             0.1866           0.2416   \n",
       "2      1709.0            0.1444             0.4245           0.4504   \n",
       "3       567.7            0.2098             0.8663           0.6869   \n",
       "4      1575.0            0.1374             0.2050           0.4000   \n",
       "\n",
       "   worst concave points  worst symmetry  worst fractal dimension  \n",
       "0                0.2654          0.4601                  0.11890  \n",
       "1                0.1860          0.2750                  0.08902  \n",
       "2                0.2430          0.3613                  0.08758  \n",
       "3                0.2575          0.6638                  0.17300  \n",
       "4                0.1625          0.2364                  0.07678  \n",
       "\n",
       "[5 rows x 30 columns]"
      ]
     },
     "execution_count": 3,
     "metadata": {},
     "output_type": "execute_result"
    }
   ],
   "source": [
    "bc = datasets.load_breast_cancer()\n",
    "bc_df = pd.DataFrame(bc.data, columns = bc.feature_names)\n",
    "bc_df.head()"
   ]
  },
  {
   "cell_type": "code",
   "execution_count": 4,
   "id": "06624ef7",
   "metadata": {},
   "outputs": [],
   "source": [
    "normaliser = StandardScaler() # Crear normalizador\n",
    "bc_norm = normaliser.fit_transform(bc.data) # Normalizar datos"
   ]
  },
  {
   "cell_type": "code",
   "execution_count": 5,
   "id": "1367288a",
   "metadata": {},
   "outputs": [],
   "source": [
    "data = bc_norm\n",
    "target = bc.target"
   ]
  },
  {
   "cell_type": "markdown",
   "id": "98a8c579",
   "metadata": {},
   "source": [
    "#### Divide el dataset en conjuntos de entrenamiento y prueba utilizando la función train_test_split"
   ]
  },
  {
   "cell_type": "code",
   "execution_count": 6,
   "id": "fd92a80d",
   "metadata": {},
   "outputs": [],
   "source": [
    "X_train, X_test, y_train, y_test = train_test_split(data, target)"
   ]
  },
  {
   "cell_type": "markdown",
   "id": "f833ebf1",
   "metadata": {},
   "source": [
    "####  Configura el modelo SVM seleccionando un kernel no lineal, como 'rbf', 'poly', o 'sigmoid'. \n",
    "#### Asegúrate de entender las implicaciones de cada tipo de kernel y cómo pueden afectar el modelo"
   ]
  },
  {
   "cell_type": "markdown",
   "id": "d26720fa",
   "metadata": {},
   "source": [
    "- El kernel RBF es una función radial que se suele utilizar por defecto en los modelos SVM. Tiene buen rendimiento en muchos casos, por ello se suele usar como opción predeterminada\n",
    "\n",
    "- El kernel Poly es una función polinomial. Es un kernel más complejo que el RBF, por lo que requiere mayor tiempo de procesado. Es eficiente cuando los $features$ están relacionados polinómicamente.\n",
    "\n",
    "- El kernel sigmoid es una función sigmoidal. Es sensible cuando se escalan los datos.\n",
    "\n",
    "Para este ejercicio, se va a probar el kernel RBF, ya que es el más común. A continuación se van a crear distintos modelos, con distintos parámetros, para observar como afectan al rendimiento.\n"
   ]
  },
  {
   "cell_type": "markdown",
   "id": "83fd8ddc",
   "metadata": {},
   "source": [
    "#### Varía los parámetros importantes del kernel elegido, como C (parámetro de regularización), gamma (parámetro del kernel), y otros parámetros específicos del kernel como el grado en el caso del kernel polinómico.\n",
    "\n",
    "#### Entrena múltiples modelos con diferentes combinaciones de estos parámetros"
   ]
  },
  {
   "cell_type": "markdown",
   "id": "aceb87c3",
   "metadata": {},
   "source": [
    "Como se usa el kerner $RBF$, se van a probar los siguientes parámetros:\n",
    "\n",
    "- C: Controla la penalización del error de entrenamiento. A mayor valor de C, más se penaliza el error de entrenamiento, lo que ayuda a reducir el $overfitting$, pero reduce la capacidad de generalización del modelo.\n",
    "\n",
    "- Gamma: Controla la función de decisión, es decir, afecta la forma en la que se realizan los límites de decisión del modelo. A menor gamma, los límites de decision son menos ajustados, se ajustan menos a los datos de entrenamiento, pero esto puede dar \"underfitting\".\n",
    "\n",
    "- Shrinking: Este parámetro decide si se usa la heurística de encogimiento o no. Es útil en conjuntos de datos grandes para reducir el tiempo de entrenamiento.\n",
    "\n",
    "- Probability: Activa o desactiva las estimaciones de probabilidad. Si está activo, puede ralentizar el entrenamiento.\n",
    "\n",
    "Para encontrar el mejor modelo con ciertos parámetros, se va a utilizar el paquete $GridSearchCV$, que permite introducir múltiples parámetros en una sola línea de código para entrenar múltiples modelos de una tirada:"
   ]
  },
  {
   "cell_type": "code",
   "execution_count": 8,
   "id": "5d4a1279",
   "metadata": {},
   "outputs": [],
   "source": [
    "from sklearn.model_selection import GridSearchCV"
   ]
  },
  {
   "cell_type": "code",
   "execution_count": 9,
   "id": "19a68272",
   "metadata": {},
   "outputs": [
    {
     "data": {
      "text/html": [
       "<style>#sk-container-id-1 {color: black;}#sk-container-id-1 pre{padding: 0;}#sk-container-id-1 div.sk-toggleable {background-color: white;}#sk-container-id-1 label.sk-toggleable__label {cursor: pointer;display: block;width: 100%;margin-bottom: 0;padding: 0.3em;box-sizing: border-box;text-align: center;}#sk-container-id-1 label.sk-toggleable__label-arrow:before {content: \"▸\";float: left;margin-right: 0.25em;color: #696969;}#sk-container-id-1 label.sk-toggleable__label-arrow:hover:before {color: black;}#sk-container-id-1 div.sk-estimator:hover label.sk-toggleable__label-arrow:before {color: black;}#sk-container-id-1 div.sk-toggleable__content {max-height: 0;max-width: 0;overflow: hidden;text-align: left;background-color: #f0f8ff;}#sk-container-id-1 div.sk-toggleable__content pre {margin: 0.2em;color: black;border-radius: 0.25em;background-color: #f0f8ff;}#sk-container-id-1 input.sk-toggleable__control:checked~div.sk-toggleable__content {max-height: 200px;max-width: 100%;overflow: auto;}#sk-container-id-1 input.sk-toggleable__control:checked~label.sk-toggleable__label-arrow:before {content: \"▾\";}#sk-container-id-1 div.sk-estimator input.sk-toggleable__control:checked~label.sk-toggleable__label {background-color: #d4ebff;}#sk-container-id-1 div.sk-label input.sk-toggleable__control:checked~label.sk-toggleable__label {background-color: #d4ebff;}#sk-container-id-1 input.sk-hidden--visually {border: 0;clip: rect(1px 1px 1px 1px);clip: rect(1px, 1px, 1px, 1px);height: 1px;margin: -1px;overflow: hidden;padding: 0;position: absolute;width: 1px;}#sk-container-id-1 div.sk-estimator {font-family: monospace;background-color: #f0f8ff;border: 1px dotted black;border-radius: 0.25em;box-sizing: border-box;margin-bottom: 0.5em;}#sk-container-id-1 div.sk-estimator:hover {background-color: #d4ebff;}#sk-container-id-1 div.sk-parallel-item::after {content: \"\";width: 100%;border-bottom: 1px solid gray;flex-grow: 1;}#sk-container-id-1 div.sk-label:hover label.sk-toggleable__label {background-color: #d4ebff;}#sk-container-id-1 div.sk-serial::before {content: \"\";position: absolute;border-left: 1px solid gray;box-sizing: border-box;top: 0;bottom: 0;left: 50%;z-index: 0;}#sk-container-id-1 div.sk-serial {display: flex;flex-direction: column;align-items: center;background-color: white;padding-right: 0.2em;padding-left: 0.2em;position: relative;}#sk-container-id-1 div.sk-item {position: relative;z-index: 1;}#sk-container-id-1 div.sk-parallel {display: flex;align-items: stretch;justify-content: center;background-color: white;position: relative;}#sk-container-id-1 div.sk-item::before, #sk-container-id-1 div.sk-parallel-item::before {content: \"\";position: absolute;border-left: 1px solid gray;box-sizing: border-box;top: 0;bottom: 0;left: 50%;z-index: -1;}#sk-container-id-1 div.sk-parallel-item {display: flex;flex-direction: column;z-index: 1;position: relative;background-color: white;}#sk-container-id-1 div.sk-parallel-item:first-child::after {align-self: flex-end;width: 50%;}#sk-container-id-1 div.sk-parallel-item:last-child::after {align-self: flex-start;width: 50%;}#sk-container-id-1 div.sk-parallel-item:only-child::after {width: 0;}#sk-container-id-1 div.sk-dashed-wrapped {border: 1px dashed gray;margin: 0 0.4em 0.5em 0.4em;box-sizing: border-box;padding-bottom: 0.4em;background-color: white;}#sk-container-id-1 div.sk-label label {font-family: monospace;font-weight: bold;display: inline-block;line-height: 1.2em;}#sk-container-id-1 div.sk-label-container {text-align: center;}#sk-container-id-1 div.sk-container {/* jupyter's `normalize.less` sets `[hidden] { display: none; }` but bootstrap.min.css set `[hidden] { display: none !important; }` so we also need the `!important` here to be able to override the default hidden behavior on the sphinx rendered scikit-learn.org. See: https://github.com/scikit-learn/scikit-learn/issues/21755 */display: inline-block !important;position: relative;}#sk-container-id-1 div.sk-text-repr-fallback {display: none;}</style><div id=\"sk-container-id-1\" class=\"sk-top-container\"><div class=\"sk-text-repr-fallback\"><pre>GridSearchCV(cv=5, estimator=SVC(),\n",
       "             param_grid={&#x27;C&#x27;: [0.1, 0.2, 0.3, 0.4, 0.5, 1, 10, 20],\n",
       "                         &#x27;gamma&#x27;: [&#x27;scale&#x27;, &#x27;auto&#x27;, 0.01, 1, 2, 3, 4, 5, 6, 7,\n",
       "                                   8, 9, 10],\n",
       "                         &#x27;probability&#x27;: [True, False],\n",
       "                         &#x27;shrinking&#x27;: [True, False]},\n",
       "             scoring=&#x27;accuracy&#x27;)</pre><b>In a Jupyter environment, please rerun this cell to show the HTML representation or trust the notebook. <br />On GitHub, the HTML representation is unable to render, please try loading this page with nbviewer.org.</b></div><div class=\"sk-container\" hidden><div class=\"sk-item sk-dashed-wrapped\"><div class=\"sk-label-container\"><div class=\"sk-label sk-toggleable\"><input class=\"sk-toggleable__control sk-hidden--visually\" id=\"sk-estimator-id-1\" type=\"checkbox\" ><label for=\"sk-estimator-id-1\" class=\"sk-toggleable__label sk-toggleable__label-arrow\">GridSearchCV</label><div class=\"sk-toggleable__content\"><pre>GridSearchCV(cv=5, estimator=SVC(),\n",
       "             param_grid={&#x27;C&#x27;: [0.1, 0.2, 0.3, 0.4, 0.5, 1, 10, 20],\n",
       "                         &#x27;gamma&#x27;: [&#x27;scale&#x27;, &#x27;auto&#x27;, 0.01, 1, 2, 3, 4, 5, 6, 7,\n",
       "                                   8, 9, 10],\n",
       "                         &#x27;probability&#x27;: [True, False],\n",
       "                         &#x27;shrinking&#x27;: [True, False]},\n",
       "             scoring=&#x27;accuracy&#x27;)</pre></div></div></div><div class=\"sk-parallel\"><div class=\"sk-parallel-item\"><div class=\"sk-item\"><div class=\"sk-label-container\"><div class=\"sk-label sk-toggleable\"><input class=\"sk-toggleable__control sk-hidden--visually\" id=\"sk-estimator-id-2\" type=\"checkbox\" ><label for=\"sk-estimator-id-2\" class=\"sk-toggleable__label sk-toggleable__label-arrow\">estimator: SVC</label><div class=\"sk-toggleable__content\"><pre>SVC()</pre></div></div></div><div class=\"sk-serial\"><div class=\"sk-item\"><div class=\"sk-estimator sk-toggleable\"><input class=\"sk-toggleable__control sk-hidden--visually\" id=\"sk-estimator-id-3\" type=\"checkbox\" ><label for=\"sk-estimator-id-3\" class=\"sk-toggleable__label sk-toggleable__label-arrow\">SVC</label><div class=\"sk-toggleable__content\"><pre>SVC()</pre></div></div></div></div></div></div></div></div></div></div>"
      ],
      "text/plain": [
       "GridSearchCV(cv=5, estimator=SVC(),\n",
       "             param_grid={'C': [0.1, 0.2, 0.3, 0.4, 0.5, 1, 10, 20],\n",
       "                         'gamma': ['scale', 'auto', 0.01, 1, 2, 3, 4, 5, 6, 7,\n",
       "                                   8, 9, 10],\n",
       "                         'probability': [True, False],\n",
       "                         'shrinking': [True, False]},\n",
       "             scoring='accuracy')"
      ]
     },
     "execution_count": 9,
     "metadata": {},
     "output_type": "execute_result"
    }
   ],
   "source": [
    "params = {\n",
    "    'C': [0.1, 0.2, 0.3, 0.4, 0.5, 1, 10, 20],\n",
    "    'gamma': [\"scale\", \"auto\", 0.01, 1, 2, 3, 4, 5, 6, 7, 8, 9, 10],\n",
    "    'shrinking': [True, False],\n",
    "    'probability': [True, False]\n",
    "}\n",
    "\n",
    "svm_model = SVC(kernel='rbf')\n",
    "grid_search_svm = GridSearchCV(svm_model, params, cv=5, scoring='accuracy')\n",
    "grid_search_svm.fit(X_train, y_train)"
   ]
  },
  {
   "cell_type": "markdown",
   "id": "2e4529e9",
   "metadata": {},
   "source": [
    "#### Utiliza una métrica de evaluación adecuada para evaluar el modelo en el conjunto de prueba, como la precisión, el área bajo la curva ROC, etc..."
   ]
  },
  {
   "cell_type": "markdown",
   "id": "760e4d8d",
   "metadata": {},
   "source": [
    "Para evaluar el modelo creado, se va a utilizar como métrica la precisión. Para ello, primero se van a predecir los resultados usando la función $predict$ sobre el modelo SVM con los datos de test, y después se usará la función $accuracy$_ $score$, que dará la precisión del modelo:"
   ]
  },
  {
   "cell_type": "code",
   "execution_count": 12,
   "id": "f5cb53c1",
   "metadata": {},
   "outputs": [
    {
     "name": "stdout",
     "output_type": "stream",
     "text": [
      "Mejores parámetros: {'C': 10, 'gamma': 'auto', 'probability': True, 'shrinking': True}\n",
      "Exactitud del modelo en el conjunto de prueba: 0.951048951048951\n"
     ]
    }
   ],
   "source": [
    "print(\"Mejores parámetros:\", grid_search_svm.best_params_)\n",
    "\n",
    "y_pred = grid_search_svm.predict(X_test)\n",
    "accuracy = accuracy_score(y_test, y_pred)\n",
    "print(\"Exactitud del modelo en el conjunto de prueba:\", accuracy)"
   ]
  },
  {
   "cell_type": "markdown",
   "id": "43ee6ad7",
   "metadata": {},
   "source": [
    "El modelo con mejores parámetros ha conseguido una precisión del 95.1%. Para comprobar como afectan los demás parámetros, se van a cambiar a continuación:"
   ]
  },
  {
   "cell_type": "code",
   "execution_count": 42,
   "id": "e0d492d0",
   "metadata": {},
   "outputs": [
    {
     "name": "stdout",
     "output_type": "stream",
     "text": [
      "Exactitud del modelo en el conjunto de prueba: 0.9300699300699301\n"
     ]
    }
   ],
   "source": [
    "svm_model2 = SVC(kernel='rbf', C = 10, gamma = 0.1, shrinking = True, probability = False)\n",
    "svm_model2.fit(X_train, y_train)\n",
    "\n",
    "y_pred2 = svm_model2.predict(X_test)\n",
    "accuracy2 = accuracy_score(y_test, y_pred2)\n",
    "print(\"Exactitud del modelo en el conjunto de prueba:\", accuracy2)"
   ]
  },
  {
   "cell_type": "code",
   "execution_count": 45,
   "id": "da287367",
   "metadata": {},
   "outputs": [
    {
     "name": "stdout",
     "output_type": "stream",
     "text": [
      "Exactitud del modelo en el conjunto de prueba: 0.5944055944055944\n",
      "Exactitud del modelo en el conjunto de prueba: 0.5944055944055944\n",
      "Exactitud del modelo en el conjunto de prueba: 0.5944055944055944\n",
      "Exactitud del modelo en el conjunto de prueba: 0.5944055944055944\n"
     ]
    }
   ],
   "source": [
    "# Cambio del parámetro C, shrinking y probability\n",
    "\n",
    "svm_model3 = SVC(kernel='rbf', C = 0.01, gamma = 1, shrinking = False, probability = True)\n",
    "svm_model3.fit(X_train, y_train)\n",
    "\n",
    "y_pred3 = svm_model3.predict(X_test)\n",
    "accuracy3 = accuracy_score(y_test, y_pred3)\n",
    "print(\"Exactitud del modelo en el conjunto de prueba:\", accuracy3)\n",
    "\n",
    "svm_model3 = SVC(kernel='rbf', C = 0.1, gamma = 1, shrinking = True, probability = True)\n",
    "svm_model3.fit(X_train, y_train)\n",
    "\n",
    "y_pred3 = svm_model3.predict(X_test)\n",
    "accuracy3 = accuracy_score(y_test, y_pred3)\n",
    "print(\"Exactitud del modelo en el conjunto de prueba:\", accuracy3)\n",
    "\n",
    "svm_model3 = SVC(kernel='rbf', C = 0.5, gamma = 1, shrinking = True, probability = True)\n",
    "svm_model3.fit(X_train, y_train)\n",
    "\n",
    "y_pred3 = svm_model3.predict(X_test)\n",
    "accuracy3 = accuracy_score(y_test, y_pred3)\n",
    "print(\"Exactitud del modelo en el conjunto de prueba:\", accuracy3)\n",
    "\n",
    "svm_model3 = SVC(kernel='rbf', C = 1, gamma = 1, shrinking = False, probability = False)\n",
    "svm_model3.fit(X_train, y_train)\n",
    "\n",
    "y_pred3 = svm_model3.predict(X_test)\n",
    "accuracy3 = accuracy_score(y_test, y_pred3)\n",
    "print(\"Exactitud del modelo en el conjunto de prueba:\", accuracy3)"
   ]
  },
  {
   "cell_type": "code",
   "execution_count": 44,
   "id": "852bf3cb",
   "metadata": {},
   "outputs": [
    {
     "name": "stdout",
     "output_type": "stream",
     "text": [
      "Exactitud del modelo en el conjunto de prueba: 0.951048951048951\n",
      "Exactitud del modelo en el conjunto de prueba: 0.9300699300699301\n",
      "Exactitud del modelo en el conjunto de prueba: 0.7272727272727273\n",
      "Exactitud del modelo en el conjunto de prueba: 0.6013986013986014\n"
     ]
    }
   ],
   "source": [
    "# Cambio del parámetro gamma, shrinking y probability\n",
    "\n",
    "svm_model4 = SVC(kernel='rbf', C = 10, gamma = 0.05, shrinking = False, probability = False)\n",
    "svm_model4.fit(X_train, y_train)\n",
    "\n",
    "y_pred4 = svm_model4.predict(X_test)\n",
    "accuracy4 = accuracy_score(y_test, y_pred4)\n",
    "print(\"Exactitud del modelo en el conjunto de prueba:\", accuracy4)\n",
    "\n",
    "svm_model4 = SVC(kernel='rbf', C = 10, gamma = 0.1, shrinking = True, probability = False)\n",
    "svm_model4.fit(X_train, y_train)\n",
    "\n",
    "y_pred4 = svm_model4.predict(X_test)\n",
    "accuracy4 = accuracy_score(y_test, y_pred4)\n",
    "print(\"Exactitud del modelo en el conjunto de prueba:\", accuracy4)\n",
    "\n",
    "svm_model4 = SVC(kernel='rbf', C = 10, gamma = 0.5, shrinking = True, probability = True)\n",
    "svm_model4.fit(X_train, y_train)\n",
    "\n",
    "y_pred4 = svm_model4.predict(X_test)\n",
    "accuracy4 = accuracy_score(y_test, y_pred4)\n",
    "print(\"Exactitud del modelo en el conjunto de prueba:\", accuracy4)\n",
    "\n",
    "svm_model4 = SVC(kernel='rbf', C = 10, gamma = 1, shrinking = False, probability = False)\n",
    "svm_model4.fit(X_train, y_train)\n",
    "\n",
    "y_pred4 = svm_model4.predict(X_test)\n",
    "accuracy4 = accuracy_score(y_test, y_pred4)\n",
    "print(\"Exactitud del modelo en el conjunto de prueba:\", accuracy4)"
   ]
  },
  {
   "cell_type": "markdown",
   "id": "012a82ad",
   "metadata": {},
   "source": [
    "#### Compara cómo diferentes valores de parámetros afectan el rendimiento del modelo"
   ]
  },
  {
   "cell_type": "markdown",
   "id": "4bebd24b",
   "metadata": {},
   "source": [
    "Como se puede comprobar en los ejemplos anteriores, el parámetro que más afecta al modelo SVM, para este dataset, es el parámetro $gamma$.\n",
    "\n",
    "A menor $gamma$, mejor precisión tiene el modelo. De hecho, en el primer modelo del output anterior, se ha encontrado el gamma concreto que ha utilizado el supuesto mejor modelo del $GridSerach$, 0.05.\n",
    "\n",
    "Por las pruebas realizadas, los demás parámetros no cambian el rendimiento del modelo con este dataset, ya que se han hecho pruebas cambiando los parámetros $C$, $shrinking$ y $probability$, y no se han encontrado resultados que digan que afectan a la precisión del modelo."
   ]
  },
  {
   "cell_type": "markdown",
   "id": "5126f494",
   "metadata": {},
   "source": [
    "#### Reflexiona sobre cómo la selección y ajuste de parámetros pueden mejorar o empeorar el modelo"
   ]
  },
  {
   "cell_type": "markdown",
   "id": "8b375fb0",
   "metadata": {},
   "source": [
    "Como se ha dicho en el apartado anterior, se ha llegado a la clara conclusión que, para este caso, el parámetro clave para obtener mejores o peores resultados es modificar el parámetro gamma.\n",
    "\n",
    "A menor gamma, mayor precisión se obtiene al predecir datos. Pero no se puede utilizar simplemente un gamma bajo, ya que esto puede provocar underfitting, debido a que un gamma bajo hace que los límites de decisión sean menos ajustados al conjunto de entrenamiento. Hay que encontrar un punto medio que haga que el modelo sea capaz de sacar buenos resultados tanto con el conjunto de train como de test."
   ]
  },
  {
   "cell_type": "markdown",
   "id": "cc9637ec-3c3a-48ec-9ffe-49bd62d968a6",
   "metadata": {},
   "source": [
    "### Pregunta 7"
   ]
  },
  {
   "cell_type": "markdown",
   "id": "6a2667a4-6eb6-4a35-97bc-b2738689d91f",
   "metadata": {},
   "source": [
    "##### Realización de estrategias diferentes de Cross-Validation sobre un conjunto de datos y evaluar los resultados\n",
    "\n",
    "- Elige y carga un dataset proporcionado por Scikit-Learn que sea adecuado para el tipo de análisis que vas a realizar\n",
    "- Si es necesario, realiza preprocesamientos como la **normalización** o la codificación de variables categóricas\n",
    "- Elige un modelo de aprendizaje automático de Scikit-Learn adecuado para tu dataset entre los vistos en clase hasta ahora\n",
    "- Selecciona al menos dos estrategias de validación cruzada para comparar. Por ejemplo, podrías elegir la validación cruzada K-Fold estándar (que la puedes configurar directamente con un número en el método cross_val_score), la validación cruzada estratificada (Stratified K-Fold) o la Repeated Stratified K-Fold\n",
    "- Utiliza las funciones de Scikit-Learn para aplicar cada estrategia de validación cruzada al modelo y al conjunto de datos\n",
    "- Registra los resultados de rendimiento que establezcas para cada iteración de la validación cruzada\n",
    "- Analiza los resultados obtenidos de cada estrategia de validación cruzada\n",
    "- Compara las métricas de rendimiento que establezcas, entre las diferentes estrategias, para ver cuál de los Cross-Validation ofrece una evaluación más robusta o resultados más consistentes (evaluar dispersión de los resultados para las repeticiones de cada fold)\n",
    "- Reflexiona sobre cómo la elección de la estrategia de validación cruzada puede influir en la interpretación de la capacidad predictiva del modelo"
   ]
  },
  {
   "cell_type": "markdown",
   "id": "b58e4800",
   "metadata": {},
   "source": [
    "#### Elige y carga un dataset proporcionado por Scikit-Learn que sea adecuado para el tipo de análisis que vas a realizar"
   ]
  },
  {
   "cell_type": "markdown",
   "id": "4d978a44",
   "metadata": {},
   "source": [
    "Se va a utilizar el dataset $wine$ proporciondo por Scikit-Learn para crear un modelo de clasificación KNN: "
   ]
  },
  {
   "cell_type": "code",
   "execution_count": 3,
   "id": "971e0f8c",
   "metadata": {},
   "outputs": [
    {
     "data": {
      "text/html": [
       "<div>\n",
       "<style scoped>\n",
       "    .dataframe tbody tr th:only-of-type {\n",
       "        vertical-align: middle;\n",
       "    }\n",
       "\n",
       "    .dataframe tbody tr th {\n",
       "        vertical-align: top;\n",
       "    }\n",
       "\n",
       "    .dataframe thead th {\n",
       "        text-align: right;\n",
       "    }\n",
       "</style>\n",
       "<table border=\"1\" class=\"dataframe\">\n",
       "  <thead>\n",
       "    <tr style=\"text-align: right;\">\n",
       "      <th></th>\n",
       "      <th>alcohol</th>\n",
       "      <th>malic_acid</th>\n",
       "      <th>ash</th>\n",
       "      <th>alcalinity_of_ash</th>\n",
       "      <th>magnesium</th>\n",
       "      <th>total_phenols</th>\n",
       "      <th>flavanoids</th>\n",
       "      <th>nonflavanoid_phenols</th>\n",
       "      <th>proanthocyanins</th>\n",
       "      <th>color_intensity</th>\n",
       "      <th>hue</th>\n",
       "      <th>od280/od315_of_diluted_wines</th>\n",
       "      <th>proline</th>\n",
       "    </tr>\n",
       "  </thead>\n",
       "  <tbody>\n",
       "    <tr>\n",
       "      <th>0</th>\n",
       "      <td>14.23</td>\n",
       "      <td>1.71</td>\n",
       "      <td>2.43</td>\n",
       "      <td>15.6</td>\n",
       "      <td>127.0</td>\n",
       "      <td>2.80</td>\n",
       "      <td>3.06</td>\n",
       "      <td>0.28</td>\n",
       "      <td>2.29</td>\n",
       "      <td>5.64</td>\n",
       "      <td>1.04</td>\n",
       "      <td>3.92</td>\n",
       "      <td>1065.0</td>\n",
       "    </tr>\n",
       "    <tr>\n",
       "      <th>1</th>\n",
       "      <td>13.20</td>\n",
       "      <td>1.78</td>\n",
       "      <td>2.14</td>\n",
       "      <td>11.2</td>\n",
       "      <td>100.0</td>\n",
       "      <td>2.65</td>\n",
       "      <td>2.76</td>\n",
       "      <td>0.26</td>\n",
       "      <td>1.28</td>\n",
       "      <td>4.38</td>\n",
       "      <td>1.05</td>\n",
       "      <td>3.40</td>\n",
       "      <td>1050.0</td>\n",
       "    </tr>\n",
       "    <tr>\n",
       "      <th>2</th>\n",
       "      <td>13.16</td>\n",
       "      <td>2.36</td>\n",
       "      <td>2.67</td>\n",
       "      <td>18.6</td>\n",
       "      <td>101.0</td>\n",
       "      <td>2.80</td>\n",
       "      <td>3.24</td>\n",
       "      <td>0.30</td>\n",
       "      <td>2.81</td>\n",
       "      <td>5.68</td>\n",
       "      <td>1.03</td>\n",
       "      <td>3.17</td>\n",
       "      <td>1185.0</td>\n",
       "    </tr>\n",
       "    <tr>\n",
       "      <th>3</th>\n",
       "      <td>14.37</td>\n",
       "      <td>1.95</td>\n",
       "      <td>2.50</td>\n",
       "      <td>16.8</td>\n",
       "      <td>113.0</td>\n",
       "      <td>3.85</td>\n",
       "      <td>3.49</td>\n",
       "      <td>0.24</td>\n",
       "      <td>2.18</td>\n",
       "      <td>7.80</td>\n",
       "      <td>0.86</td>\n",
       "      <td>3.45</td>\n",
       "      <td>1480.0</td>\n",
       "    </tr>\n",
       "    <tr>\n",
       "      <th>4</th>\n",
       "      <td>13.24</td>\n",
       "      <td>2.59</td>\n",
       "      <td>2.87</td>\n",
       "      <td>21.0</td>\n",
       "      <td>118.0</td>\n",
       "      <td>2.80</td>\n",
       "      <td>2.69</td>\n",
       "      <td>0.39</td>\n",
       "      <td>1.82</td>\n",
       "      <td>4.32</td>\n",
       "      <td>1.04</td>\n",
       "      <td>2.93</td>\n",
       "      <td>735.0</td>\n",
       "    </tr>\n",
       "  </tbody>\n",
       "</table>\n",
       "</div>"
      ],
      "text/plain": [
       "   alcohol  malic_acid   ash  alcalinity_of_ash  magnesium  total_phenols  \\\n",
       "0    14.23        1.71  2.43               15.6      127.0           2.80   \n",
       "1    13.20        1.78  2.14               11.2      100.0           2.65   \n",
       "2    13.16        2.36  2.67               18.6      101.0           2.80   \n",
       "3    14.37        1.95  2.50               16.8      113.0           3.85   \n",
       "4    13.24        2.59  2.87               21.0      118.0           2.80   \n",
       "\n",
       "   flavanoids  nonflavanoid_phenols  proanthocyanins  color_intensity   hue  \\\n",
       "0        3.06                  0.28             2.29             5.64  1.04   \n",
       "1        2.76                  0.26             1.28             4.38  1.05   \n",
       "2        3.24                  0.30             2.81             5.68  1.03   \n",
       "3        3.49                  0.24             2.18             7.80  0.86   \n",
       "4        2.69                  0.39             1.82             4.32  1.04   \n",
       "\n",
       "   od280/od315_of_diluted_wines  proline  \n",
       "0                          3.92   1065.0  \n",
       "1                          3.40   1050.0  \n",
       "2                          3.17   1185.0  \n",
       "3                          3.45   1480.0  \n",
       "4                          2.93    735.0  "
      ]
     },
     "execution_count": 3,
     "metadata": {},
     "output_type": "execute_result"
    }
   ],
   "source": [
    "wine = datasets.load_wine()\n",
    "# Se visualiza el contenido del dataset\n",
    "wine_df = pd.DataFrame(wine.data, columns=wine.feature_names)\n",
    "wine_df.head()"
   ]
  },
  {
   "cell_type": "markdown",
   "id": "a847d9b5",
   "metadata": {},
   "source": [
    "#### Si es necesario, realiza preprocesamientos como la normalización o la codificación de variables categóricas"
   ]
  },
  {
   "cell_type": "code",
   "execution_count": 4,
   "id": "4458a274",
   "metadata": {},
   "outputs": [
    {
     "data": {
      "text/plain": [
       "alcohol                         0\n",
       "malic_acid                      0\n",
       "ash                             0\n",
       "alcalinity_of_ash               0\n",
       "magnesium                       0\n",
       "total_phenols                   0\n",
       "flavanoids                      0\n",
       "nonflavanoid_phenols            0\n",
       "proanthocyanins                 0\n",
       "color_intensity                 0\n",
       "hue                             0\n",
       "od280/od315_of_diluted_wines    0\n",
       "proline                         0\n",
       "dtype: int64"
      ]
     },
     "execution_count": 4,
     "metadata": {},
     "output_type": "execute_result"
    }
   ],
   "source": [
    "# Comprobar si hay nulos\n",
    "wine_df.isna().sum()"
   ]
  },
  {
   "cell_type": "code",
   "execution_count": 5,
   "id": "e9a5363a",
   "metadata": {},
   "outputs": [],
   "source": [
    "# Normalizar los datos de la tabla\n",
    "scaler = StandardScaler()\n",
    "wine_data_norm = scaler.fit_transform(wine.data)"
   ]
  },
  {
   "cell_type": "code",
   "execution_count": 6,
   "id": "45f685e8",
   "metadata": {},
   "outputs": [
    {
     "data": {
      "text/html": [
       "<div>\n",
       "<style scoped>\n",
       "    .dataframe tbody tr th:only-of-type {\n",
       "        vertical-align: middle;\n",
       "    }\n",
       "\n",
       "    .dataframe tbody tr th {\n",
       "        vertical-align: top;\n",
       "    }\n",
       "\n",
       "    .dataframe thead th {\n",
       "        text-align: right;\n",
       "    }\n",
       "</style>\n",
       "<table border=\"1\" class=\"dataframe\">\n",
       "  <thead>\n",
       "    <tr style=\"text-align: right;\">\n",
       "      <th></th>\n",
       "      <th>alcohol</th>\n",
       "      <th>malic_acid</th>\n",
       "      <th>ash</th>\n",
       "      <th>alcalinity_of_ash</th>\n",
       "      <th>magnesium</th>\n",
       "      <th>total_phenols</th>\n",
       "      <th>flavanoids</th>\n",
       "      <th>nonflavanoid_phenols</th>\n",
       "      <th>proanthocyanins</th>\n",
       "      <th>color_intensity</th>\n",
       "      <th>hue</th>\n",
       "      <th>od280/od315_of_diluted_wines</th>\n",
       "      <th>proline</th>\n",
       "    </tr>\n",
       "  </thead>\n",
       "  <tbody>\n",
       "    <tr>\n",
       "      <th>0</th>\n",
       "      <td>1.518613</td>\n",
       "      <td>-0.562250</td>\n",
       "      <td>0.232053</td>\n",
       "      <td>-1.169593</td>\n",
       "      <td>1.913905</td>\n",
       "      <td>0.808997</td>\n",
       "      <td>1.034819</td>\n",
       "      <td>-0.659563</td>\n",
       "      <td>1.224884</td>\n",
       "      <td>0.251717</td>\n",
       "      <td>0.362177</td>\n",
       "      <td>1.847920</td>\n",
       "      <td>1.013009</td>\n",
       "    </tr>\n",
       "    <tr>\n",
       "      <th>1</th>\n",
       "      <td>0.246290</td>\n",
       "      <td>-0.499413</td>\n",
       "      <td>-0.827996</td>\n",
       "      <td>-2.490847</td>\n",
       "      <td>0.018145</td>\n",
       "      <td>0.568648</td>\n",
       "      <td>0.733629</td>\n",
       "      <td>-0.820719</td>\n",
       "      <td>-0.544721</td>\n",
       "      <td>-0.293321</td>\n",
       "      <td>0.406051</td>\n",
       "      <td>1.113449</td>\n",
       "      <td>0.965242</td>\n",
       "    </tr>\n",
       "    <tr>\n",
       "      <th>2</th>\n",
       "      <td>0.196879</td>\n",
       "      <td>0.021231</td>\n",
       "      <td>1.109334</td>\n",
       "      <td>-0.268738</td>\n",
       "      <td>0.088358</td>\n",
       "      <td>0.808997</td>\n",
       "      <td>1.215533</td>\n",
       "      <td>-0.498407</td>\n",
       "      <td>2.135968</td>\n",
       "      <td>0.269020</td>\n",
       "      <td>0.318304</td>\n",
       "      <td>0.788587</td>\n",
       "      <td>1.395148</td>\n",
       "    </tr>\n",
       "    <tr>\n",
       "      <th>3</th>\n",
       "      <td>1.691550</td>\n",
       "      <td>-0.346811</td>\n",
       "      <td>0.487926</td>\n",
       "      <td>-0.809251</td>\n",
       "      <td>0.930918</td>\n",
       "      <td>2.491446</td>\n",
       "      <td>1.466525</td>\n",
       "      <td>-0.981875</td>\n",
       "      <td>1.032155</td>\n",
       "      <td>1.186068</td>\n",
       "      <td>-0.427544</td>\n",
       "      <td>1.184071</td>\n",
       "      <td>2.334574</td>\n",
       "    </tr>\n",
       "    <tr>\n",
       "      <th>4</th>\n",
       "      <td>0.295700</td>\n",
       "      <td>0.227694</td>\n",
       "      <td>1.840403</td>\n",
       "      <td>0.451946</td>\n",
       "      <td>1.281985</td>\n",
       "      <td>0.808997</td>\n",
       "      <td>0.663351</td>\n",
       "      <td>0.226796</td>\n",
       "      <td>0.401404</td>\n",
       "      <td>-0.319276</td>\n",
       "      <td>0.362177</td>\n",
       "      <td>0.449601</td>\n",
       "      <td>-0.037874</td>\n",
       "    </tr>\n",
       "  </tbody>\n",
       "</table>\n",
       "</div>"
      ],
      "text/plain": [
       "    alcohol  malic_acid       ash  alcalinity_of_ash  magnesium  \\\n",
       "0  1.518613   -0.562250  0.232053          -1.169593   1.913905   \n",
       "1  0.246290   -0.499413 -0.827996          -2.490847   0.018145   \n",
       "2  0.196879    0.021231  1.109334          -0.268738   0.088358   \n",
       "3  1.691550   -0.346811  0.487926          -0.809251   0.930918   \n",
       "4  0.295700    0.227694  1.840403           0.451946   1.281985   \n",
       "\n",
       "   total_phenols  flavanoids  nonflavanoid_phenols  proanthocyanins  \\\n",
       "0       0.808997    1.034819             -0.659563         1.224884   \n",
       "1       0.568648    0.733629             -0.820719        -0.544721   \n",
       "2       0.808997    1.215533             -0.498407         2.135968   \n",
       "3       2.491446    1.466525             -0.981875         1.032155   \n",
       "4       0.808997    0.663351              0.226796         0.401404   \n",
       "\n",
       "   color_intensity       hue  od280/od315_of_diluted_wines   proline  \n",
       "0         0.251717  0.362177                      1.847920  1.013009  \n",
       "1        -0.293321  0.406051                      1.113449  0.965242  \n",
       "2         0.269020  0.318304                      0.788587  1.395148  \n",
       "3         1.186068 -0.427544                      1.184071  2.334574  \n",
       "4        -0.319276  0.362177                      0.449601 -0.037874  "
      ]
     },
     "execution_count": 6,
     "metadata": {},
     "output_type": "execute_result"
    }
   ],
   "source": [
    "# Visualizar el efecto de la normalizacion\n",
    "norm = pd.DataFrame(wine_data_norm, columns=wine.feature_names)\n",
    "norm.head()"
   ]
  },
  {
   "cell_type": "code",
   "execution_count": 7,
   "id": "18ee2e18",
   "metadata": {},
   "outputs": [],
   "source": [
    "# Separar en train test\n",
    "X_train, X_test, y_train, y_test = train_test_split(wine_data_norm, wine.target, stratify = wine.target)"
   ]
  },
  {
   "cell_type": "markdown",
   "id": "fad59ef7",
   "metadata": {},
   "source": [
    "#### Elige un modelo de aprendizaje automático de Scikit-Learn adecuado para tu dataset entre los vistos en clase hasta ahora"
   ]
  },
  {
   "cell_type": "code",
   "execution_count": 8,
   "id": "b807cde5",
   "metadata": {},
   "outputs": [],
   "source": [
    "knn = KNeighborsClassifier(n_neighbors=7)"
   ]
  },
  {
   "cell_type": "markdown",
   "id": "fb0c06eb",
   "metadata": {},
   "source": [
    "#### Selecciona al menos dos estrategias de validación cruzada para comparar. Por ejemplo, podrías elegir la validación cruzada K-Fold estándar (que la puedes configurar directamente con un número en el método cross_val_score), la validación cruzada estratificada (Stratified K-Fold) o la Repeated Stratified K-Fold"
   ]
  },
  {
   "cell_type": "markdown",
   "id": "98a2e0dc",
   "metadata": {},
   "source": [
    "Para este ejercicio se va a utilizar:\n",
    "\n",
    "- K-Fold estándar: Divide el conjunto de datos en k pliegues, y en cada iteración utiliza cierta cantidad de pliegues para entrenar el modelo y el resto para probarlo y evaluar el rendimiento del mismo.\n",
    "\n",
    "- Stratified K-Fold: Divide el conjunto de datos en k pliegues como el caso anterior, pero en este caso se garantiza que la proporción de tipos de dato en cada fold sea similar a la proporción original del dataset.\n",
    "\n",
    "En los siguientes outputs se van a construir los objetos que contienen ambas estrategias de validación cruzada:"
   ]
  },
  {
   "cell_type": "code",
   "execution_count": 9,
   "id": "a4f7ef5d",
   "metadata": {},
   "outputs": [],
   "source": [
    "from sklearn.model_selection import KFold, StratifiedKFold, cross_val_score"
   ]
  },
  {
   "cell_type": "code",
   "execution_count": 10,
   "id": "fe456c96",
   "metadata": {},
   "outputs": [],
   "source": [
    "# Kfold standar\n",
    "kfold = KFold(n_splits=10)"
   ]
  },
  {
   "cell_type": "code",
   "execution_count": 11,
   "id": "0c57ba32",
   "metadata": {},
   "outputs": [],
   "source": [
    "# Stratified Kfold\n",
    "skfold = StratifiedKFold(n_splits=10)"
   ]
  },
  {
   "cell_type": "markdown",
   "id": "ee541fd9",
   "metadata": {},
   "source": [
    "#### Utiliza las funciones de Scikit-Learn para aplicar cada estrategia de validación cruzada al modelo y al conjunto de datos"
   ]
  },
  {
   "cell_type": "markdown",
   "id": "00f4d2fd",
   "metadata": {},
   "source": [
    "La función que hay que utilizar para aplicar cada estrategia de validación cruzada al modelo y al conjunto de datos es $cross$_ $val$_ $score$, y se utiliza de la siguiente forma:"
   ]
  },
  {
   "cell_type": "code",
   "execution_count": 12,
   "id": "1a15b916",
   "metadata": {},
   "outputs": [],
   "source": [
    "# Kfold standar\n",
    "score_kfold = cross_val_score(knn, wine_data_norm, wine.target, cv=kfold)"
   ]
  },
  {
   "cell_type": "code",
   "execution_count": 13,
   "id": "8fa7d215",
   "metadata": {},
   "outputs": [],
   "source": [
    "# Stratified Kfold\n",
    "score_skfold = cross_val_score(knn, wine_data_norm, wine.target, cv=skfold)"
   ]
  },
  {
   "cell_type": "markdown",
   "id": "d28cc13a",
   "metadata": {},
   "source": [
    "#### Registra los resultados de rendimiento que establezcas para cada iteración de la validación cruzada"
   ]
  },
  {
   "cell_type": "markdown",
   "id": "1c65ba36",
   "metadata": {},
   "source": [
    "Para evaluar el rendimiento de las dos estrategias de validación cruzada, se va a utilizar la medida de la precisión, que se consigue utilizando el método de $cross$ _$val$ _$score$ utilizado en el apartado anterior."
   ]
  },
  {
   "cell_type": "code",
   "execution_count": 14,
   "id": "e4bb5f21",
   "metadata": {},
   "outputs": [
    {
     "name": "stdout",
     "output_type": "stream",
     "text": [
      "Precisión: [1.         1.         0.94444444 0.83333333 0.88888889 0.88888889\n",
      " 0.94444444 0.94444444 1.         1.        ] \n",
      "\n",
      "Precisión media: 0.9444444444444444\n"
     ]
    }
   ],
   "source": [
    "# Kfold standar\n",
    "print(\"Precisión:\", score_kfold, '\\n')\n",
    "print(\"Precisión media:\", np.mean(score_kfold))"
   ]
  },
  {
   "cell_type": "code",
   "execution_count": 15,
   "id": "149de5e5",
   "metadata": {},
   "outputs": [
    {
     "name": "stdout",
     "output_type": "stream",
     "text": [
      "Precisión: [1.         0.94444444 0.94444444 0.94444444 1.         0.88888889\n",
      " 1.         1.         0.94117647 1.        ] \n",
      "\n",
      "Precisión media: 0.9663398692810456\n"
     ]
    }
   ],
   "source": [
    "# Stratified Kfold\n",
    "print(\"Precisión:\", score_skfold, '\\n')\n",
    "print(\"Precisión media:\", np.mean(score_skfold))"
   ]
  },
  {
   "cell_type": "markdown",
   "id": "4d7daeac",
   "metadata": {},
   "source": [
    "#### Analiza los resultados obtenidos de cada estrategia de validación cruzada"
   ]
  },
  {
   "cell_type": "markdown",
   "id": "9380a24b",
   "metadata": {},
   "source": [
    "El $Kfold$ estándar ha obtenido una media de precisión de 94.44%, donde 4 pliegues han conseguido un 100% de precisión, y los demás rondan entre el 83.33% al 94.44% de precisión.\n",
    "\n",
    "Por otro lado, el $Stratified$ $Kfold$ ha obtenido una media de precisión de 96.63%, donde 5 pliegues de los 10 han obtenido un 100% de precisión. Los demás pliegues rondan entre el 88.89% al 94.44%.\n",
    "\n",
    "Pero lo importante es que resultados obtiene cada estrategia por pliegue, ya que de esta manera se podrá saber que combinación es la óptima para entrenar el modelo con este dataset. \n",
    "\n",
    "Para el $Kfold$ estándar, los mejores pliegues son el 1, 2, 9 y 10.\n",
    "Para el $Stratified$ $Kfold$ , los mejores pliegues son el 1, 5, 7, 8 y 10.\n",
    "\n",
    "Se eligen estos pliegues debido a que todos han obtenido un 100% de precisión tras las pruebas realizadas. Estos $fold$ serían los que se deben de utilizar para entrenar el modelo, debido a que son, en este caso, clasificar correctamente los tipos de vino."
   ]
  },
  {
   "cell_type": "markdown",
   "id": "fa0fa8ba",
   "metadata": {},
   "source": [
    "#### Compara las métricas de rendimiento que establezcas, entre las diferentes estrategias, para ver cuál de los Cross-Validation ofrece una evaluación más robusta o resultados más consistentes (evaluar dispersión de los resultados para las repeticiones de cada fold)"
   ]
  },
  {
   "cell_type": "markdown",
   "id": "92f8633f",
   "metadata": {},
   "source": [
    "Tras el análisis anterior, usando la precisión como medida de evaluación, el $Stratified$ $Kfold$ es el la opción con resultados más consistentes.\n",
    "\n",
    "Para terminar de confirmar esta hipótesis, se va a evaluar la dispersión de los resultados para las repeticiones de cada fold calculando la varianza y la desviación estándar de cada estrategia:"
   ]
  },
  {
   "cell_type": "code",
   "execution_count": 16,
   "id": "303b67af",
   "metadata": {},
   "outputs": [
    {
     "name": "stdout",
     "output_type": "stream",
     "text": [
      "Varianza K-Fold estándar:  0.0030864197530864204\n",
      "Desviación estándar K-Fold estándar:  0.05555555555555556\n"
     ]
    }
   ],
   "source": [
    "print(\"Varianza K-Fold estándar: \",score_kfold.var())\n",
    "print(\"Desviación estándar K-Fold estándar: \",score_kfold.std())"
   ]
  },
  {
   "cell_type": "code",
   "execution_count": 18,
   "id": "3d5185ae",
   "metadata": {},
   "outputs": [
    {
     "name": "stdout",
     "output_type": "stream",
     "text": [
      "Varianza Stratified K-Fold:  0.0013735101883890822\n",
      "Desviación estándar Stratified K-Fold:  0.037060898375364325\n"
     ]
    }
   ],
   "source": [
    "print(\"Varianza Stratified K-Fold: \",score_skfold.var())\n",
    "print(\"Desviación estándar Stratified K-Fold: \",score_skfold.std())"
   ]
  },
  {
   "cell_type": "markdown",
   "id": "76084566",
   "metadata": {},
   "source": [
    "Como se puede comprobar, se puede observar que se obtiene menor varianza y desviación estándar con el $Stratified$ $Kfold$, afirmando entonces que esta estrategia es la mejor para este ejercicio."
   ]
  },
  {
   "cell_type": "markdown",
   "id": "f3c3ed45",
   "metadata": {},
   "source": [
    "#### Reflexiona sobre cómo la elección de la estrategia de validación cruzada puede influir en la interpretación de la capacidad predictiva del modelo"
   ]
  },
  {
   "cell_type": "markdown",
   "id": "645576da",
   "metadata": {},
   "source": [
    "La elección de la estrategia de validación cruzada es crucial, ya que los resultados pueden ser muy diferentes entre estrategias. \n",
    "\n",
    "En este ejercicio, se ha visto como el $Stratified$ $Kfold$ ha dado unos resultados ligeramente superiores. Es cierto que puede parecer una diferencia muy pequeña, pero esta diferencia puede suponer algo importante dentro de un caso de negocio o de investigación.\n",
    "\n",
    "La estrategia de validación cruzada es crucial, ya que influye de manera importante en el rendimiento de un modelo."
   ]
  },
  {
   "cell_type": "markdown",
   "id": "4a2e2cc1-474a-4b53-9353-24af530827c2",
   "metadata": {},
   "source": [
    "### Pregunta 8"
   ]
  },
  {
   "cell_type": "markdown",
   "id": "7491e1b2-3643-43a7-9507-fc70aab0953d",
   "metadata": {},
   "source": [
    "##### Buscar parámetros óptimos con GridSearchCV entrenando modelos SVM\n",
    "\n",
    "- Importa las librerías y módulos necesarios de Python y Scikit-Learn, incluyendo el módulo svm para el modelo SVM y model_selection para GridSearchCV\n",
    "- Elige y carga un dataset de Scikit-Learn adecuado para trabajar con un modelo SVM\n",
    "- Divide el dataset en conjuntos de entrenamiento y prueba utilizando la función train_test_split\n",
    "- Crea una instancia del modelo SVM que deseas optimizar\n",
    "- Establece un diccionario de parámetros para probar con GridSearch. Incluye parámetros como C, kernel, gamma y otros relevantes para el modelo SVM\n",
    "- Configura GridSearchCV con el modelo SVM, el diccionario de parámetros, y cualquier otra configuración relevante como la métrica de evaluación y el número de folds para la validación cruzada\n",
    "- Entrena GridSearchCV con el conjunto de entrenamiento para buscar los mejores parámetros\n",
    "- Una vez que GridSearchCV haya encontrado la mejor combinación de parámetros, evalúa este modelo óptimo en el conjunto de prueba\n",
    "- Utiliza métricas de rendimiento adecuadas, como la precisión o el área bajo la curva ROC, para evaluar su desempeño\n",
    "- Revisa los parámetros que GridSearchCV ha identificado como óptimos"
   ]
  },
  {
   "cell_type": "markdown",
   "id": "f5dfe173",
   "metadata": {},
   "source": [
    "#### Importa las librerías y módulos necesarios de Python y Scikit-Learn, incluyendo el módulo svm para el modelo SVM y model_selection para GridSearchCV"
   ]
  },
  {
   "cell_type": "markdown",
   "id": "957d2ede",
   "metadata": {},
   "source": [
    "El primer paso es impotar las librerías necesarias, tanto para crear el modelo SVM, como para hacer el GridSearch:"
   ]
  },
  {
   "cell_type": "code",
   "execution_count": 2,
   "id": "9ad905c7",
   "metadata": {},
   "outputs": [],
   "source": [
    "from sklearn import svm, model_selection\n",
    "from sklearn.model_selection import GridSearchCV"
   ]
  },
  {
   "cell_type": "markdown",
   "id": "3915b3ec",
   "metadata": {},
   "source": [
    "#### Elige y carga un dataset de Scikit-Learn adecuado para trabajar con un modelo SVM"
   ]
  },
  {
   "cell_type": "markdown",
   "id": "0403b3b1",
   "metadata": {},
   "source": [
    "El dataset elegido para este ejercio es el de iris:"
   ]
  },
  {
   "cell_type": "code",
   "execution_count": 3,
   "id": "bf5722c5",
   "metadata": {},
   "outputs": [],
   "source": [
    "iris = datasets.load_iris()"
   ]
  },
  {
   "cell_type": "markdown",
   "id": "399db75f",
   "metadata": {},
   "source": [
    "#### Divide el dataset en conjuntos de entrenamiento y prueba utilizando la función train_test_split"
   ]
  },
  {
   "cell_type": "code",
   "execution_count": 4,
   "id": "48b6da43",
   "metadata": {},
   "outputs": [],
   "source": [
    "X_train, X_test, y_train, y_test = train_test_split(iris.data, iris.target, stratify = iris.target)"
   ]
  },
  {
   "cell_type": "markdown",
   "id": "43ea8acd",
   "metadata": {},
   "source": [
    "#### Crea una instancia del modelo SVM que deseas optimizar"
   ]
  },
  {
   "cell_type": "code",
   "execution_count": 5,
   "id": "081c2c07",
   "metadata": {},
   "outputs": [],
   "source": [
    "svm_model = svm.SVC()"
   ]
  },
  {
   "cell_type": "markdown",
   "id": "708f6371",
   "metadata": {},
   "source": [
    "#### Establece un diccionario de parámetros para probar con GridSearch. Incluye parámetros como C, kernel, gamma y otros relevantes para el modelo SVM"
   ]
  },
  {
   "cell_type": "markdown",
   "id": "7dc58a75",
   "metadata": {},
   "source": [
    "En la siguiente celda, se va a crear un diccionario con todos los parámetros del modelo SVM, y se van a introducir diferentes opciones en todos ellos:\n",
    "\n"
   ]
  },
  {
   "cell_type": "code",
   "execution_count": 6,
   "id": "d842c5ec",
   "metadata": {},
   "outputs": [],
   "source": [
    "parametros = {\n",
    "    'C': [0.1, 0.5, 1, 10, 50, 100],                   \n",
    "    'kernel': ['linear', 'rbf', 'poly'],     \n",
    "    'gamma': [0.01, 0.1, 1, 10, 100, 'scale', 'auto'], \n",
    "    'degree': [1, 2, 3, 4, 5],                      \n",
    "    'coef0': [0, 1],                          \n",
    "    'shrinking': [True, False],               \n",
    "    'probability': [True, False],            \n",
    "    'tol': [0.1, 0.01, 0.001]                 \n",
    "} "
   ]
  },
  {
   "cell_type": "markdown",
   "id": "c4a3a28e",
   "metadata": {},
   "source": [
    "#### Configura GridSearchCV con el modelo SVM, el diccionario de parámetros, y cualquier otra configuración relevante como la métrica de evaluación y el número de folds para la validación cruzada"
   ]
  },
  {
   "cell_type": "markdown",
   "id": "e8531925",
   "metadata": {},
   "source": [
    "Para configurar GridSearchCV, hay que utilizar la función $GridSearchCV$. Este método crea un objeto que contiene el GridSearchCV con los parámetros que se le introduzca. Habría que introducir el modelo SVM creado anteriormente, el grid de parámetros y que medida de evaluación se va a utilizar,. en este caso, la precisión:"
   ]
  },
  {
   "cell_type": "code",
   "execution_count": 7,
   "id": "1a6074e0",
   "metadata": {},
   "outputs": [],
   "source": [
    "grid_search = GridSearchCV(svm_model, parametros, scoring='accuracy')"
   ]
  },
  {
   "cell_type": "markdown",
   "id": "d2d37bef",
   "metadata": {},
   "source": [
    "#### Entrena GridSearchCV con el conjunto de entrenamiento para buscar los mejores parámetros"
   ]
  },
  {
   "cell_type": "markdown",
   "id": "7f8291f6",
   "metadata": {},
   "source": [
    "Para entrenar el modelo, se tiene que usar el método $fit$ sobre el objeto creado con GridSearchCV. Se le pasará como parámetros el conjunto de $train$:"
   ]
  },
  {
   "cell_type": "code",
   "execution_count": 8,
   "id": "83b23a22",
   "metadata": {},
   "outputs": [
    {
     "data": {
      "text/html": [
       "<style>#sk-container-id-1 {color: black;}#sk-container-id-1 pre{padding: 0;}#sk-container-id-1 div.sk-toggleable {background-color: white;}#sk-container-id-1 label.sk-toggleable__label {cursor: pointer;display: block;width: 100%;margin-bottom: 0;padding: 0.3em;box-sizing: border-box;text-align: center;}#sk-container-id-1 label.sk-toggleable__label-arrow:before {content: \"▸\";float: left;margin-right: 0.25em;color: #696969;}#sk-container-id-1 label.sk-toggleable__label-arrow:hover:before {color: black;}#sk-container-id-1 div.sk-estimator:hover label.sk-toggleable__label-arrow:before {color: black;}#sk-container-id-1 div.sk-toggleable__content {max-height: 0;max-width: 0;overflow: hidden;text-align: left;background-color: #f0f8ff;}#sk-container-id-1 div.sk-toggleable__content pre {margin: 0.2em;color: black;border-radius: 0.25em;background-color: #f0f8ff;}#sk-container-id-1 input.sk-toggleable__control:checked~div.sk-toggleable__content {max-height: 200px;max-width: 100%;overflow: auto;}#sk-container-id-1 input.sk-toggleable__control:checked~label.sk-toggleable__label-arrow:before {content: \"▾\";}#sk-container-id-1 div.sk-estimator input.sk-toggleable__control:checked~label.sk-toggleable__label {background-color: #d4ebff;}#sk-container-id-1 div.sk-label input.sk-toggleable__control:checked~label.sk-toggleable__label {background-color: #d4ebff;}#sk-container-id-1 input.sk-hidden--visually {border: 0;clip: rect(1px 1px 1px 1px);clip: rect(1px, 1px, 1px, 1px);height: 1px;margin: -1px;overflow: hidden;padding: 0;position: absolute;width: 1px;}#sk-container-id-1 div.sk-estimator {font-family: monospace;background-color: #f0f8ff;border: 1px dotted black;border-radius: 0.25em;box-sizing: border-box;margin-bottom: 0.5em;}#sk-container-id-1 div.sk-estimator:hover {background-color: #d4ebff;}#sk-container-id-1 div.sk-parallel-item::after {content: \"\";width: 100%;border-bottom: 1px solid gray;flex-grow: 1;}#sk-container-id-1 div.sk-label:hover label.sk-toggleable__label {background-color: #d4ebff;}#sk-container-id-1 div.sk-serial::before {content: \"\";position: absolute;border-left: 1px solid gray;box-sizing: border-box;top: 0;bottom: 0;left: 50%;z-index: 0;}#sk-container-id-1 div.sk-serial {display: flex;flex-direction: column;align-items: center;background-color: white;padding-right: 0.2em;padding-left: 0.2em;position: relative;}#sk-container-id-1 div.sk-item {position: relative;z-index: 1;}#sk-container-id-1 div.sk-parallel {display: flex;align-items: stretch;justify-content: center;background-color: white;position: relative;}#sk-container-id-1 div.sk-item::before, #sk-container-id-1 div.sk-parallel-item::before {content: \"\";position: absolute;border-left: 1px solid gray;box-sizing: border-box;top: 0;bottom: 0;left: 50%;z-index: -1;}#sk-container-id-1 div.sk-parallel-item {display: flex;flex-direction: column;z-index: 1;position: relative;background-color: white;}#sk-container-id-1 div.sk-parallel-item:first-child::after {align-self: flex-end;width: 50%;}#sk-container-id-1 div.sk-parallel-item:last-child::after {align-self: flex-start;width: 50%;}#sk-container-id-1 div.sk-parallel-item:only-child::after {width: 0;}#sk-container-id-1 div.sk-dashed-wrapped {border: 1px dashed gray;margin: 0 0.4em 0.5em 0.4em;box-sizing: border-box;padding-bottom: 0.4em;background-color: white;}#sk-container-id-1 div.sk-label label {font-family: monospace;font-weight: bold;display: inline-block;line-height: 1.2em;}#sk-container-id-1 div.sk-label-container {text-align: center;}#sk-container-id-1 div.sk-container {/* jupyter's `normalize.less` sets `[hidden] { display: none; }` but bootstrap.min.css set `[hidden] { display: none !important; }` so we also need the `!important` here to be able to override the default hidden behavior on the sphinx rendered scikit-learn.org. See: https://github.com/scikit-learn/scikit-learn/issues/21755 */display: inline-block !important;position: relative;}#sk-container-id-1 div.sk-text-repr-fallback {display: none;}</style><div id=\"sk-container-id-1\" class=\"sk-top-container\"><div class=\"sk-text-repr-fallback\"><pre>GridSearchCV(estimator=SVC(),\n",
       "             param_grid={&#x27;C&#x27;: [0.1, 0.5, 1, 10, 50, 100], &#x27;coef0&#x27;: [0, 1],\n",
       "                         &#x27;degree&#x27;: [1, 2, 3, 4, 5],\n",
       "                         &#x27;gamma&#x27;: [0.01, 0.1, 1, 10, 100, &#x27;scale&#x27;, &#x27;auto&#x27;],\n",
       "                         &#x27;kernel&#x27;: [&#x27;linear&#x27;, &#x27;rbf&#x27;, &#x27;poly&#x27;],\n",
       "                         &#x27;probability&#x27;: [True, False],\n",
       "                         &#x27;shrinking&#x27;: [True, False],\n",
       "                         &#x27;tol&#x27;: [0.1, 0.01, 0.001]},\n",
       "             scoring=&#x27;accuracy&#x27;)</pre><b>In a Jupyter environment, please rerun this cell to show the HTML representation or trust the notebook. <br />On GitHub, the HTML representation is unable to render, please try loading this page with nbviewer.org.</b></div><div class=\"sk-container\" hidden><div class=\"sk-item sk-dashed-wrapped\"><div class=\"sk-label-container\"><div class=\"sk-label sk-toggleable\"><input class=\"sk-toggleable__control sk-hidden--visually\" id=\"sk-estimator-id-1\" type=\"checkbox\" ><label for=\"sk-estimator-id-1\" class=\"sk-toggleable__label sk-toggleable__label-arrow\">GridSearchCV</label><div class=\"sk-toggleable__content\"><pre>GridSearchCV(estimator=SVC(),\n",
       "             param_grid={&#x27;C&#x27;: [0.1, 0.5, 1, 10, 50, 100], &#x27;coef0&#x27;: [0, 1],\n",
       "                         &#x27;degree&#x27;: [1, 2, 3, 4, 5],\n",
       "                         &#x27;gamma&#x27;: [0.01, 0.1, 1, 10, 100, &#x27;scale&#x27;, &#x27;auto&#x27;],\n",
       "                         &#x27;kernel&#x27;: [&#x27;linear&#x27;, &#x27;rbf&#x27;, &#x27;poly&#x27;],\n",
       "                         &#x27;probability&#x27;: [True, False],\n",
       "                         &#x27;shrinking&#x27;: [True, False],\n",
       "                         &#x27;tol&#x27;: [0.1, 0.01, 0.001]},\n",
       "             scoring=&#x27;accuracy&#x27;)</pre></div></div></div><div class=\"sk-parallel\"><div class=\"sk-parallel-item\"><div class=\"sk-item\"><div class=\"sk-label-container\"><div class=\"sk-label sk-toggleable\"><input class=\"sk-toggleable__control sk-hidden--visually\" id=\"sk-estimator-id-2\" type=\"checkbox\" ><label for=\"sk-estimator-id-2\" class=\"sk-toggleable__label sk-toggleable__label-arrow\">estimator: SVC</label><div class=\"sk-toggleable__content\"><pre>SVC()</pre></div></div></div><div class=\"sk-serial\"><div class=\"sk-item\"><div class=\"sk-estimator sk-toggleable\"><input class=\"sk-toggleable__control sk-hidden--visually\" id=\"sk-estimator-id-3\" type=\"checkbox\" ><label for=\"sk-estimator-id-3\" class=\"sk-toggleable__label sk-toggleable__label-arrow\">SVC</label><div class=\"sk-toggleable__content\"><pre>SVC()</pre></div></div></div></div></div></div></div></div></div></div>"
      ],
      "text/plain": [
       "GridSearchCV(estimator=SVC(),\n",
       "             param_grid={'C': [0.1, 0.5, 1, 10, 50, 100], 'coef0': [0, 1],\n",
       "                         'degree': [1, 2, 3, 4, 5],\n",
       "                         'gamma': [0.01, 0.1, 1, 10, 100, 'scale', 'auto'],\n",
       "                         'kernel': ['linear', 'rbf', 'poly'],\n",
       "                         'probability': [True, False],\n",
       "                         'shrinking': [True, False],\n",
       "                         'tol': [0.1, 0.01, 0.001]},\n",
       "             scoring='accuracy')"
      ]
     },
     "execution_count": 8,
     "metadata": {},
     "output_type": "execute_result"
    }
   ],
   "source": [
    "grid_search.fit(X_train, y_train)"
   ]
  },
  {
   "cell_type": "markdown",
   "id": "f652ae9d",
   "metadata": {},
   "source": [
    "#### Una vez que GridSearchCV haya encontrado la mejor combinación de parámetros, evalúa este modelo óptimo en el conjunto de prueba\n",
    "\n",
    "#### Utiliza métricas de rendimiento adecuadas, como la precisión o el área bajo la curva ROC, para evaluar su desempeño"
   ]
  },
  {
   "cell_type": "markdown",
   "id": "38cd7cc5",
   "metadata": {},
   "source": [
    "Para obtener la mejor combinación de parámetros, y la precisión conseguida, se tienen que utilizar las siguientes funciones:"
   ]
  },
  {
   "cell_type": "code",
   "execution_count": 14,
   "id": "e361fb1c",
   "metadata": {},
   "outputs": [
    {
     "name": "stdout",
     "output_type": "stream",
     "text": [
      "Mejor combinación de parámetros: \n",
      " {'C': 100, 'coef0': 0, 'degree': 1, 'gamma': 0.01, 'kernel': 'rbf', 'probability': True, 'shrinking': True, 'tol': 0.1} \n",
      "\n",
      "Precisión de la mejor combinación de parámetros: 0.9913043478260869 \n",
      "\n"
     ]
    }
   ],
   "source": [
    "# Obtener la mejor combinación de parámetros\n",
    "best_params = grid_search.best_params_\n",
    "\n",
    "# Obtener la precisión de la mejor combinación de parámetros\n",
    "best_score = grid_search.best_score_\n",
    "\n",
    "# Print de los resultados\n",
    "print(\"Mejor combinación de parámetros:\", '\\n', best_params, '\\n')\n",
    "print(\"Precisión de la mejor combinación de parámetros:\", best_score, '\\n')"
   ]
  },
  {
   "cell_type": "markdown",
   "id": "004f1186",
   "metadata": {},
   "source": [
    "Ahora se va a probar el modelo sobre el conjunto de prueba. Para ello, se va a predecir los resultados usando el objeto que se ha entrenado anteriormente $grid$_ $search$:"
   ]
  },
  {
   "cell_type": "code",
   "execution_count": 17,
   "id": "af40d224",
   "metadata": {},
   "outputs": [],
   "source": [
    "predicts = grid_search.predict(X_test)"
   ]
  },
  {
   "cell_type": "markdown",
   "id": "8dce1b7e",
   "metadata": {},
   "source": [
    "Ahora con este resultado, se puede calcular la precisión obtenida en el conjunto de test usando el método $accuracy$_ $score$ de la siguiente forma:"
   ]
  },
  {
   "cell_type": "code",
   "execution_count": 18,
   "id": "e999e433",
   "metadata": {},
   "outputs": [
    {
     "name": "stdout",
     "output_type": "stream",
     "text": [
      "Precisión en el conjunto de prueba:  0.9736842105263158\n"
     ]
    }
   ],
   "source": [
    "precission = accuracy_score(y_test, predicts)\n",
    "print('Precisión en el conjunto de prueba: ', precission)"
   ]
  },
  {
   "cell_type": "markdown",
   "id": "7e7d3397",
   "metadata": {},
   "source": [
    "Según esta prueba, el modelo ha acertado un 97.36% de veces, resultado no muy alejado del obtenido con el conjunto de entrenamiento, por lo que el modelo funciona muy bien, aunque tal vez haya formas de poder optimizarlo mas."
   ]
  },
  {
   "cell_type": "markdown",
   "id": "24e5172e",
   "metadata": {},
   "source": [
    "#### Revisa los parámetros que GridSearchCV ha identificado como óptimos"
   ]
  },
  {
   "cell_type": "markdown",
   "id": "0a6de307",
   "metadata": {},
   "source": [
    "Los parámetros óptimos encontrados por el método $GridSearchCV$ son:\n",
    "    \n",
    "- C (Regularización de la penalización) = 100\n",
    "- Coef0 (Término independiente en las funciones 'poly' y 'sigmoid') = 0\n",
    "- Degree (Grado del polinomio en el kernel 'poly') = 1\n",
    "- Gamma (Controla los límites de decisión) = 0.01\n",
    "- Kernel = rbf\n",
    "- Probability (Indica si se habilitan las estimaciones de probabilidad) = True\n",
    "- Shrinking (Indica si se utiliza el encogimiento) = True\n",
    "- Tol (Tolerancia para la convergencia del algoritmo de optimización) = 0.1"
   ]
  },
  {
   "cell_type": "markdown",
   "id": "a3e16e26-799d-4074-8890-92fa62aaca89",
   "metadata": {},
   "source": [
    "### Pregunta 9"
   ]
  },
  {
   "cell_type": "markdown",
   "id": "1d7566be-f4af-4ad4-ae63-dfa24350fe8d",
   "metadata": {},
   "source": [
    "##### Evaluación de Distintas Métricas en un Modelo de Clasificación Multiclase con Scikit-Learn\n",
    "\n",
    "- Elige y carga un dataset de Scikit-Learn que sea adecuado para una tarea de clasificación multiclase (o incluso el de las frutas de las primeras clases)\n",
    "- Divide el dataset en conjuntos de entrenamiento y prueba utilizando la función train_test_split\n",
    "- Utiliza un modelo KNN para clasificación\n",
    "- Entrena el modelo utilizando el conjunto de datos de entrenamiento\n",
    "- Utiliza distintas métricas de evaluación de clasificación adecuadas para clasificación multiclase, como la precisión, la sensibilidad (recall), la puntuación F1, la matriz de confusión, y el área bajo la curva ROC (AUC) para cada clase\n",
    "- Aplica estas métricas al modelo utilizando el conjunto de datos de prueba\n",
    "- Examina los resultados obtenidos para cada métrica\n",
    "- Considera la importancia de cada métrica en el contexto de tu problema específico de clasificación multiclase\n",
    "- Basándote en las métricas evaluadas, concluye sobre el rendimiento general del modelo en la tarea de clasificación multiclase"
   ]
  },
  {
   "cell_type": "markdown",
   "id": "156f0653",
   "metadata": {},
   "source": [
    "#### Elige y carga un dataset de Scikit-Learn que sea adecuado para una tarea de clasificación multiclase (o incluso el de las frutas de las primeras clases)"
   ]
  },
  {
   "cell_type": "markdown",
   "id": "d44587eb",
   "metadata": {},
   "source": [
    "Para este ejercicio se ha elegido el dataset iris, que contienen 3 tipos de flor, lo que hace posible crear un modelo de predicción multiclase a partir de este dataset"
   ]
  },
  {
   "cell_type": "code",
   "execution_count": 2,
   "id": "a3f739d5",
   "metadata": {},
   "outputs": [],
   "source": [
    "iris = datasets.load_iris() "
   ]
  },
  {
   "cell_type": "code",
   "execution_count": 3,
   "id": "bb23d8f0",
   "metadata": {},
   "outputs": [
    {
     "data": {
      "text/plain": [
       "array([0, 0, 0, 0, 0, 0, 0, 0, 0, 0, 0, 0, 0, 0, 0, 0, 0, 0, 0, 0, 0, 0,\n",
       "       0, 0, 0, 0, 0, 0, 0, 0, 0, 0, 0, 0, 0, 0, 0, 0, 0, 0, 0, 0, 0, 0,\n",
       "       0, 0, 0, 0, 0, 0, 1, 1, 1, 1, 1, 1, 1, 1, 1, 1, 1, 1, 1, 1, 1, 1,\n",
       "       1, 1, 1, 1, 1, 1, 1, 1, 1, 1, 1, 1, 1, 1, 1, 1, 1, 1, 1, 1, 1, 1,\n",
       "       1, 1, 1, 1, 1, 1, 1, 1, 1, 1, 1, 1, 2, 2, 2, 2, 2, 2, 2, 2, 2, 2,\n",
       "       2, 2, 2, 2, 2, 2, 2, 2, 2, 2, 2, 2, 2, 2, 2, 2, 2, 2, 2, 2, 2, 2,\n",
       "       2, 2, 2, 2, 2, 2, 2, 2, 2, 2, 2, 2, 2, 2, 2, 2, 2, 2])"
      ]
     },
     "execution_count": 3,
     "metadata": {},
     "output_type": "execute_result"
    }
   ],
   "source": [
    "# Visualización de las clases\n",
    "iris.target"
   ]
  },
  {
   "cell_type": "markdown",
   "id": "34cc91c8",
   "metadata": {},
   "source": [
    "#### Divide el dataset en conjuntos de entrenamiento y prueba utilizando la función train_test_split"
   ]
  },
  {
   "cell_type": "code",
   "execution_count": 4,
   "id": "77342c79",
   "metadata": {},
   "outputs": [],
   "source": [
    "X_train, X_test, y_train, y_test = train_test_split(iris.data, iris.target, stratify = iris.target)"
   ]
  },
  {
   "cell_type": "markdown",
   "id": "c8282f03",
   "metadata": {},
   "source": [
    "#### Utiliza un modelo KNN para clasificación"
   ]
  },
  {
   "cell_type": "code",
   "execution_count": 5,
   "id": "4fe4ef8a",
   "metadata": {},
   "outputs": [],
   "source": [
    "knn_iris = KNeighborsClassifier(n_neighbors=5)"
   ]
  },
  {
   "cell_type": "markdown",
   "id": "61832d3d",
   "metadata": {},
   "source": [
    "#### Entrena el modelo utilizando el conjunto de datos de entrenamiento"
   ]
  },
  {
   "cell_type": "code",
   "execution_count": 6,
   "id": "10d19944",
   "metadata": {},
   "outputs": [
    {
     "data": {
      "text/html": [
       "<style>#sk-container-id-1 {color: black;}#sk-container-id-1 pre{padding: 0;}#sk-container-id-1 div.sk-toggleable {background-color: white;}#sk-container-id-1 label.sk-toggleable__label {cursor: pointer;display: block;width: 100%;margin-bottom: 0;padding: 0.3em;box-sizing: border-box;text-align: center;}#sk-container-id-1 label.sk-toggleable__label-arrow:before {content: \"▸\";float: left;margin-right: 0.25em;color: #696969;}#sk-container-id-1 label.sk-toggleable__label-arrow:hover:before {color: black;}#sk-container-id-1 div.sk-estimator:hover label.sk-toggleable__label-arrow:before {color: black;}#sk-container-id-1 div.sk-toggleable__content {max-height: 0;max-width: 0;overflow: hidden;text-align: left;background-color: #f0f8ff;}#sk-container-id-1 div.sk-toggleable__content pre {margin: 0.2em;color: black;border-radius: 0.25em;background-color: #f0f8ff;}#sk-container-id-1 input.sk-toggleable__control:checked~div.sk-toggleable__content {max-height: 200px;max-width: 100%;overflow: auto;}#sk-container-id-1 input.sk-toggleable__control:checked~label.sk-toggleable__label-arrow:before {content: \"▾\";}#sk-container-id-1 div.sk-estimator input.sk-toggleable__control:checked~label.sk-toggleable__label {background-color: #d4ebff;}#sk-container-id-1 div.sk-label input.sk-toggleable__control:checked~label.sk-toggleable__label {background-color: #d4ebff;}#sk-container-id-1 input.sk-hidden--visually {border: 0;clip: rect(1px 1px 1px 1px);clip: rect(1px, 1px, 1px, 1px);height: 1px;margin: -1px;overflow: hidden;padding: 0;position: absolute;width: 1px;}#sk-container-id-1 div.sk-estimator {font-family: monospace;background-color: #f0f8ff;border: 1px dotted black;border-radius: 0.25em;box-sizing: border-box;margin-bottom: 0.5em;}#sk-container-id-1 div.sk-estimator:hover {background-color: #d4ebff;}#sk-container-id-1 div.sk-parallel-item::after {content: \"\";width: 100%;border-bottom: 1px solid gray;flex-grow: 1;}#sk-container-id-1 div.sk-label:hover label.sk-toggleable__label {background-color: #d4ebff;}#sk-container-id-1 div.sk-serial::before {content: \"\";position: absolute;border-left: 1px solid gray;box-sizing: border-box;top: 0;bottom: 0;left: 50%;z-index: 0;}#sk-container-id-1 div.sk-serial {display: flex;flex-direction: column;align-items: center;background-color: white;padding-right: 0.2em;padding-left: 0.2em;position: relative;}#sk-container-id-1 div.sk-item {position: relative;z-index: 1;}#sk-container-id-1 div.sk-parallel {display: flex;align-items: stretch;justify-content: center;background-color: white;position: relative;}#sk-container-id-1 div.sk-item::before, #sk-container-id-1 div.sk-parallel-item::before {content: \"\";position: absolute;border-left: 1px solid gray;box-sizing: border-box;top: 0;bottom: 0;left: 50%;z-index: -1;}#sk-container-id-1 div.sk-parallel-item {display: flex;flex-direction: column;z-index: 1;position: relative;background-color: white;}#sk-container-id-1 div.sk-parallel-item:first-child::after {align-self: flex-end;width: 50%;}#sk-container-id-1 div.sk-parallel-item:last-child::after {align-self: flex-start;width: 50%;}#sk-container-id-1 div.sk-parallel-item:only-child::after {width: 0;}#sk-container-id-1 div.sk-dashed-wrapped {border: 1px dashed gray;margin: 0 0.4em 0.5em 0.4em;box-sizing: border-box;padding-bottom: 0.4em;background-color: white;}#sk-container-id-1 div.sk-label label {font-family: monospace;font-weight: bold;display: inline-block;line-height: 1.2em;}#sk-container-id-1 div.sk-label-container {text-align: center;}#sk-container-id-1 div.sk-container {/* jupyter's `normalize.less` sets `[hidden] { display: none; }` but bootstrap.min.css set `[hidden] { display: none !important; }` so we also need the `!important` here to be able to override the default hidden behavior on the sphinx rendered scikit-learn.org. See: https://github.com/scikit-learn/scikit-learn/issues/21755 */display: inline-block !important;position: relative;}#sk-container-id-1 div.sk-text-repr-fallback {display: none;}</style><div id=\"sk-container-id-1\" class=\"sk-top-container\"><div class=\"sk-text-repr-fallback\"><pre>KNeighborsClassifier()</pre><b>In a Jupyter environment, please rerun this cell to show the HTML representation or trust the notebook. <br />On GitHub, the HTML representation is unable to render, please try loading this page with nbviewer.org.</b></div><div class=\"sk-container\" hidden><div class=\"sk-item\"><div class=\"sk-estimator sk-toggleable\"><input class=\"sk-toggleable__control sk-hidden--visually\" id=\"sk-estimator-id-1\" type=\"checkbox\" checked><label for=\"sk-estimator-id-1\" class=\"sk-toggleable__label sk-toggleable__label-arrow\">KNeighborsClassifier</label><div class=\"sk-toggleable__content\"><pre>KNeighborsClassifier()</pre></div></div></div></div></div>"
      ],
      "text/plain": [
       "KNeighborsClassifier()"
      ]
     },
     "execution_count": 6,
     "metadata": {},
     "output_type": "execute_result"
    }
   ],
   "source": [
    "knn_iris.fit(X_train, y_train) "
   ]
  },
  {
   "cell_type": "markdown",
   "id": "34ee93b4",
   "metadata": {},
   "source": [
    "#### Utiliza distintas métricas de evaluación de clasificación adecuadas para clasificación multiclase, como la precisión, la sensibilidad (recall), la puntuación F1, la matriz de confusión, y el área bajo la curva ROC (AUC) para cada clase\n",
    "\n",
    "#### Aplica estas métricas al modelo utilizando el conjunto de datos de prueba"
   ]
  },
  {
   "cell_type": "markdown",
   "id": "9934794b",
   "metadata": {},
   "source": [
    "Se van a utilizar todas las métricas mencionadas por el enunciado. Lo primero que hay que hacer, sería importar el paquete $metrics$, que incluye todas estas métricas:"
   ]
  },
  {
   "cell_type": "code",
   "execution_count": 8,
   "id": "965845d3",
   "metadata": {},
   "outputs": [],
   "source": [
    "from sklearn import metrics"
   ]
  },
  {
   "cell_type": "markdown",
   "id": "1bf83745",
   "metadata": {},
   "source": [
    "Después habrá que predecir tanto resultados, como probabilidades del modelo usando los métodos $predict$ y $predict$_ $proba$ sobre el modelo entrenado usando el conjunto de test:"
   ]
  },
  {
   "cell_type": "code",
   "execution_count": 29,
   "id": "bae8995c",
   "metadata": {},
   "outputs": [],
   "source": [
    "y_pred = knn_iris.predict(X_test) # Predicción del modelo usando el conjunto de test\n",
    "y_prob = knn_iris.predict_proba(X_test)# Probabilidades del modelo usando el conjunto de test"
   ]
  },
  {
   "cell_type": "markdown",
   "id": "1e4073c0",
   "metadata": {},
   "source": [
    "Ahora ya se pueden calcular las diferentes métricas, comenzando por la precisión. Para ello, se utilizará el mismo método dos veces, la primera vez para calcular la precisión media de todas las clases, y después la precisión por cada clase. Esto se consigue cambiando el parámetro $average$ a None de este método $precision$_ $score$ como se ve en la siguiente celda:"
   ]
  },
  {
   "cell_type": "code",
   "execution_count": 30,
   "id": "8b740bae",
   "metadata": {},
   "outputs": [],
   "source": [
    "# Precisión\n",
    "precision = metrics.precision_score(y_test, y_pred, average='macro')\n",
    "precision_class = metrics.precision_score(y_test, y_pred, average=None)"
   ]
  },
  {
   "cell_type": "markdown",
   "id": "cc13e52e",
   "metadata": {},
   "source": [
    "Para la sensibilidad y puntuación F1 se va a realizar el mismo proceso, ya que los métodos $recall$_ $score$ y $f1$_ $score$ también aceptan el cambio de parámetro de average a none, que permite saber los resultados de cada métrica por clase:"
   ]
  },
  {
   "cell_type": "code",
   "execution_count": 31,
   "id": "0ef9b4a3",
   "metadata": {},
   "outputs": [],
   "source": [
    "# Sensibilidad\n",
    "recall = metrics.recall_score(y_test, y_pred, average='macro')\n",
    "recall_class = metrics.recall_score(y_test, y_pred, average=None)"
   ]
  },
  {
   "cell_type": "code",
   "execution_count": 32,
   "id": "2a7f78dd",
   "metadata": {},
   "outputs": [],
   "source": [
    "# Puntuación F1\n",
    "f1 = metrics.f1_score(y_test, y_pred, average='macro')\n",
    "f1_class = metrics.f1_score(y_test, y_pred, average=None)"
   ]
  },
  {
   "cell_type": "markdown",
   "id": "43804937",
   "metadata": {},
   "source": [
    "Para construir la matriz de construcción se tiene que utilizar el método $confusion$_ $matrix$, como se ve en la siguiente celda:"
   ]
  },
  {
   "cell_type": "code",
   "execution_count": 12,
   "id": "72af7bff",
   "metadata": {},
   "outputs": [],
   "source": [
    "# Matriz de confusión\n",
    "confusion_matrix = metrics.confusion_matrix(y_test, y_pred)"
   ]
  },
  {
   "cell_type": "markdown",
   "id": "d3fdceff",
   "metadata": {},
   "source": [
    "Por último, para calcular el AUC por cada clase, hay que crear un bucle, ya que no existe ninguna función que lo haga automáticamente.\n",
    "\n",
    "La siguiente celda realiza los siguientes pasos: \n",
    "- Calcular el número de clases que contiene el dataset\n",
    "- Crear una lista donde se almacenarán, en este caso, el AUC de las 3 clases\n",
    "- Se crea un bucle que irá clase a clase calculando el AUC\n",
    "- El primer paso del bucle es obtener una lista que contiene valores 0 y 1, donde 1 indica que el dato es de la clase de la que se está calculando el AUC\n",
    "- Después se obtienen las probabilidades de estos valores de la clase, necesarias para el calculo del AUC\n",
    "- Ahora se calcula el AUC con el método $roc$_ $auc$_ $score$ \n",
    "- Por último, se incluye este resultado a la lista creada anteriormente"
   ]
  },
  {
   "cell_type": "code",
   "execution_count": 23,
   "id": "9fa4c498",
   "metadata": {},
   "outputs": [],
   "source": [
    "# AUC para cada clase\n",
    "n_classes = len(np.unique(y_train)) # Se saca el número de clases del dataset\n",
    "auc_scores = [] # Lista donde se almacena los AUC\n",
    "\n",
    "for i in range(n_classes): # Bucle que calcula el AUC para cada clase\n",
    "    y_class = (y_test == i).astype(int) # Esta linea decide si cada valor es de la clase de la que se esta calculando el AUC\n",
    "    y_prob_i = y_prob[:, i] # Probabilidades predichas por el modelo por cada clase\n",
    "    auc_i = metrics.roc_auc_score(y_class, y_prob_i) # Calculo del área bajo la curva ROC (AUC)\n",
    "    auc_scores.append(auc_i) # Se incluye el AUC a la lista de resultados"
   ]
  },
  {
   "cell_type": "markdown",
   "id": "bf41270c",
   "metadata": {},
   "source": [
    "#### Examina los resultados obtenidos para cada métrica"
   ]
  },
  {
   "cell_type": "markdown",
   "id": "6d5e913e",
   "metadata": {},
   "source": [
    "Ahora ya con todas las métricas calculadas, se puede proceder a sacar conclusiones sobre las mismas:"
   ]
  },
  {
   "cell_type": "code",
   "execution_count": 34,
   "id": "87468055",
   "metadata": {},
   "outputs": [
    {
     "name": "stdout",
     "output_type": "stream",
     "text": [
      "Media precisión: 0.9487179487179488 \n",
      "\n",
      "Precisión por clase: [1.         0.92307692 0.92307692] \n",
      "\n"
     ]
    }
   ],
   "source": [
    "print(\"Media precisión:\", precision, '\\n')\n",
    "print(\"Precisión por clase:\", precision_class, '\\n')"
   ]
  },
  {
   "cell_type": "code",
   "execution_count": 33,
   "id": "a6d3f8a7",
   "metadata": {},
   "outputs": [
    {
     "name": "stdout",
     "output_type": "stream",
     "text": [
      "Media sensibilidad: 0.9487179487179488 \n",
      "\n",
      "Sensibilidad por clase: [1.         0.92307692 0.92307692] \n",
      "\n"
     ]
    }
   ],
   "source": [
    "print(\"Media sensibilidad:\", recall, '\\n')\n",
    "print(\"Sensibilidad por clase:\", recall_class, '\\n')"
   ]
  },
  {
   "cell_type": "code",
   "execution_count": 35,
   "id": "8560a1e7",
   "metadata": {},
   "outputs": [
    {
     "name": "stdout",
     "output_type": "stream",
     "text": [
      "Puntuación media F1: 0.9487179487179488 \n",
      "\n",
      "Puntuación F1 por clase: [1.         0.92307692 0.92307692] \n",
      "\n"
     ]
    }
   ],
   "source": [
    "print(\"Puntuación media F1:\", f1, '\\n')\n",
    "print(\"Puntuación F1 por clase:\", f1_class, '\\n')"
   ]
  },
  {
   "cell_type": "markdown",
   "id": "95a4c370",
   "metadata": {},
   "source": [
    "La conclusión de la precisión, sensibilidad y score F1 es la misma, ya que se ha obtenido el mejor resultado, media de 94.87%, donde la primera clase tiene un 100% en las 3 métricas, y las otras dos clases un 92.3%.\n",
    "\n",
    "Esto quiere decir que el modelo es capaz de predecir a la perfección la primera clase, pero en las otras dos falla más. No es un fallo muy grande, pero dependiendo del contexto puede ser significativo."
   ]
  },
  {
   "cell_type": "code",
   "execution_count": 17,
   "id": "520887f4",
   "metadata": {},
   "outputs": [
    {
     "name": "stdout",
     "output_type": "stream",
     "text": [
      "Matriz de confusión: \n",
      " [[12  0  0]\n",
      " [ 0 12  1]\n",
      " [ 0  1 12]] \n",
      "\n"
     ]
    }
   ],
   "source": [
    "print(\"Matriz de confusión:\",\"\\n\", confusion_matrix,\"\\n\")"
   ]
  },
  {
   "cell_type": "markdown",
   "id": "bdc45e82",
   "metadata": {},
   "source": [
    "Con la matriz de confusión se puede observar donde se ha fallado, y como se sabía de antes, se ha obtenido fallos en la clase 1 y la clase 2, donde el modelo ha identificado 1 vez un clase 1 como clase 2, y un clase 2 como un clase 1."
   ]
  },
  {
   "cell_type": "code",
   "execution_count": 18,
   "id": "3a270206",
   "metadata": {},
   "outputs": [
    {
     "name": "stdout",
     "output_type": "stream",
     "text": [
      "AUC Clase 0:  1.0 \n",
      "\n",
      "AUC Clase 1:  0.9738461538461538 \n",
      "\n",
      "AUC Clase 2:  0.9553846153846155\n"
     ]
    }
   ],
   "source": [
    "print('AUC Clase 0: ', auc_scores[0],'\\n')\n",
    "print('AUC Clase 1: ', auc_scores[1],'\\n')\n",
    "print('AUC Clase 2: ', auc_scores[2])"
   ]
  },
  {
   "cell_type": "markdown",
   "id": "903006c5",
   "metadata": {},
   "source": [
    "Por último, el AUC sigue la dinámica anterior, la clase 0 es la que mejor resultado tiene. En este caso, la clase 1 obtiene unos resultados ligeramente superiores a los de la clase 2, aunque es una diferencia pequeña."
   ]
  },
  {
   "cell_type": "markdown",
   "id": "91b976e4",
   "metadata": {},
   "source": [
    "#### Considera la importancia de cada métrica en el contexto de tu problema específico de clasificación multiclase"
   ]
  },
  {
   "cell_type": "markdown",
   "id": "c94fcd14",
   "metadata": {},
   "source": [
    "- Precisión: Esta métrica mide la cantidad de veces que el modelo ha predicho correctamente, en este caso, la clase de vino. Esta métrica es importante ya que nos indica si el modelo tiene una buena o mala capacidad predictiva.\n",
    "\n",
    "- Sensibilidad: La sensibilidad mide la proporción de verdaderos positivos identificados correctamente por el modelo. Se diferencia con la precisión en que esta se calcula dividiendo los verdaderos positivos entre la suma de verdaderos positivos y falsos positivos, mientras que la sensibilidad se calcula dividiendo los verdaderos positivos, entre la suma de verdaderos positivos y falsos negativos.\n",
    "\n",
    "- Puntuación F1: Es la media entre precisión y sensibilidad. Es una forma de visualizar rápidamente el resultado de las dos métricas sin tener que profundizar en cada una. En el caso de la clasificación de vinos, creo que es la métrica más eficiente, ya que se quiere tener un equilibrio entre precisión y sensibilidad.\n",
    "\n",
    "- Matriz de confusión: Permite visualizar gráficamente los aciertos y los errores de cada clase. La importancia de esta métrica, es que se puede visualizar concretamente dónde el modelo está fallando, que clases está confundiendo con otras, para posteriormente poder realizar ajustes y mejorar el modelo.\n",
    "\n",
    "- AUC: El área bajo la Curva ROC evalua la capacidad que tiene el modelo diferenciando clases. Cuanto más alto sea el AUC, mejor rendimiento tiene el modelo clasificando los vinos."
   ]
  },
  {
   "cell_type": "markdown",
   "id": "a57f9650",
   "metadata": {},
   "source": [
    "#### Basándote en las métricas evaluadas, concluye sobre el rendimiento general del modelo en la tarea de clasificación multiclase"
   ]
  },
  {
   "cell_type": "markdown",
   "id": "62650c9b",
   "metadata": {},
   "source": [
    "El rendimiento del modelo es muy bueno, ya que este es capaz de clasificar los tipos de vino de una forma muy correcta, fallando solo 2 veces con el conjunto de test.\n",
    "\n",
    "Esto deja un margen de mejora, ya que siempre se pueden analizar las métricas calculadas para poder realizar cambios en el modelo, pero se puede concluir en que el modelo es fiable y útil, pero mejorable."
   ]
  }
 ],
 "metadata": {
  "kernelspec": {
   "display_name": "Python 3 (ipykernel)",
   "language": "python",
   "name": "python3"
  },
  "language_info": {
   "codemirror_mode": {
    "name": "ipython",
    "version": 3
   },
   "file_extension": ".py",
   "mimetype": "text/x-python",
   "name": "python",
   "nbconvert_exporter": "python",
   "pygments_lexer": "ipython3",
   "version": "3.11.5"
  }
 },
 "nbformat": 4,
 "nbformat_minor": 5
}
